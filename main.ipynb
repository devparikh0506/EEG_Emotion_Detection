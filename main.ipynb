{
 "cells": [
  {
   "cell_type": "markdown",
   "id": "8324cb64",
   "metadata": {},
   "source": [
    "# Emotion recognition using Deep Recurrent Neural Network"
   ]
  },
  {
   "cell_type": "markdown",
   "id": "29899d7f",
   "metadata": {},
   "source": [
    "## Datasource \n",
    "original source: https://www.eecs.qmul.ac.uk/mmv/datasets/deap/\n",
    "\n",
    "cloned version for easy access: https://umbc.app.box.com/s/dwd0cjorv2mgza78x69l9ptiborzko01\n",
    "\n",
    "\n",
    "(Note: For this project we are going to use `data_preprocessed_python.zip` file.)\n",
    "\n",
    "Instructions:\n",
    "- Download the `data_preprocessed_python.zip` file and extract it inside `data` folder\n",
    "- Download the `participant_ratings.csv` file and place in inside `data/DEAP/labels` folder\n",
    "- Run `pip install -r requirements.txt`\n",
    "- Run `python  ./scripts/preprocess.py` (This will preprocess the raw data and create `bio_normalized` folder to store the preprocessed data)"
   ]
  },
  {
   "cell_type": "code",
   "execution_count": 20,
   "id": "03cf1cf9",
   "metadata": {},
   "outputs": [],
   "source": [
    "# import os\n",
    "# os.environ[\"KMP_DUPLICATE_LIB_OK\"]=\"TRUE\""
   ]
  },
  {
   "cell_type": "markdown",
   "id": "0547bfe1",
   "metadata": {},
   "source": [
    "## 🧠 DEAP EEG Dataset Preprocessing Pipeline\n",
    "\n",
    "To prepare the DEAP EEG dataset for deep learning models, we implement a customized preprocessing pipeline using PyTorch. This includes normalization, label transformation into discrete classes, dataset splitting, and data augmentation.\n",
    "\n",
    "---\n",
    "\n",
    "### 🔍 Preprocessing Overview\n",
    "\n",
    "#### 1. **Input Data Structure**\n",
    "- EEG signals are stored as `.npy` files in the shape of `[32, 128]` (1-second segment at 128 Hz).\n",
    "- Each subject has 40 trials, each trial is divided into 60 segments.\n",
    "- Labels (Valence, Arousal) are retrieved from a CSV file and mapped using `(subject_id, trial_id)`.\n",
    "\n",
    "---\n",
    "\n",
    "#### 2. **Normalization**\n",
    "- Each EEG segment is converted to `float32` and normalized per channel.\n",
    "- Z-score normalization is implicitly applied during training.\n",
    "- Additional filtering or preprocessing (e.g., bandpass filter) can be included before loading if required.\n",
    "\n",
    "---\n",
    "\n",
    "### 3. **Label Conversion**\n",
    "Labels are determined based on the `label_type` parameter:\n",
    "\n",
    "- **Valence-only**: Binary classification  \n",
    "  - `0` if valence < 5  \n",
    "  - `1` if valence ≥ 5  \n",
    "\n",
    "- **Arousal-only**: Binary classification  \n",
    "  - `0` if arousal < 5  \n",
    "  - `1` if arousal ≥ 5  \n",
    "\n",
    "- **Combined (4-Class Classification)**: Based on valence and arousal combinations:\n",
    "\n",
    "| Valence | Arousal | Emotion Class     | Label |\n",
    "|---------|---------|-------------------|-------|\n",
    "| High    | High    | Excited/Happy     | 0     |\n",
    "| High    | Low     | Relaxed           | 1     |\n",
    "| Low     | High    | Angry             | 2     |\n",
    "| Low     | Low     | Sad               | 3     |\n",
    "\n",
    "> **Note**: High = score ≥ 5, Low = score < 5\n",
    "\n",
    "---\n",
    "\n",
    "### 4. **Dataset Construction**\n",
    "- EEG segments are loaded using `load_deap_dataset()` for all selected subjects and trials.\n",
    "- Each EEG segment is stored along with its:\n",
    "  - Preprocessed EEG tensor\n",
    "  - Classification label (0–3)\n",
    "  - Raw valence/arousal score\n",
    "\n",
    "- The dataset is split using `train_test_split()`:\n",
    "  - Stratified sampling is used for class balance\n",
    "  - Default: 70% training, 30% validation\n",
    "\n",
    "---\n",
    "\n",
    "### 5. **Data Augmentation**\n",
    "- The custom `DEAP` PyTorch `Dataset` class supports optional augmentation.\n",
    "- If `augment=True`, EEG segments are randomly modified using `augment_eeg()` (e.g., segment mixing, noise injection).\n",
    "- Augmentation is only applied during training.\n",
    "\n",
    "---\n",
    "\n",
    "### ✅ Dataset Generation Functions\n",
    "\n",
    "- `create_train_val_datasets(label_type, label_path, bio_path, subjects, ...)`\n",
    "  - Splits the full dataset into train/val.\n",
    "  - Returns `train_dataset`, `val_dataset`.\n",
    "  - Optionally saves `.pt` files.\n",
    "\n",
    "- `create_test_dataset(label_type, label_path, bio_path, subjects)`\n",
    "  - Returns the test dataset for held-out subjects.\n",
    "\n",
    "---\n",
    "\n",
    "This pipeline ensures that EEG inputs are properly structured, normalized, and split to facilitate effective training of deep learning models on the DEAP dataset.\n"
   ]
  },
  {
   "cell_type": "code",
   "execution_count": 1,
   "id": "9fd68cef",
   "metadata": {},
   "outputs": [
    {
     "name": "stdout",
     "output_type": "stream",
     "text": [
      "Using device: cuda\n"
     ]
    }
   ],
   "source": [
    "import pandas as pd\n",
    "import numpy as np\n",
    "from utils.torch_utils import initialize_torch\n",
    "from configs.runtime import device\n",
    "initialize_torch()"
   ]
  },
  {
   "cell_type": "code",
   "execution_count": null,
   "id": "92aee8f4",
   "metadata": {},
   "outputs": [
    {
     "data": {
      "application/vnd.jupyter.widget-view+json": {
       "model_id": "0c02a5afd5b04c2f9dbd2bbca8553140",
       "version_major": 2,
       "version_minor": 0
      },
      "text/plain": [
       "Loading subject 1:   0%|          | 0/40 [00:00<?, ?it/s]"
      ]
     },
     "metadata": {},
     "output_type": "display_data"
    },
    {
     "data": {
      "application/vnd.jupyter.widget-view+json": {
       "model_id": "bae84944fa0f4e8596e2ea68a0cc148c",
       "version_major": 2,
       "version_minor": 0
      },
      "text/plain": [
       "Loading subject 2:   0%|          | 0/40 [00:00<?, ?it/s]"
      ]
     },
     "metadata": {},
     "output_type": "display_data"
    },
    {
     "data": {
      "application/vnd.jupyter.widget-view+json": {
       "model_id": "e47a75c2d7274737914965426f18b3fe",
       "version_major": 2,
       "version_minor": 0
      },
      "text/plain": [
       "Loading subject 1:   0%|          | 0/40 [00:00<?, ?it/s]"
      ]
     },
     "metadata": {},
     "output_type": "display_data"
    },
    {
     "data": {
      "application/vnd.jupyter.widget-view+json": {
       "model_id": "2af2cd3df0ce4f4d928783819c661fc1",
       "version_major": 2,
       "version_minor": 0
      },
      "text/plain": [
       "Loading subject 2:   0%|          | 0/40 [00:00<?, ?it/s]"
      ]
     },
     "metadata": {},
     "output_type": "display_data"
    }
   ],
   "source": [
    "from datasets.deap import create_train_val_datasets\n",
    "\n",
    "train_val_eeg, val_val_eeg = create_train_val_datasets(\n",
    "    label_type='valence',\n",
    "    label_path='./data/DEAP/labels',\n",
    "    bio_path='./data/DEAP/bio_normalized',\n",
    "    subjects=list(range(1,31)),\n",
    "    save_datasets=True,\n",
    "    dataset_path='datasets/valence_temp'\n",
    ")\n",
    "\n",
    "train_aro_eeg, val_aro_eeg = create_train_val_datasets(\n",
    "    label_type='arousal',\n",
    "    label_path='./data/DEAP/labels',\n",
    "    bio_path='./data/DEAP/bio_normalized',\n",
    "    subjects=list(range(1,31)),\n",
    "    save_datasets=True,\n",
    "    dataset_path='datasets/arousal_temp'\n",
    ")"
   ]
  },
  {
   "cell_type": "code",
   "execution_count": 4,
   "id": "86716092",
   "metadata": {},
   "outputs": [
    {
     "data": {
      "text/plain": [
       "(3024, 1296)"
      ]
     },
     "execution_count": 4,
     "metadata": {},
     "output_type": "execute_result"
    }
   ],
   "source": [
    "len(train_val_eeg), len(val_val_eeg)"
   ]
  },
  {
   "cell_type": "code",
   "execution_count": 5,
   "id": "e2b5dfe7",
   "metadata": {},
   "outputs": [
    {
     "data": {
      "text/plain": [
       "(2688, 1152)"
      ]
     },
     "execution_count": 5,
     "metadata": {},
     "output_type": "execute_result"
    }
   ],
   "source": [
    "len(train_aro_eeg), len(val_aro_eeg)"
   ]
  },
  {
   "cell_type": "code",
   "execution_count": 7,
   "id": "ecf411a5",
   "metadata": {},
   "outputs": [
    {
     "name": "stdout",
     "output_type": "stream",
     "text": [
      "Train label distribution:\n",
      "  Label 0: 1512 samples (50.00%)\n",
      "  Label 1: 1512 samples (50.00%)\n",
      "\n",
      "Validation label distribution:\n",
      "  Label 0: 648 samples (50.00%)\n",
      "  Label 1: 648 samples (50.00%)\n",
      "\n"
     ]
    }
   ],
   "source": [
    "from collections import Counter\n",
    "\n",
    "def print_label_distribution(dataset, name):\n",
    "    labels = []\n",
    "    for i in range(len(dataset)):\n",
    "        data = dataset[i]\n",
    "        if data is not None:\n",
    "            _, label, _ = data\n",
    "            labels.append(int(label.item()))\n",
    "    counter = Counter(labels)\n",
    "    total = sum(counter.values())\n",
    "    print(f\"{name} label distribution:\")\n",
    "    for label, count in sorted(counter.items()):\n",
    "        print(f\"  Label {label}: {count} samples ({count/total:.2%})\")\n",
    "    print()\n",
    "\n",
    "# Call the function on each dataset\n",
    "print_label_distribution(train_val_eeg, \"Train\")\n",
    "print_label_distribution(val_val_eeg, \"Validation\")"
   ]
  },
  {
   "cell_type": "markdown",
   "id": "6d2227b6",
   "metadata": {},
   "source": [
    "## Let's plot distribution of Valance and Arousel"
   ]
  },
  {
   "cell_type": "code",
   "execution_count": 8,
   "id": "d3f732a2",
   "metadata": {},
   "outputs": [
    {
     "data": {
      "image/png": "[encoded data removed]",
      "text/plain": [
       "<Figure size 1200x600 with 2 Axes>"
      ]
     },
     "metadata": {},
     "output_type": "display_data"
    }
   ],
   "source": [
    "import matplotlib.pyplot as plt\n",
    "import pandas as pd\n",
    "\n",
    "# For 32 subjects × 40 trials × 60 segments\n",
    "\n",
    "\n",
    "def plot_label_histograms(labels_csv = \"./data/DEAP/labels/participant_ratings.csv\"):\n",
    "    val_aro_list = []\n",
    "    df  = pd.read_csv(labels_csv)\n",
    "    for _, row in df.iterrows():\n",
    "        val = row['Valence']\n",
    "        aro = row['Arousal']\n",
    "        val_aro_list.extend([[val, aro]] * 60)  # Repeat for 60 segments\n",
    "\n",
    "    valence_arousal_array = np.array(val_aro_list)\n",
    "    label_names = ['Valence', 'Arousal']\n",
    "    plt.figure(figsize=(12, 6))\n",
    "    for i in range(2):\n",
    "        plt.subplot(2, 2, i + 1)\n",
    "        plt.hist(valence_arousal_array[:, i], bins=20, color='skyblue', edgecolor='black')\n",
    "        plt.title(f'{label_names[i]} Distribution')\n",
    "        plt.xlabel('Score')\n",
    "        plt.ylabel('Frequency')\n",
    "    plt.tight_layout()\n",
    "\n",
    "plot_label_histograms()"
   ]
  },
  {
   "cell_type": "markdown",
   "id": "72f25354",
   "metadata": {},
   "source": [
    "## Plotting emotion distribution"
   ]
  },
  {
   "cell_type": "code",
   "execution_count": 9,
   "id": "08f7ebfd",
   "metadata": {},
   "outputs": [
    {
     "data": {
      "image/png": "[encoded data removed]",
      "text/plain": [
       "<Figure size 800x600 with 1 Axes>"
      ]
     },
     "metadata": {},
     "output_type": "display_data"
    }
   ],
   "source": [
    "def plot_emotions(labels_csv = \"./data/DEAP/labels/participant_ratings.csv\"):\n",
    "    val_aro_list = []\n",
    "    df  = pd.read_csv(labels_csv)\n",
    "    for _, row in df.iterrows():\n",
    "        val = row['Valence']\n",
    "        aro = row['Arousal']\n",
    "        val_aro_list.extend([[val, aro]] * 60)  # Repeat for 60 segments\n",
    "\n",
    "    valence_arousal_array = np.array(val_aro_list)\n",
    "    valence = valence_arousal_array[:, 0]\n",
    "    arousal = valence_arousal_array[:, 1]\n",
    "\n",
    "    def create_4class_labels(valence, arousal):\n",
    "        classes = []\n",
    "        for v, a in zip(valence, arousal):\n",
    "            if v > 5 and a > 5:\n",
    "                classes.append(0)  # Excited/Happy\n",
    "            elif v <= 5 and a > 5:\n",
    "                classes.append(1)  # Angry\n",
    "            elif v <= 5 and a <= 5:\n",
    "                classes.append(2)  # Sad\n",
    "            else:\n",
    "                classes.append(3)  # Relaxed\n",
    "        return np.array(classes)\n",
    "\n",
    "    emotion_classes = create_4class_labels(valence, arousal)\n",
    "    class_names = [\"Excited/Happy\", \"Angry\", \"Sad\", \"Relaxed\"]\n",
    "    colors = [\"gold\", \"red\", \"blue\", \"green\"]\n",
    "\n",
    "    # Plot\n",
    "    plt.figure(figsize=(8, 6))\n",
    "    for cls in range(4):\n",
    "        idx = emotion_classes == cls\n",
    "        plt.scatter(valence[idx], arousal[idx], label=class_names[cls], alpha=0.6, s=30, color=colors[cls])\n",
    "\n",
    "    plt.axhline(y=5, color='black', linestyle='--', linewidth=0.8)\n",
    "    plt.axvline(x=5, color='black', linestyle='--', linewidth=0.8)\n",
    "    plt.xlabel(\"Valence\")\n",
    "    plt.ylabel(\"Arousal\")\n",
    "    plt.title(\"Valence vs Arousal Cluster Plot (DEAP)\")\n",
    "    plt.legend()\n",
    "    plt.grid(True)\n",
    "    plt.show()\n",
    "\n",
    "plot_emotions()"
   ]
  },
  {
   "cell_type": "markdown",
   "id": "607875f7",
   "metadata": {},
   "source": [
    "## Plotting signals from first 4 channels for first trial"
   ]
  },
  {
   "cell_type": "code",
   "execution_count": 10,
   "id": "d5c78116",
   "metadata": {},
   "outputs": [
    {
     "data": {
      "image/png": "[encoded data removed]",
      "text/plain": [
       "<Figure size 1200x600 with 4 Axes>"
      ]
     },
     "metadata": {},
     "output_type": "display_data"
    }
   ],
   "source": [
    "def plot_eeg_sample(data, labels, channels=[0, 1, 2]):\n",
    "    seconds = 1\n",
    "    sampling_rate = 128\n",
    "    time = np.linspace(0, seconds, seconds * sampling_rate)\n",
    "    plt.figure(figsize=(12, 6))\n",
    "    for i, ch in enumerate(channels):\n",
    "        plt.subplot(len(channels), 1, i + 1)\n",
    "        plt.plot(time, data[ch, :seconds * sampling_rate])\n",
    "        plt.title(f'Channel {ch}')\n",
    "        plt.xlabel('Time (s)')\n",
    "        plt.ylabel('Amplitude')\n",
    "    plt.suptitle(f\"Activity in EEG channels {channels} for Valance({labels[0]}) & Arousel ({labels[1]}) \")\n",
    "    plt.tight_layout()\n",
    "    plt.show()\n",
    "\n",
    "data = train_val_eeg[0][0]\n",
    "labels = train_val_eeg[0][2]\n",
    "# \n",
    "plot_eeg_sample(data, labels, channels=[0,1,2,3])\n"
   ]
  },
  {
   "cell_type": "markdown",
   "id": "4fb5e922",
   "metadata": {},
   "source": [
    "## Model initialization\n",
    "\n",
    "For this project we decided to use modified Chrononet which is a A Deep Recurrent Neural Network"
   ]
  },
  {
   "attachments": {
    "image.png": {
     "image/png": "[encoded data removed]"
    }
   },
   "cell_type": "markdown",
   "id": "d175df3c",
   "metadata": {},
   "source": [
    "Original model:\n",
    "\n",
    "![image.png](attachment:image.png)\n",
    "\n",
    "Reference : (https://arxiv.org/pdf/1802.00308)"
   ]
  },
  {
   "cell_type": "code",
   "execution_count": 11,
   "id": "68ada087",
   "metadata": {},
   "outputs": [],
   "source": [
    "from models.chrononet import ChronoNet\n",
    "from torch import nn\n",
    "import torch\n",
    "from utils.early_stopping import EarlyStopping\n",
    "from scripts.train import run_training"
   ]
  },
  {
   "cell_type": "markdown",
   "id": "f98bf918",
   "metadata": {},
   "source": [
    "### 📊 ChronoNet Hyperparameters – Arousal Classification\n",
    "\n",
    "| Hyperparameter         | Value                                                 |\n",
    "|------------------------|-------------------------------------------------------|\n",
    "| Model                  | ChronoNet                                              |\n",
    "| Input Channels         | 32                                                    |\n",
    "| Conv Output Channels   | 32                                                    |\n",
    "| GRU Hidden Size        | 64                                                    |\n",
    "| Loss Function          | BCEWithLogitsLoss                                     |\n",
    "| Optimizer              | AdamW                                                 |\n",
    "| Learning Rate          | 1e-3                                                  |\n",
    "| Weight Decay           | 1e-4                                                  |\n",
    "| LR Scheduler           | ReduceLROnPlateau (patience=3, mode='min')           |\n",
    "| Early Stopping         | Patience = 20 (mode='max')                            |\n",
    "| Batch Size             | 32                                                    |\n",
    "| Epochs                 | 100                                                   |\n",
    "| Checkpoint Path        | `checkpoints/chrononet_aro`                           |\n",
    "| Result CSV             | `results/history_aro.csv`                             |"
   ]
  },
  {
   "cell_type": "code",
   "execution_count": 12,
   "id": "1112f073",
   "metadata": {},
   "outputs": [
    {
     "data": {
      "application/vnd.jupyter.widget-view+json": {
       "model_id": "78eb6040827b4c93b1b1580a6464ead3",
       "version_major": 2,
       "version_minor": 0
      },
      "text/plain": [
       "Epochs:   0%|          | 0/100 [00:00<?, ?it/s]"
      ]
     },
     "metadata": {},
     "output_type": "display_data"
    },
    {
     "data": {
      "application/vnd.jupyter.widget-view+json": {
       "model_id": "2a31e4ea5ee844da8e58c9d45a89769a",
       "version_major": 2,
       "version_minor": 0
      },
      "text/plain": [
       "Training...:   0%|          | 0/84 [00:00<?, ?it/s]"
      ]
     },
     "metadata": {},
     "output_type": "display_data"
    },
    {
     "data": {
      "application/vnd.jupyter.widget-view+json": {
       "model_id": "bee96d5253cf461c890b3c1e60d266dd",
       "version_major": 2,
       "version_minor": 0
      },
      "text/plain": [
       "Validating..:   0%|          | 0/36 [00:00<?, ?it/s]"
      ]
     },
     "metadata": {},
     "output_type": "display_data"
    },
    {
     "data": {
      "application/vnd.jupyter.widget-view+json": {
       "model_id": "00bf5588e6e44921b74664b2c1890f70",
       "version_major": 2,
       "version_minor": 0
      },
      "text/plain": [
       "Training...:   0%|          | 0/84 [00:00<?, ?it/s]"
      ]
     },
     "metadata": {},
     "output_type": "display_data"
    },
    {
     "data": {
      "application/vnd.jupyter.widget-view+json": {
       "model_id": "dcd9e3b3128a4079965c3f166961702a",
       "version_major": 2,
       "version_minor": 0
      },
      "text/plain": [
       "Validating..:   0%|          | 0/36 [00:00<?, ?it/s]"
      ]
     },
     "metadata": {},
     "output_type": "display_data"
    },
    {
     "data": {
      "application/vnd.jupyter.widget-view+json": {
       "model_id": "9abd36265c784940b9a8e00875f24b69",
       "version_major": 2,
       "version_minor": 0
      },
      "text/plain": [
       "Training...:   0%|          | 0/84 [00:00<?, ?it/s]"
      ]
     },
     "metadata": {},
     "output_type": "display_data"
    },
    {
     "data": {
      "application/vnd.jupyter.widget-view+json": {
       "model_id": "6c03793e5eb1444292a9f45acb372e84",
       "version_major": 2,
       "version_minor": 0
      },
      "text/plain": [
       "Validating..:   0%|          | 0/36 [00:00<?, ?it/s]"
      ]
     },
     "metadata": {},
     "output_type": "display_data"
    },
    {
     "data": {
      "application/vnd.jupyter.widget-view+json": {
       "model_id": "1d9bf15eb4714aef83adc2f31310a440",
       "version_major": 2,
       "version_minor": 0
      },
      "text/plain": [
       "Training...:   0%|          | 0/84 [00:00<?, ?it/s]"
      ]
     },
     "metadata": {},
     "output_type": "display_data"
    },
    {
     "data": {
      "application/vnd.jupyter.widget-view+json": {
       "model_id": "ff9944fff2464e44ae0120c410631746",
       "version_major": 2,
       "version_minor": 0
      },
      "text/plain": [
       "Validating..:   0%|          | 0/36 [00:00<?, ?it/s]"
      ]
     },
     "metadata": {},
     "output_type": "display_data"
    },
    {
     "data": {
      "application/vnd.jupyter.widget-view+json": {
       "model_id": "8a6869209b54497fb20bf3a44d29104a",
       "version_major": 2,
       "version_minor": 0
      },
      "text/plain": [
       "Training...:   0%|          | 0/84 [00:00<?, ?it/s]"
      ]
     },
     "metadata": {},
     "output_type": "display_data"
    },
    {
     "data": {
      "application/vnd.jupyter.widget-view+json": {
       "model_id": "9cce0d7ffa504360b952ebb7bad7610b",
       "version_major": 2,
       "version_minor": 0
      },
      "text/plain": [
       "Validating..:   0%|          | 0/36 [00:00<?, ?it/s]"
      ]
     },
     "metadata": {},
     "output_type": "display_data"
    },
    {
     "data": {
      "application/vnd.jupyter.widget-view+json": {
       "model_id": "ed2f290707f14368a47d2c9d652f4bd6",
       "version_major": 2,
       "version_minor": 0
      },
      "text/plain": [
       "Training...:   0%|          | 0/84 [00:00<?, ?it/s]"
      ]
     },
     "metadata": {},
     "output_type": "display_data"
    },
    {
     "data": {
      "application/vnd.jupyter.widget-view+json": {
       "model_id": "13a4e6eabbb64c51bfae3cd4264d8a93",
       "version_major": 2,
       "version_minor": 0
      },
      "text/plain": [
       "Validating..:   0%|          | 0/36 [00:00<?, ?it/s]"
      ]
     },
     "metadata": {},
     "output_type": "display_data"
    },
    {
     "data": {
      "application/vnd.jupyter.widget-view+json": {
       "model_id": "2000832815954cc2ab648c372f702492",
       "version_major": 2,
       "version_minor": 0
      },
      "text/plain": [
       "Training...:   0%|          | 0/84 [00:00<?, ?it/s]"
      ]
     },
     "metadata": {},
     "output_type": "display_data"
    },
    {
     "data": {
      "application/vnd.jupyter.widget-view+json": {
       "model_id": "9c97a4bd6b254fcc8a1f04f27bf3acff",
       "version_major": 2,
       "version_minor": 0
      },
      "text/plain": [
       "Validating..:   0%|          | 0/36 [00:00<?, ?it/s]"
      ]
     },
     "metadata": {},
     "output_type": "display_data"
    },
    {
     "data": {
      "application/vnd.jupyter.widget-view+json": {
       "model_id": "fb3be725ed314de7acf9ede4f41df8b4",
       "version_major": 2,
       "version_minor": 0
      },
      "text/plain": [
       "Training...:   0%|          | 0/84 [00:00<?, ?it/s]"
      ]
     },
     "metadata": {},
     "output_type": "display_data"
    },
    {
     "data": {
      "application/vnd.jupyter.widget-view+json": {
       "model_id": "8e71930ba51a4d19af2aa0ad0c7342bf",
       "version_major": 2,
       "version_minor": 0
      },
      "text/plain": [
       "Validating..:   0%|          | 0/36 [00:00<?, ?it/s]"
      ]
     },
     "metadata": {},
     "output_type": "display_data"
    },
    {
     "data": {
      "application/vnd.jupyter.widget-view+json": {
       "model_id": "072102c1562741ceb0ff6ab4723d6e95",
       "version_major": 2,
       "version_minor": 0
      },
      "text/plain": [
       "Training...:   0%|          | 0/84 [00:00<?, ?it/s]"
      ]
     },
     "metadata": {},
     "output_type": "display_data"
    },
    {
     "data": {
      "application/vnd.jupyter.widget-view+json": {
       "model_id": "b283f667610d4f8a817d851793c8ebf8",
       "version_major": 2,
       "version_minor": 0
      },
      "text/plain": [
       "Validating..:   0%|          | 0/36 [00:00<?, ?it/s]"
      ]
     },
     "metadata": {},
     "output_type": "display_data"
    },
    {
     "data": {
      "application/vnd.jupyter.widget-view+json": {
       "model_id": "116abe23b0074720a26a140e65bfac20",
       "version_major": 2,
       "version_minor": 0
      },
      "text/plain": [
       "Training...:   0%|          | 0/84 [00:00<?, ?it/s]"
      ]
     },
     "metadata": {},
     "output_type": "display_data"
    },
    {
     "data": {
      "application/vnd.jupyter.widget-view+json": {
       "model_id": "06469eb4786f4b62a50fc3679ed6a007",
       "version_major": 2,
       "version_minor": 0
      },
      "text/plain": [
       "Validating..:   0%|          | 0/36 [00:00<?, ?it/s]"
      ]
     },
     "metadata": {},
     "output_type": "display_data"
    },
    {
     "data": {
      "application/vnd.jupyter.widget-view+json": {
       "model_id": "caa5e4bd0892458f9e309c0fce976fa0",
       "version_major": 2,
       "version_minor": 0
      },
      "text/plain": [
       "Training...:   0%|          | 0/84 [00:00<?, ?it/s]"
      ]
     },
     "metadata": {},
     "output_type": "display_data"
    },
    {
     "data": {
      "application/vnd.jupyter.widget-view+json": {
       "model_id": "502b2f8b4a28483ab423526b37d4ba9d",
       "version_major": 2,
       "version_minor": 0
      },
      "text/plain": [
       "Validating..:   0%|          | 0/36 [00:00<?, ?it/s]"
      ]
     },
     "metadata": {},
     "output_type": "display_data"
    },
    {
     "data": {
      "application/vnd.jupyter.widget-view+json": {
       "model_id": "285ca12f84244aec8be6a656647ebfb7",
       "version_major": 2,
       "version_minor": 0
      },
      "text/plain": [
       "Training...:   0%|          | 0/84 [00:00<?, ?it/s]"
      ]
     },
     "metadata": {},
     "output_type": "display_data"
    },
    {
     "data": {
      "application/vnd.jupyter.widget-view+json": {
       "model_id": "9adc3e0c76a2488aa2214555e4162f4d",
       "version_major": 2,
       "version_minor": 0
      },
      "text/plain": [
       "Validating..:   0%|          | 0/36 [00:00<?, ?it/s]"
      ]
     },
     "metadata": {},
     "output_type": "display_data"
    },
    {
     "data": {
      "application/vnd.jupyter.widget-view+json": {
       "model_id": "5b369d6348db4715a7d79f73ce0cda2c",
       "version_major": 2,
       "version_minor": 0
      },
      "text/plain": [
       "Training...:   0%|          | 0/84 [00:00<?, ?it/s]"
      ]
     },
     "metadata": {},
     "output_type": "display_data"
    },
    {
     "data": {
      "application/vnd.jupyter.widget-view+json": {
       "model_id": "a4ff448d1d8147cd9408c44614bf94c9",
       "version_major": 2,
       "version_minor": 0
      },
      "text/plain": [
       "Validating..:   0%|          | 0/36 [00:00<?, ?it/s]"
      ]
     },
     "metadata": {},
     "output_type": "display_data"
    },
    {
     "data": {
      "application/vnd.jupyter.widget-view+json": {
       "model_id": "046335270e2649ebaf3c851cf2c31c9c",
       "version_major": 2,
       "version_minor": 0
      },
      "text/plain": [
       "Training...:   0%|          | 0/84 [00:00<?, ?it/s]"
      ]
     },
     "metadata": {},
     "output_type": "display_data"
    },
    {
     "data": {
      "application/vnd.jupyter.widget-view+json": {
       "model_id": "444ca28f236345c885e01ed17b1e6b1e",
       "version_major": 2,
       "version_minor": 0
      },
      "text/plain": [
       "Validating..:   0%|          | 0/36 [00:00<?, ?it/s]"
      ]
     },
     "metadata": {},
     "output_type": "display_data"
    },
    {
     "data": {
      "application/vnd.jupyter.widget-view+json": {
       "model_id": "e8f297ff42bf41e2af80b0282c447418",
       "version_major": 2,
       "version_minor": 0
      },
      "text/plain": [
       "Training...:   0%|          | 0/84 [00:00<?, ?it/s]"
      ]
     },
     "metadata": {},
     "output_type": "display_data"
    },
    {
     "data": {
      "application/vnd.jupyter.widget-view+json": {
       "model_id": "cd563aed7af049a29bef0c29caaca29f",
       "version_major": 2,
       "version_minor": 0
      },
      "text/plain": [
       "Validating..:   0%|          | 0/36 [00:00<?, ?it/s]"
      ]
     },
     "metadata": {},
     "output_type": "display_data"
    },
    {
     "data": {
      "application/vnd.jupyter.widget-view+json": {
       "model_id": "43a8428ae0b7427fabebbc8d15425917",
       "version_major": 2,
       "version_minor": 0
      },
      "text/plain": [
       "Training...:   0%|          | 0/84 [00:00<?, ?it/s]"
      ]
     },
     "metadata": {},
     "output_type": "display_data"
    },
    {
     "data": {
      "application/vnd.jupyter.widget-view+json": {
       "model_id": "21151df52b1241bcb2e719b68f4f4ed2",
       "version_major": 2,
       "version_minor": 0
      },
      "text/plain": [
       "Validating..:   0%|          | 0/36 [00:00<?, ?it/s]"
      ]
     },
     "metadata": {},
     "output_type": "display_data"
    },
    {
     "data": {
      "application/vnd.jupyter.widget-view+json": {
       "model_id": "9b1f012bb9944fc8ac1f5dc51987708e",
       "version_major": 2,
       "version_minor": 0
      },
      "text/plain": [
       "Training...:   0%|          | 0/84 [00:00<?, ?it/s]"
      ]
     },
     "metadata": {},
     "output_type": "display_data"
    },
    {
     "data": {
      "application/vnd.jupyter.widget-view+json": {
       "model_id": "712abf056dc5428e876344a843937af3",
       "version_major": 2,
       "version_minor": 0
      },
      "text/plain": [
       "Validating..:   0%|          | 0/36 [00:00<?, ?it/s]"
      ]
     },
     "metadata": {},
     "output_type": "display_data"
    },
    {
     "data": {
      "application/vnd.jupyter.widget-view+json": {
       "model_id": "979ce1ea6fd04d699dfbbe8b8e8f43ca",
       "version_major": 2,
       "version_minor": 0
      },
      "text/plain": [
       "Training...:   0%|          | 0/84 [00:00<?, ?it/s]"
      ]
     },
     "metadata": {},
     "output_type": "display_data"
    },
    {
     "data": {
      "application/vnd.jupyter.widget-view+json": {
       "model_id": "95cc613508e34318933735bedf0bf855",
       "version_major": 2,
       "version_minor": 0
      },
      "text/plain": [
       "Validating..:   0%|          | 0/36 [00:00<?, ?it/s]"
      ]
     },
     "metadata": {},
     "output_type": "display_data"
    },
    {
     "data": {
      "application/vnd.jupyter.widget-view+json": {
       "model_id": "ac0c9accf2584958aba3fbaf94376d21",
       "version_major": 2,
       "version_minor": 0
      },
      "text/plain": [
       "Training...:   0%|          | 0/84 [00:00<?, ?it/s]"
      ]
     },
     "metadata": {},
     "output_type": "display_data"
    },
    {
     "data": {
      "application/vnd.jupyter.widget-view+json": {
       "model_id": "83aca1d22d134ac082f23370c1b4a2e9",
       "version_major": 2,
       "version_minor": 0
      },
      "text/plain": [
       "Validating..:   0%|          | 0/36 [00:00<?, ?it/s]"
      ]
     },
     "metadata": {},
     "output_type": "display_data"
    },
    {
     "data": {
      "application/vnd.jupyter.widget-view+json": {
       "model_id": "52bb2c1dcdfc47f59e70c35f9a8c6a42",
       "version_major": 2,
       "version_minor": 0
      },
      "text/plain": [
       "Training...:   0%|          | 0/84 [00:00<?, ?it/s]"
      ]
     },
     "metadata": {},
     "output_type": "display_data"
    },
    {
     "data": {
      "application/vnd.jupyter.widget-view+json": {
       "model_id": "1b9b3b7d75814419bbed7975cf3e4447",
       "version_major": 2,
       "version_minor": 0
      },
      "text/plain": [
       "Validating..:   0%|          | 0/36 [00:00<?, ?it/s]"
      ]
     },
     "metadata": {},
     "output_type": "display_data"
    },
    {
     "data": {
      "application/vnd.jupyter.widget-view+json": {
       "model_id": "07991338305244d89da7685d39fad6dd",
       "version_major": 2,
       "version_minor": 0
      },
      "text/plain": [
       "Training...:   0%|          | 0/84 [00:00<?, ?it/s]"
      ]
     },
     "metadata": {},
     "output_type": "display_data"
    },
    {
     "data": {
      "application/vnd.jupyter.widget-view+json": {
       "model_id": "4aed328896f64ea890235158ce59a8e0",
       "version_major": 2,
       "version_minor": 0
      },
      "text/plain": [
       "Validating..:   0%|          | 0/36 [00:00<?, ?it/s]"
      ]
     },
     "metadata": {},
     "output_type": "display_data"
    },
    {
     "data": {
      "application/vnd.jupyter.widget-view+json": {
       "model_id": "ecbc3d2d7c1a46a7a7681bc1c8d5aea8",
       "version_major": 2,
       "version_minor": 0
      },
      "text/plain": [
       "Training...:   0%|          | 0/84 [00:00<?, ?it/s]"
      ]
     },
     "metadata": {},
     "output_type": "display_data"
    },
    {
     "data": {
      "application/vnd.jupyter.widget-view+json": {
       "model_id": "56168770c2f0422b9eed6b667fcb2c8f",
       "version_major": 2,
       "version_minor": 0
      },
      "text/plain": [
       "Validating..:   0%|          | 0/36 [00:00<?, ?it/s]"
      ]
     },
     "metadata": {},
     "output_type": "display_data"
    },
    {
     "data": {
      "application/vnd.jupyter.widget-view+json": {
       "model_id": "b4b3e4dd427f4e97b372ebc846d72d1e",
       "version_major": 2,
       "version_minor": 0
      },
      "text/plain": [
       "Training...:   0%|          | 0/84 [00:00<?, ?it/s]"
      ]
     },
     "metadata": {},
     "output_type": "display_data"
    },
    {
     "data": {
      "application/vnd.jupyter.widget-view+json": {
       "model_id": "f07b0a28e3ab4047bcb9e790cf9580dc",
       "version_major": 2,
       "version_minor": 0
      },
      "text/plain": [
       "Validating..:   0%|          | 0/36 [00:00<?, ?it/s]"
      ]
     },
     "metadata": {},
     "output_type": "display_data"
    },
    {
     "data": {
      "application/vnd.jupyter.widget-view+json": {
       "model_id": "11f2d239b75145b2bfdcbbcdbbff699d",
       "version_major": 2,
       "version_minor": 0
      },
      "text/plain": [
       "Training...:   0%|          | 0/84 [00:00<?, ?it/s]"
      ]
     },
     "metadata": {},
     "output_type": "display_data"
    },
    {
     "data": {
      "application/vnd.jupyter.widget-view+json": {
       "model_id": "cc2507babdc1420c8efef32951fcedb2",
       "version_major": 2,
       "version_minor": 0
      },
      "text/plain": [
       "Validating..:   0%|          | 0/36 [00:00<?, ?it/s]"
      ]
     },
     "metadata": {},
     "output_type": "display_data"
    },
    {
     "data": {
      "application/vnd.jupyter.widget-view+json": {
       "model_id": "584b0e0f3fec47e4818308b9c228c3b3",
       "version_major": 2,
       "version_minor": 0
      },
      "text/plain": [
       "Training...:   0%|          | 0/84 [00:00<?, ?it/s]"
      ]
     },
     "metadata": {},
     "output_type": "display_data"
    },
    {
     "data": {
      "application/vnd.jupyter.widget-view+json": {
       "model_id": "4727653061124fecae8e6ab0995e2e64",
       "version_major": 2,
       "version_minor": 0
      },
      "text/plain": [
       "Validating..:   0%|          | 0/36 [00:00<?, ?it/s]"
      ]
     },
     "metadata": {},
     "output_type": "display_data"
    },
    {
     "data": {
      "application/vnd.jupyter.widget-view+json": {
       "model_id": "e6cc39a3ca224c8fa5d470de5f4287b6",
       "version_major": 2,
       "version_minor": 0
      },
      "text/plain": [
       "Training...:   0%|          | 0/84 [00:00<?, ?it/s]"
      ]
     },
     "metadata": {},
     "output_type": "display_data"
    },
    {
     "data": {
      "application/vnd.jupyter.widget-view+json": {
       "model_id": "4568a571758847168c5c46d5b41717ab",
       "version_major": 2,
       "version_minor": 0
      },
      "text/plain": [
       "Validating..:   0%|          | 0/36 [00:00<?, ?it/s]"
      ]
     },
     "metadata": {},
     "output_type": "display_data"
    },
    {
     "data": {
      "application/vnd.jupyter.widget-view+json": {
       "model_id": "9c7f76916c144a00a8ed2b4b70988640",
       "version_major": 2,
       "version_minor": 0
      },
      "text/plain": [
       "Training...:   0%|          | 0/84 [00:00<?, ?it/s]"
      ]
     },
     "metadata": {},
     "output_type": "display_data"
    },
    {
     "data": {
      "application/vnd.jupyter.widget-view+json": {
       "model_id": "d1ba9165d15e456d89111312d0e6ccf4",
       "version_major": 2,
       "version_minor": 0
      },
      "text/plain": [
       "Validating..:   0%|          | 0/36 [00:00<?, ?it/s]"
      ]
     },
     "metadata": {},
     "output_type": "display_data"
    },
    {
     "data": {
      "application/vnd.jupyter.widget-view+json": {
       "model_id": "08c893f8ca7840fe88edb9171076ace9",
       "version_major": 2,
       "version_minor": 0
      },
      "text/plain": [
       "Training...:   0%|          | 0/84 [00:00<?, ?it/s]"
      ]
     },
     "metadata": {},
     "output_type": "display_data"
    },
    {
     "data": {
      "application/vnd.jupyter.widget-view+json": {
       "model_id": "0ae133d36a31469cbf524480c116d466",
       "version_major": 2,
       "version_minor": 0
      },
      "text/plain": [
       "Validating..:   0%|          | 0/36 [00:00<?, ?it/s]"
      ]
     },
     "metadata": {},
     "output_type": "display_data"
    },
    {
     "data": {
      "application/vnd.jupyter.widget-view+json": {
       "model_id": "89ace42c30504f0895ffdcde7d581b2f",
       "version_major": 2,
       "version_minor": 0
      },
      "text/plain": [
       "Training...:   0%|          | 0/84 [00:00<?, ?it/s]"
      ]
     },
     "metadata": {},
     "output_type": "display_data"
    },
    {
     "data": {
      "application/vnd.jupyter.widget-view+json": {
       "model_id": "18d1e96997794e75b0ca0c9c1f830f6c",
       "version_major": 2,
       "version_minor": 0
      },
      "text/plain": [
       "Validating..:   0%|          | 0/36 [00:00<?, ?it/s]"
      ]
     },
     "metadata": {},
     "output_type": "display_data"
    },
    {
     "data": {
      "application/vnd.jupyter.widget-view+json": {
       "model_id": "d5ec3ea082e84d7d99dfaa1b6a226736",
       "version_major": 2,
       "version_minor": 0
      },
      "text/plain": [
       "Training...:   0%|          | 0/84 [00:00<?, ?it/s]"
      ]
     },
     "metadata": {},
     "output_type": "display_data"
    },
    {
     "data": {
      "application/vnd.jupyter.widget-view+json": {
       "model_id": "8adbe194ee4146dd85232b32d879d240",
       "version_major": 2,
       "version_minor": 0
      },
      "text/plain": [
       "Validating..:   0%|          | 0/36 [00:00<?, ?it/s]"
      ]
     },
     "metadata": {},
     "output_type": "display_data"
    },
    {
     "data": {
      "application/vnd.jupyter.widget-view+json": {
       "model_id": "7c6b4f593a074f7e86b6a2d7364e332d",
       "version_major": 2,
       "version_minor": 0
      },
      "text/plain": [
       "Training...:   0%|          | 0/84 [00:00<?, ?it/s]"
      ]
     },
     "metadata": {},
     "output_type": "display_data"
    },
    {
     "data": {
      "application/vnd.jupyter.widget-view+json": {
       "model_id": "c02673b63cfd48e188c0bf14e8a6ba02",
       "version_major": 2,
       "version_minor": 0
      },
      "text/plain": [
       "Validating..:   0%|          | 0/36 [00:00<?, ?it/s]"
      ]
     },
     "metadata": {},
     "output_type": "display_data"
    },
    {
     "data": {
      "application/vnd.jupyter.widget-view+json": {
       "model_id": "7b8643cf11ab408bb1b53e0e9ec17f58",
       "version_major": 2,
       "version_minor": 0
      },
      "text/plain": [
       "Training...:   0%|          | 0/84 [00:00<?, ?it/s]"
      ]
     },
     "metadata": {},
     "output_type": "display_data"
    },
    {
     "data": {
      "application/vnd.jupyter.widget-view+json": {
       "model_id": "8a1ccf309929470fa99d5369b9f1fe2e",
       "version_major": 2,
       "version_minor": 0
      },
      "text/plain": [
       "Validating..:   0%|          | 0/36 [00:00<?, ?it/s]"
      ]
     },
     "metadata": {},
     "output_type": "display_data"
    },
    {
     "data": {
      "application/vnd.jupyter.widget-view+json": {
       "model_id": "0db16ceb5ff14aa087f9dd6047e2af67",
       "version_major": 2,
       "version_minor": 0
      },
      "text/plain": [
       "Training...:   0%|          | 0/84 [00:00<?, ?it/s]"
      ]
     },
     "metadata": {},
     "output_type": "display_data"
    },
    {
     "data": {
      "application/vnd.jupyter.widget-view+json": {
       "model_id": "73187bf1caa84a609192f1352a8671e3",
       "version_major": 2,
       "version_minor": 0
      },
      "text/plain": [
       "Validating..:   0%|          | 0/36 [00:00<?, ?it/s]"
      ]
     },
     "metadata": {},
     "output_type": "display_data"
    },
    {
     "data": {
      "application/vnd.jupyter.widget-view+json": {
       "model_id": "ba4ade4267004ffb8e47e1c07fb7ae24",
       "version_major": 2,
       "version_minor": 0
      },
      "text/plain": [
       "Training...:   0%|          | 0/84 [00:00<?, ?it/s]"
      ]
     },
     "metadata": {},
     "output_type": "display_data"
    },
    {
     "data": {
      "application/vnd.jupyter.widget-view+json": {
       "model_id": "c46a943daae54fd6aef3abd08b6607fb",
       "version_major": 2,
       "version_minor": 0
      },
      "text/plain": [
       "Validating..:   0%|          | 0/36 [00:00<?, ?it/s]"
      ]
     },
     "metadata": {},
     "output_type": "display_data"
    },
    {
     "data": {
      "application/vnd.jupyter.widget-view+json": {
       "model_id": "5179f8ced35043afbcb357611e8ea28e",
       "version_major": 2,
       "version_minor": 0
      },
      "text/plain": [
       "Training...:   0%|          | 0/84 [00:00<?, ?it/s]"
      ]
     },
     "metadata": {},
     "output_type": "display_data"
    },
    {
     "data": {
      "application/vnd.jupyter.widget-view+json": {
       "model_id": "0641e52021fa4cc1b48bf8c7f93fe833",
       "version_major": 2,
       "version_minor": 0
      },
      "text/plain": [
       "Validating..:   0%|          | 0/36 [00:00<?, ?it/s]"
      ]
     },
     "metadata": {},
     "output_type": "display_data"
    },
    {
     "data": {
      "application/vnd.jupyter.widget-view+json": {
       "model_id": "a7441f3f54a64eaa9fcd76970f0e78e3",
       "version_major": 2,
       "version_minor": 0
      },
      "text/plain": [
       "Training...:   0%|          | 0/84 [00:00<?, ?it/s]"
      ]
     },
     "metadata": {},
     "output_type": "display_data"
    },
    {
     "data": {
      "application/vnd.jupyter.widget-view+json": {
       "model_id": "ef0572cecf8e4582bc48ab7de357ee8e",
       "version_major": 2,
       "version_minor": 0
      },
      "text/plain": [
       "Validating..:   0%|          | 0/36 [00:00<?, ?it/s]"
      ]
     },
     "metadata": {},
     "output_type": "display_data"
    },
    {
     "data": {
      "application/vnd.jupyter.widget-view+json": {
       "model_id": "c293eb35b70744c0a0fe449d4943c7e4",
       "version_major": 2,
       "version_minor": 0
      },
      "text/plain": [
       "Training...:   0%|          | 0/84 [00:00<?, ?it/s]"
      ]
     },
     "metadata": {},
     "output_type": "display_data"
    },
    {
     "data": {
      "application/vnd.jupyter.widget-view+json": {
       "model_id": "360cf8944f8a412bb222400c640ff067",
       "version_major": 2,
       "version_minor": 0
      },
      "text/plain": [
       "Validating..:   0%|          | 0/36 [00:00<?, ?it/s]"
      ]
     },
     "metadata": {},
     "output_type": "display_data"
    },
    {
     "data": {
      "application/vnd.jupyter.widget-view+json": {
       "model_id": "3f7b9e20fc8847d1bd61872361c464da",
       "version_major": 2,
       "version_minor": 0
      },
      "text/plain": [
       "Training...:   0%|          | 0/84 [00:00<?, ?it/s]"
      ]
     },
     "metadata": {},
     "output_type": "display_data"
    },
    {
     "data": {
      "application/vnd.jupyter.widget-view+json": {
       "model_id": "d3037f87b12e437ba018a350434cdda0",
       "version_major": 2,
       "version_minor": 0
      },
      "text/plain": [
       "Validating..:   0%|          | 0/36 [00:00<?, ?it/s]"
      ]
     },
     "metadata": {},
     "output_type": "display_data"
    },
    {
     "data": {
      "application/vnd.jupyter.widget-view+json": {
       "model_id": "70c6f712607a49288ea414f809001ef5",
       "version_major": 2,
       "version_minor": 0
      },
      "text/plain": [
       "Training...:   0%|          | 0/84 [00:00<?, ?it/s]"
      ]
     },
     "metadata": {},
     "output_type": "display_data"
    },
    {
     "data": {
      "application/vnd.jupyter.widget-view+json": {
       "model_id": "ecf1631a0f4c4566aaa5d5b0710ab3f9",
       "version_major": 2,
       "version_minor": 0
      },
      "text/plain": [
       "Validating..:   0%|          | 0/36 [00:00<?, ?it/s]"
      ]
     },
     "metadata": {},
     "output_type": "display_data"
    },
    {
     "data": {
      "application/vnd.jupyter.widget-view+json": {
       "model_id": "0dae16a595104249989ac7386dc400a7",
       "version_major": 2,
       "version_minor": 0
      },
      "text/plain": [
       "Training...:   0%|          | 0/84 [00:00<?, ?it/s]"
      ]
     },
     "metadata": {},
     "output_type": "display_data"
    },
    {
     "data": {
      "application/vnd.jupyter.widget-view+json": {
       "model_id": "5ae09cb2e6784cf09e986cef18eed274",
       "version_major": 2,
       "version_minor": 0
      },
      "text/plain": [
       "Validating..:   0%|          | 0/36 [00:00<?, ?it/s]"
      ]
     },
     "metadata": {},
     "output_type": "display_data"
    },
    {
     "data": {
      "application/vnd.jupyter.widget-view+json": {
       "model_id": "b3cfe97d4cec4e6296eb0efa3dc0c1f1",
       "version_major": 2,
       "version_minor": 0
      },
      "text/plain": [
       "Training...:   0%|          | 0/84 [00:00<?, ?it/s]"
      ]
     },
     "metadata": {},
     "output_type": "display_data"
    },
    {
     "data": {
      "application/vnd.jupyter.widget-view+json": {
       "model_id": "9f0fb76c7b344fb2a8fd634850e2f3d6",
       "version_major": 2,
       "version_minor": 0
      },
      "text/plain": [
       "Validating..:   0%|          | 0/36 [00:00<?, ?it/s]"
      ]
     },
     "metadata": {},
     "output_type": "display_data"
    },
    {
     "data": {
      "application/vnd.jupyter.widget-view+json": {
       "model_id": "baef6ba237324ea5ac50eb3af27d7de3",
       "version_major": 2,
       "version_minor": 0
      },
      "text/plain": [
       "Training...:   0%|          | 0/84 [00:00<?, ?it/s]"
      ]
     },
     "metadata": {},
     "output_type": "display_data"
    },
    {
     "data": {
      "application/vnd.jupyter.widget-view+json": {
       "model_id": "1e54bda3f7664384a12700632a584361",
       "version_major": 2,
       "version_minor": 0
      },
      "text/plain": [
       "Validating..:   0%|          | 0/36 [00:00<?, ?it/s]"
      ]
     },
     "metadata": {},
     "output_type": "display_data"
    },
    {
     "data": {
      "application/vnd.jupyter.widget-view+json": {
       "model_id": "f5760050b2114440a1d064f329f5e792",
       "version_major": 2,
       "version_minor": 0
      },
      "text/plain": [
       "Training...:   0%|          | 0/84 [00:00<?, ?it/s]"
      ]
     },
     "metadata": {},
     "output_type": "display_data"
    },
    {
     "data": {
      "application/vnd.jupyter.widget-view+json": {
       "model_id": "fb8b27cb50d2421bbb72641eaecd7782",
       "version_major": 2,
       "version_minor": 0
      },
      "text/plain": [
       "Validating..:   0%|          | 0/36 [00:00<?, ?it/s]"
      ]
     },
     "metadata": {},
     "output_type": "display_data"
    },
    {
     "data": {
      "application/vnd.jupyter.widget-view+json": {
       "model_id": "56773eb45fc441fbba224b6c9d3553bb",
       "version_major": 2,
       "version_minor": 0
      },
      "text/plain": [
       "Training...:   0%|          | 0/84 [00:00<?, ?it/s]"
      ]
     },
     "metadata": {},
     "output_type": "display_data"
    },
    {
     "data": {
      "application/vnd.jupyter.widget-view+json": {
       "model_id": "57807f3d28844afb97e354fc1aefa3ad",
       "version_major": 2,
       "version_minor": 0
      },
      "text/plain": [
       "Validating..:   0%|          | 0/36 [00:00<?, ?it/s]"
      ]
     },
     "metadata": {},
     "output_type": "display_data"
    },
    {
     "data": {
      "application/vnd.jupyter.widget-view+json": {
       "model_id": "3f126d83b5a04fa38a011b58bac350c3",
       "version_major": 2,
       "version_minor": 0
      },
      "text/plain": [
       "Training...:   0%|          | 0/84 [00:00<?, ?it/s]"
      ]
     },
     "metadata": {},
     "output_type": "display_data"
    },
    {
     "data": {
      "application/vnd.jupyter.widget-view+json": {
       "model_id": "489ffbc218264882894e07ae5b4697b2",
       "version_major": 2,
       "version_minor": 0
      },
      "text/plain": [
       "Validating..:   0%|          | 0/36 [00:00<?, ?it/s]"
      ]
     },
     "metadata": {},
     "output_type": "display_data"
    },
    {
     "data": {
      "application/vnd.jupyter.widget-view+json": {
       "model_id": "c7439ad8187c4233bf6df0c539d5fd39",
       "version_major": 2,
       "version_minor": 0
      },
      "text/plain": [
       "Training...:   0%|          | 0/84 [00:00<?, ?it/s]"
      ]
     },
     "metadata": {},
     "output_type": "display_data"
    },
    {
     "data": {
      "application/vnd.jupyter.widget-view+json": {
       "model_id": "8cf45a2e022048b2be1c5229d0e86c17",
       "version_major": 2,
       "version_minor": 0
      },
      "text/plain": [
       "Validating..:   0%|          | 0/36 [00:00<?, ?it/s]"
      ]
     },
     "metadata": {},
     "output_type": "display_data"
    },
    {
     "data": {
      "application/vnd.jupyter.widget-view+json": {
       "model_id": "aab5dbeef1774bee91280ed5756905da",
       "version_major": 2,
       "version_minor": 0
      },
      "text/plain": [
       "Training...:   0%|          | 0/84 [00:00<?, ?it/s]"
      ]
     },
     "metadata": {},
     "output_type": "display_data"
    },
    {
     "data": {
      "application/vnd.jupyter.widget-view+json": {
       "model_id": "a9ada078c62b4be39b170f3ee3170a7c",
       "version_major": 2,
       "version_minor": 0
      },
      "text/plain": [
       "Validating..:   0%|          | 0/36 [00:00<?, ?it/s]"
      ]
     },
     "metadata": {},
     "output_type": "display_data"
    },
    {
     "data": {
      "application/vnd.jupyter.widget-view+json": {
       "model_id": "0ac0bd5c518442239a4152b1c6df4989",
       "version_major": 2,
       "version_minor": 0
      },
      "text/plain": [
       "Training...:   0%|          | 0/84 [00:00<?, ?it/s]"
      ]
     },
     "metadata": {},
     "output_type": "display_data"
    },
    {
     "data": {
      "application/vnd.jupyter.widget-view+json": {
       "model_id": "ef3cb4b22e6c48b5816a41877b307d4f",
       "version_major": 2,
       "version_minor": 0
      },
      "text/plain": [
       "Validating..:   0%|          | 0/36 [00:00<?, ?it/s]"
      ]
     },
     "metadata": {},
     "output_type": "display_data"
    },
    {
     "data": {
      "application/vnd.jupyter.widget-view+json": {
       "model_id": "c2c5808e2a444b8aac8be55db55e9811",
       "version_major": 2,
       "version_minor": 0
      },
      "text/plain": [
       "Training...:   0%|          | 0/84 [00:00<?, ?it/s]"
      ]
     },
     "metadata": {},
     "output_type": "display_data"
    },
    {
     "data": {
      "application/vnd.jupyter.widget-view+json": {
       "model_id": "5290b8304ffc47eda0c0cb35c18ce987",
       "version_major": 2,
       "version_minor": 0
      },
      "text/plain": [
       "Validating..:   0%|          | 0/36 [00:00<?, ?it/s]"
      ]
     },
     "metadata": {},
     "output_type": "display_data"
    },
    {
     "data": {
      "application/vnd.jupyter.widget-view+json": {
       "model_id": "94391230e1f245d8956dc6c6dd52d7f1",
       "version_major": 2,
       "version_minor": 0
      },
      "text/plain": [
       "Training...:   0%|          | 0/84 [00:00<?, ?it/s]"
      ]
     },
     "metadata": {},
     "output_type": "display_data"
    },
    {
     "data": {
      "application/vnd.jupyter.widget-view+json": {
       "model_id": "c92e65e26f9d4ba5a17b749291b2a8b8",
       "version_major": 2,
       "version_minor": 0
      },
      "text/plain": [
       "Validating..:   0%|          | 0/36 [00:00<?, ?it/s]"
      ]
     },
     "metadata": {},
     "output_type": "display_data"
    },
    {
     "data": {
      "application/vnd.jupyter.widget-view+json": {
       "model_id": "a92961928ae548d18130ab7ebfd0e898",
       "version_major": 2,
       "version_minor": 0
      },
      "text/plain": [
       "Training...:   0%|          | 0/84 [00:00<?, ?it/s]"
      ]
     },
     "metadata": {},
     "output_type": "display_data"
    },
    {
     "data": {
      "application/vnd.jupyter.widget-view+json": {
       "model_id": "1966bec798584e3580c5eb2ada35082d",
       "version_major": 2,
       "version_minor": 0
      },
      "text/plain": [
       "Validating..:   0%|          | 0/36 [00:00<?, ?it/s]"
      ]
     },
     "metadata": {},
     "output_type": "display_data"
    },
    {
     "data": {
      "application/vnd.jupyter.widget-view+json": {
       "model_id": "67d3d8d49dba4ed2b46eff1ff89983fd",
       "version_major": 2,
       "version_minor": 0
      },
      "text/plain": [
       "Training...:   0%|          | 0/84 [00:00<?, ?it/s]"
      ]
     },
     "metadata": {},
     "output_type": "display_data"
    },
    {
     "data": {
      "application/vnd.jupyter.widget-view+json": {
       "model_id": "b2de7fd586314200b16932beff366e93",
       "version_major": 2,
       "version_minor": 0
      },
      "text/plain": [
       "Validating..:   0%|          | 0/36 [00:00<?, ?it/s]"
      ]
     },
     "metadata": {},
     "output_type": "display_data"
    },
    {
     "data": {
      "application/vnd.jupyter.widget-view+json": {
       "model_id": "e9f941080228490cba05a6a55512eeda",
       "version_major": 2,
       "version_minor": 0
      },
      "text/plain": [
       "Training...:   0%|          | 0/84 [00:00<?, ?it/s]"
      ]
     },
     "metadata": {},
     "output_type": "display_data"
    },
    {
     "data": {
      "application/vnd.jupyter.widget-view+json": {
       "model_id": "6d29c4213b5e409280b8491d33b08d37",
       "version_major": 2,
       "version_minor": 0
      },
      "text/plain": [
       "Validating..:   0%|          | 0/36 [00:00<?, ?it/s]"
      ]
     },
     "metadata": {},
     "output_type": "display_data"
    },
    {
     "data": {
      "application/vnd.jupyter.widget-view+json": {
       "model_id": "d9c8d4a414204ef8aca172d06fd8da8d",
       "version_major": 2,
       "version_minor": 0
      },
      "text/plain": [
       "Training...:   0%|          | 0/84 [00:00<?, ?it/s]"
      ]
     },
     "metadata": {},
     "output_type": "display_data"
    },
    {
     "data": {
      "application/vnd.jupyter.widget-view+json": {
       "model_id": "3b392f457e0e4d8db1a2ba5bd94ceb5c",
       "version_major": 2,
       "version_minor": 0
      },
      "text/plain": [
       "Validating..:   0%|          | 0/36 [00:00<?, ?it/s]"
      ]
     },
     "metadata": {},
     "output_type": "display_data"
    },
    {
     "data": {
      "application/vnd.jupyter.widget-view+json": {
       "model_id": "b2bb8ff02de14a039d5b2f44411b012c",
       "version_major": 2,
       "version_minor": 0
      },
      "text/plain": [
       "Training...:   0%|          | 0/84 [00:00<?, ?it/s]"
      ]
     },
     "metadata": {},
     "output_type": "display_data"
    },
    {
     "data": {
      "application/vnd.jupyter.widget-view+json": {
       "model_id": "25a64954ff6247ee9bbc7ae388d280a5",
       "version_major": 2,
       "version_minor": 0
      },
      "text/plain": [
       "Validating..:   0%|          | 0/36 [00:00<?, ?it/s]"
      ]
     },
     "metadata": {},
     "output_type": "display_data"
    },
    {
     "data": {
      "application/vnd.jupyter.widget-view+json": {
       "model_id": "940a990b190f4cb088d18c3dcb9f7208",
       "version_major": 2,
       "version_minor": 0
      },
      "text/plain": [
       "Training...:   0%|          | 0/84 [00:00<?, ?it/s]"
      ]
     },
     "metadata": {},
     "output_type": "display_data"
    },
    {
     "data": {
      "application/vnd.jupyter.widget-view+json": {
       "model_id": "c5e9342f1e76454a989170e16bfa0480",
       "version_major": 2,
       "version_minor": 0
      },
      "text/plain": [
       "Validating..:   0%|          | 0/36 [00:00<?, ?it/s]"
      ]
     },
     "metadata": {},
     "output_type": "display_data"
    },
    {
     "data": {
      "application/vnd.jupyter.widget-view+json": {
       "model_id": "e68a4f11de2846f080e987eff37a3ebe",
       "version_major": 2,
       "version_minor": 0
      },
      "text/plain": [
       "Training...:   0%|          | 0/84 [00:00<?, ?it/s]"
      ]
     },
     "metadata": {},
     "output_type": "display_data"
    },
    {
     "data": {
      "application/vnd.jupyter.widget-view+json": {
       "model_id": "bd92d2cc51cf4e6db5c1c717e4b1bcc0",
       "version_major": 2,
       "version_minor": 0
      },
      "text/plain": [
       "Validating..:   0%|          | 0/36 [00:00<?, ?it/s]"
      ]
     },
     "metadata": {},
     "output_type": "display_data"
    },
    {
     "data": {
      "application/vnd.jupyter.widget-view+json": {
       "model_id": "2e2e9455e2bc424d9bc71f83b703dadb",
       "version_major": 2,
       "version_minor": 0
      },
      "text/plain": [
       "Training...:   0%|          | 0/84 [00:00<?, ?it/s]"
      ]
     },
     "metadata": {},
     "output_type": "display_data"
    },
    {
     "data": {
      "application/vnd.jupyter.widget-view+json": {
       "model_id": "4588bc5214244d1f848389eeea86d978",
       "version_major": 2,
       "version_minor": 0
      },
      "text/plain": [
       "Validating..:   0%|          | 0/36 [00:00<?, ?it/s]"
      ]
     },
     "metadata": {},
     "output_type": "display_data"
    },
    {
     "data": {
      "application/vnd.jupyter.widget-view+json": {
       "model_id": "56e2d241d2dd4ef7b7f440edebc57d50",
       "version_major": 2,
       "version_minor": 0
      },
      "text/plain": [
       "Training...:   0%|          | 0/84 [00:00<?, ?it/s]"
      ]
     },
     "metadata": {},
     "output_type": "display_data"
    },
    {
     "data": {
      "application/vnd.jupyter.widget-view+json": {
       "model_id": "d4c053e957844420aa109365bee88e5e",
       "version_major": 2,
       "version_minor": 0
      },
      "text/plain": [
       "Validating..:   0%|          | 0/36 [00:00<?, ?it/s]"
      ]
     },
     "metadata": {},
     "output_type": "display_data"
    },
    {
     "data": {
      "application/vnd.jupyter.widget-view+json": {
       "model_id": "25993cc64c604a63be80b124c6acd8c9",
       "version_major": 2,
       "version_minor": 0
      },
      "text/plain": [
       "Training...:   0%|          | 0/84 [00:00<?, ?it/s]"
      ]
     },
     "metadata": {},
     "output_type": "display_data"
    },
    {
     "data": {
      "application/vnd.jupyter.widget-view+json": {
       "model_id": "3c06906f9d8a453ebcd1d5746d1c992e",
       "version_major": 2,
       "version_minor": 0
      },
      "text/plain": [
       "Validating..:   0%|          | 0/36 [00:00<?, ?it/s]"
      ]
     },
     "metadata": {},
     "output_type": "display_data"
    },
    {
     "name": "stdout",
     "output_type": "stream",
     "text": [
      "\n",
      "⛔ Early stopping triggered at epoch 60. Stopping training.\n",
      "\n",
      "🏆 Best Validation Accuracy: 0.5703\n",
      "Best model loaded from checkpoints/chrononet_aro_best.pth\n"
     ]
    }
   ],
   "source": [
    "model = ChronoNet(in_channels=32, conv_out_channels=32, gru_hidden_size=64, is_binary=True, num_classes=2,)\n",
    "loss_fn = nn.BCEWithLogitsLoss()\n",
    "optimizer = torch.optim.AdamW(model.parameters(), lr=1e-3, weight_decay=1e-4) \n",
    "lr_schedule = torch.optim.lr_scheduler.ReduceLROnPlateau(optimizer, mode='min')\n",
    "early_stopping = EarlyStopping(patience=20, mode='max')\n",
    "\n",
    "trained_model_aro, history_aro = run_training(\n",
    "    model=model,\n",
    "    train_dataset=train_aro_eeg,\n",
    "    val_dataset=val_aro_eeg,\n",
    "    loss_fn=loss_fn,\n",
    "    optimizer=optimizer,\n",
    "    lr_schedule=lr_schedule,\n",
    "    early_stopping=early_stopping,\n",
    "    device=device,\n",
    "    batch_size=32,\n",
    "    epochs=100,\n",
    "    model_destination='checkpoints/chrononet_aro',\n",
    ")\n",
    "# Saving results\n",
    "history_aro.to_csv('results/history_aro.csv')"
   ]
  },
  {
   "cell_type": "markdown",
   "id": "78b33346",
   "metadata": {},
   "source": [
    "### 📊 ChronoNet Hyperparameters – Valence Classification\n",
    "\n",
    "| Hyperparameter         | Value                                                 |\n",
    "|------------------------|-------------------------------------------------------|\n",
    "| Model                  | ChronoNet                                              |\n",
    "| Input Channels         | 32                                                    |\n",
    "| Conv Output Channels   | 32                                                    |\n",
    "| GRU Hidden Size        | 64                                                    |\n",
    "| Loss Function          | BCEWithLogitsLoss                                     |\n",
    "| Optimizer              | AdamW                                                 |\n",
    "| Learning Rate          | 1e-3                                                  |\n",
    "| Weight Decay           | 1e-4                                                  |\n",
    "| LR Scheduler           | ReduceLROnPlateau (patience=3, mode='min')           |\n",
    "| Early Stopping         | Patience = 20 (mode='max')                            |\n",
    "| Batch Size             | 32                                                    |\n",
    "| Epochs                 | 100                                                   |\n",
    "| Checkpoint Path        | `checkpoints/chrononet_val`                           |\n",
    "| Result CSV             | `results/history_val.csv`                             |\n"
   ]
  },
  {
   "cell_type": "code",
   "execution_count": 13,
   "id": "d258eef5",
   "metadata": {},
   "outputs": [
    {
     "data": {
      "application/vnd.jupyter.widget-view+json": {
       "model_id": "da989410a8014e428ac4bf979262d262",
       "version_major": 2,
       "version_minor": 0
      },
      "text/plain": [
       "Epochs:   0%|          | 0/100 [00:00<?, ?it/s]"
      ]
     },
     "metadata": {},
     "output_type": "display_data"
    },
    {
     "data": {
      "application/vnd.jupyter.widget-view+json": {
       "model_id": "bb6d8d0e9b8f46908fab6035a72011e9",
       "version_major": 2,
       "version_minor": 0
      },
      "text/plain": [
       "Training...:   0%|          | 0/94 [00:00<?, ?it/s]"
      ]
     },
     "metadata": {},
     "output_type": "display_data"
    },
    {
     "data": {
      "application/vnd.jupyter.widget-view+json": {
       "model_id": "f1f86b2c49754a24983fe4cedf324683",
       "version_major": 2,
       "version_minor": 0
      },
      "text/plain": [
       "Validating..:   0%|          | 0/41 [00:00<?, ?it/s]"
      ]
     },
     "metadata": {},
     "output_type": "display_data"
    },
    {
     "data": {
      "application/vnd.jupyter.widget-view+json": {
       "model_id": "e536df1b77b54df8b490eb183957dc6c",
       "version_major": 2,
       "version_minor": 0
      },
      "text/plain": [
       "Training...:   0%|          | 0/94 [00:00<?, ?it/s]"
      ]
     },
     "metadata": {},
     "output_type": "display_data"
    },
    {
     "data": {
      "application/vnd.jupyter.widget-view+json": {
       "model_id": "1e9adba8353c471c97b171af10891180",
       "version_major": 2,
       "version_minor": 0
      },
      "text/plain": [
       "Validating..:   0%|          | 0/41 [00:00<?, ?it/s]"
      ]
     },
     "metadata": {},
     "output_type": "display_data"
    },
    {
     "data": {
      "application/vnd.jupyter.widget-view+json": {
       "model_id": "993e5d04b83d4d839a25ce64cbf887d3",
       "version_major": 2,
       "version_minor": 0
      },
      "text/plain": [
       "Training...:   0%|          | 0/94 [00:00<?, ?it/s]"
      ]
     },
     "metadata": {},
     "output_type": "display_data"
    },
    {
     "data": {
      "application/vnd.jupyter.widget-view+json": {
       "model_id": "08b2207f74c8461e99323bfad9648b2d",
       "version_major": 2,
       "version_minor": 0
      },
      "text/plain": [
       "Validating..:   0%|          | 0/41 [00:00<?, ?it/s]"
      ]
     },
     "metadata": {},
     "output_type": "display_data"
    },
    {
     "data": {
      "application/vnd.jupyter.widget-view+json": {
       "model_id": "2a409183438546a580abe7b98a05ea6a",
       "version_major": 2,
       "version_minor": 0
      },
      "text/plain": [
       "Training...:   0%|          | 0/94 [00:00<?, ?it/s]"
      ]
     },
     "metadata": {},
     "output_type": "display_data"
    },
    {
     "data": {
      "application/vnd.jupyter.widget-view+json": {
       "model_id": "5e61a40521d84922b6afc0ac6441901e",
       "version_major": 2,
       "version_minor": 0
      },
      "text/plain": [
       "Validating..:   0%|          | 0/41 [00:00<?, ?it/s]"
      ]
     },
     "metadata": {},
     "output_type": "display_data"
    },
    {
     "data": {
      "application/vnd.jupyter.widget-view+json": {
       "model_id": "9c10ba0b3c5d45d193ef20e3ae29065b",
       "version_major": 2,
       "version_minor": 0
      },
      "text/plain": [
       "Training...:   0%|          | 0/94 [00:00<?, ?it/s]"
      ]
     },
     "metadata": {},
     "output_type": "display_data"
    },
    {
     "data": {
      "application/vnd.jupyter.widget-view+json": {
       "model_id": "944fbfcad3b9487d98d3e8a9ac97b8e1",
       "version_major": 2,
       "version_minor": 0
      },
      "text/plain": [
       "Validating..:   0%|          | 0/41 [00:00<?, ?it/s]"
      ]
     },
     "metadata": {},
     "output_type": "display_data"
    },
    {
     "data": {
      "application/vnd.jupyter.widget-view+json": {
       "model_id": "a857bd706d1e42be9842168982e2843f",
       "version_major": 2,
       "version_minor": 0
      },
      "text/plain": [
       "Training...:   0%|          | 0/94 [00:00<?, ?it/s]"
      ]
     },
     "metadata": {},
     "output_type": "display_data"
    },
    {
     "data": {
      "application/vnd.jupyter.widget-view+json": {
       "model_id": "264e3f3883094f3b994641fc0cd37e93",
       "version_major": 2,
       "version_minor": 0
      },
      "text/plain": [
       "Validating..:   0%|          | 0/41 [00:00<?, ?it/s]"
      ]
     },
     "metadata": {},
     "output_type": "display_data"
    },
    {
     "data": {
      "application/vnd.jupyter.widget-view+json": {
       "model_id": "a22a7f3e05904230ada0cdce7e4cd02c",
       "version_major": 2,
       "version_minor": 0
      },
      "text/plain": [
       "Training...:   0%|          | 0/94 [00:00<?, ?it/s]"
      ]
     },
     "metadata": {},
     "output_type": "display_data"
    },
    {
     "data": {
      "application/vnd.jupyter.widget-view+json": {
       "model_id": "fbbe407816e849fabe5f0e75d0f835d9",
       "version_major": 2,
       "version_minor": 0
      },
      "text/plain": [
       "Validating..:   0%|          | 0/41 [00:00<?, ?it/s]"
      ]
     },
     "metadata": {},
     "output_type": "display_data"
    },
    {
     "data": {
      "application/vnd.jupyter.widget-view+json": {
       "model_id": "a8aca88356a1497486c5bf1e97ee5009",
       "version_major": 2,
       "version_minor": 0
      },
      "text/plain": [
       "Training...:   0%|          | 0/94 [00:00<?, ?it/s]"
      ]
     },
     "metadata": {},
     "output_type": "display_data"
    },
    {
     "data": {
      "application/vnd.jupyter.widget-view+json": {
       "model_id": "0158839db85847b2853aab28faf3fe75",
       "version_major": 2,
       "version_minor": 0
      },
      "text/plain": [
       "Validating..:   0%|          | 0/41 [00:00<?, ?it/s]"
      ]
     },
     "metadata": {},
     "output_type": "display_data"
    },
    {
     "data": {
      "application/vnd.jupyter.widget-view+json": {
       "model_id": "5de3ce9ae347412281cc001fb68a332b",
       "version_major": 2,
       "version_minor": 0
      },
      "text/plain": [
       "Training...:   0%|          | 0/94 [00:00<?, ?it/s]"
      ]
     },
     "metadata": {},
     "output_type": "display_data"
    },
    {
     "data": {
      "application/vnd.jupyter.widget-view+json": {
       "model_id": "97089f5ff84a47da9c49f03886d09318",
       "version_major": 2,
       "version_minor": 0
      },
      "text/plain": [
       "Validating..:   0%|          | 0/41 [00:00<?, ?it/s]"
      ]
     },
     "metadata": {},
     "output_type": "display_data"
    },
    {
     "data": {
      "application/vnd.jupyter.widget-view+json": {
       "model_id": "22d8d61eb9194047904e82832a0b7def",
       "version_major": 2,
       "version_minor": 0
      },
      "text/plain": [
       "Training...:   0%|          | 0/94 [00:00<?, ?it/s]"
      ]
     },
     "metadata": {},
     "output_type": "display_data"
    },
    {
     "data": {
      "application/vnd.jupyter.widget-view+json": {
       "model_id": "6bab93af70f64292a3d090407576164a",
       "version_major": 2,
       "version_minor": 0
      },
      "text/plain": [
       "Validating..:   0%|          | 0/41 [00:00<?, ?it/s]"
      ]
     },
     "metadata": {},
     "output_type": "display_data"
    },
    {
     "data": {
      "application/vnd.jupyter.widget-view+json": {
       "model_id": "c5a6d534f01e4fa0985ac611298284c2",
       "version_major": 2,
       "version_minor": 0
      },
      "text/plain": [
       "Training...:   0%|          | 0/94 [00:00<?, ?it/s]"
      ]
     },
     "metadata": {},
     "output_type": "display_data"
    },
    {
     "data": {
      "application/vnd.jupyter.widget-view+json": {
       "model_id": "9d04ce4f2447437dbe27e53d416bae50",
       "version_major": 2,
       "version_minor": 0
      },
      "text/plain": [
       "Validating..:   0%|          | 0/41 [00:00<?, ?it/s]"
      ]
     },
     "metadata": {},
     "output_type": "display_data"
    },
    {
     "data": {
      "application/vnd.jupyter.widget-view+json": {
       "model_id": "7140f22a5d5244938b78ebdf6583d5bd",
       "version_major": 2,
       "version_minor": 0
      },
      "text/plain": [
       "Training...:   0%|          | 0/94 [00:00<?, ?it/s]"
      ]
     },
     "metadata": {},
     "output_type": "display_data"
    },
    {
     "data": {
      "application/vnd.jupyter.widget-view+json": {
       "model_id": "59adac6368f64488bf95b5ac6b4118c7",
       "version_major": 2,
       "version_minor": 0
      },
      "text/plain": [
       "Validating..:   0%|          | 0/41 [00:00<?, ?it/s]"
      ]
     },
     "metadata": {},
     "output_type": "display_data"
    },
    {
     "data": {
      "application/vnd.jupyter.widget-view+json": {
       "model_id": "b82a455faf55451fb100c3dd400194fc",
       "version_major": 2,
       "version_minor": 0
      },
      "text/plain": [
       "Training...:   0%|          | 0/94 [00:00<?, ?it/s]"
      ]
     },
     "metadata": {},
     "output_type": "display_data"
    },
    {
     "data": {
      "application/vnd.jupyter.widget-view+json": {
       "model_id": "ed082ddc489f4aa7888932d061fe778a",
       "version_major": 2,
       "version_minor": 0
      },
      "text/plain": [
       "Validating..:   0%|          | 0/41 [00:00<?, ?it/s]"
      ]
     },
     "metadata": {},
     "output_type": "display_data"
    },
    {
     "data": {
      "application/vnd.jupyter.widget-view+json": {
       "model_id": "f8f744675f364a98a60a1df3cd7cd2d2",
       "version_major": 2,
       "version_minor": 0
      },
      "text/plain": [
       "Training...:   0%|          | 0/94 [00:00<?, ?it/s]"
      ]
     },
     "metadata": {},
     "output_type": "display_data"
    },
    {
     "data": {
      "application/vnd.jupyter.widget-view+json": {
       "model_id": "4f3d097dccf740e1891e4d877fac4d73",
       "version_major": 2,
       "version_minor": 0
      },
      "text/plain": [
       "Validating..:   0%|          | 0/41 [00:00<?, ?it/s]"
      ]
     },
     "metadata": {},
     "output_type": "display_data"
    },
    {
     "data": {
      "application/vnd.jupyter.widget-view+json": {
       "model_id": "02cc96f2ff0d4d7c824371a6f838c9e0",
       "version_major": 2,
       "version_minor": 0
      },
      "text/plain": [
       "Training...:   0%|          | 0/94 [00:00<?, ?it/s]"
      ]
     },
     "metadata": {},
     "output_type": "display_data"
    },
    {
     "data": {
      "application/vnd.jupyter.widget-view+json": {
       "model_id": "1e1e8c9c7023431c8d63446f4fffbc63",
       "version_major": 2,
       "version_minor": 0
      },
      "text/plain": [
       "Validating..:   0%|          | 0/41 [00:00<?, ?it/s]"
      ]
     },
     "metadata": {},
     "output_type": "display_data"
    },
    {
     "data": {
      "application/vnd.jupyter.widget-view+json": {
       "model_id": "764ca7e1f6eb468dbbd10d6b74615d32",
       "version_major": 2,
       "version_minor": 0
      },
      "text/plain": [
       "Training...:   0%|          | 0/94 [00:00<?, ?it/s]"
      ]
     },
     "metadata": {},
     "output_type": "display_data"
    },
    {
     "data": {
      "application/vnd.jupyter.widget-view+json": {
       "model_id": "5a7ce96bf41c4717b8d0f88e10bd3f91",
       "version_major": 2,
       "version_minor": 0
      },
      "text/plain": [
       "Validating..:   0%|          | 0/41 [00:00<?, ?it/s]"
      ]
     },
     "metadata": {},
     "output_type": "display_data"
    },
    {
     "data": {
      "application/vnd.jupyter.widget-view+json": {
       "model_id": "57efb31cc947421cb7beba9edcdd9fd9",
       "version_major": 2,
       "version_minor": 0
      },
      "text/plain": [
       "Training...:   0%|          | 0/94 [00:00<?, ?it/s]"
      ]
     },
     "metadata": {},
     "output_type": "display_data"
    },
    {
     "data": {
      "application/vnd.jupyter.widget-view+json": {
       "model_id": "25a4052f7d4f4f4891af2f9c667043aa",
       "version_major": 2,
       "version_minor": 0
      },
      "text/plain": [
       "Validating..:   0%|          | 0/41 [00:00<?, ?it/s]"
      ]
     },
     "metadata": {},
     "output_type": "display_data"
    },
    {
     "data": {
      "application/vnd.jupyter.widget-view+json": {
       "model_id": "46973a95824f44d590ee6579dcc36615",
       "version_major": 2,
       "version_minor": 0
      },
      "text/plain": [
       "Training...:   0%|          | 0/94 [00:00<?, ?it/s]"
      ]
     },
     "metadata": {},
     "output_type": "display_data"
    },
    {
     "data": {
      "application/vnd.jupyter.widget-view+json": {
       "model_id": "c42b028dc23346b2a39678b0d3eb4c83",
       "version_major": 2,
       "version_minor": 0
      },
      "text/plain": [
       "Validating..:   0%|          | 0/41 [00:00<?, ?it/s]"
      ]
     },
     "metadata": {},
     "output_type": "display_data"
    },
    {
     "data": {
      "application/vnd.jupyter.widget-view+json": {
       "model_id": "1c0e008a8edd448b9c6f26885e83406b",
       "version_major": 2,
       "version_minor": 0
      },
      "text/plain": [
       "Training...:   0%|          | 0/94 [00:00<?, ?it/s]"
      ]
     },
     "metadata": {},
     "output_type": "display_data"
    },
    {
     "data": {
      "application/vnd.jupyter.widget-view+json": {
       "model_id": "4c8c8da44ff3482d8bcdb24833783e58",
       "version_major": 2,
       "version_minor": 0
      },
      "text/plain": [
       "Validating..:   0%|          | 0/41 [00:00<?, ?it/s]"
      ]
     },
     "metadata": {},
     "output_type": "display_data"
    },
    {
     "data": {
      "application/vnd.jupyter.widget-view+json": {
       "model_id": "fa9392a6bd7349b6b70aecf86ae03137",
       "version_major": 2,
       "version_minor": 0
      },
      "text/plain": [
       "Training...:   0%|          | 0/94 [00:00<?, ?it/s]"
      ]
     },
     "metadata": {},
     "output_type": "display_data"
    },
    {
     "data": {
      "application/vnd.jupyter.widget-view+json": {
       "model_id": "2083b4d25dd24aa5859444b35067a0f6",
       "version_major": 2,
       "version_minor": 0
      },
      "text/plain": [
       "Validating..:   0%|          | 0/41 [00:00<?, ?it/s]"
      ]
     },
     "metadata": {},
     "output_type": "display_data"
    },
    {
     "data": {
      "application/vnd.jupyter.widget-view+json": {
       "model_id": "edc95747ac78403a80cb4747886d6393",
       "version_major": 2,
       "version_minor": 0
      },
      "text/plain": [
       "Training...:   0%|          | 0/94 [00:00<?, ?it/s]"
      ]
     },
     "metadata": {},
     "output_type": "display_data"
    },
    {
     "data": {
      "application/vnd.jupyter.widget-view+json": {
       "model_id": "f1a02001d57b4f30998588c21c984ff9",
       "version_major": 2,
       "version_minor": 0
      },
      "text/plain": [
       "Validating..:   0%|          | 0/41 [00:00<?, ?it/s]"
      ]
     },
     "metadata": {},
     "output_type": "display_data"
    },
    {
     "data": {
      "application/vnd.jupyter.widget-view+json": {
       "model_id": "ae6b96c25b424f7f8a41d1de7aca4fb7",
       "version_major": 2,
       "version_minor": 0
      },
      "text/plain": [
       "Training...:   0%|          | 0/94 [00:00<?, ?it/s]"
      ]
     },
     "metadata": {},
     "output_type": "display_data"
    },
    {
     "data": {
      "application/vnd.jupyter.widget-view+json": {
       "model_id": "4e8fd4ef156d4a8eaf3dac886cbec8ec",
       "version_major": 2,
       "version_minor": 0
      },
      "text/plain": [
       "Validating..:   0%|          | 0/41 [00:00<?, ?it/s]"
      ]
     },
     "metadata": {},
     "output_type": "display_data"
    },
    {
     "name": "stdout",
     "output_type": "stream",
     "text": [
      "\n",
      "⛔ Early stopping triggered at epoch 22. Stopping training.\n",
      "\n",
      "🏆 Best Validation Accuracy: 0.5895\n",
      "Best model loaded from checkpoints/chrononet_val_best.pth\n"
     ]
    }
   ],
   "source": [
    "model = ChronoNet(in_channels=32, conv_out_channels=32, gru_hidden_size=64, is_binary=True, num_classes=2,)\n",
    "loss_fn = nn.BCEWithLogitsLoss()\n",
    "optimizer = torch.optim.AdamW(model.parameters(), lr=1e-3, weight_decay=1e-4) \n",
    "lr_schedule = torch.optim.lr_scheduler.ReduceLROnPlateau(optimizer, mode='min')\n",
    "early_stopping = EarlyStopping(patience=20, mode='max')\n",
    "\n",
    "trained_model_val, history_val = run_training(\n",
    "    model=model,\n",
    "    train_dataset=train_val_eeg,\n",
    "    val_dataset=val_val_eeg,\n",
    "    loss_fn=loss_fn,\n",
    "    optimizer=optimizer,\n",
    "    lr_schedule=lr_schedule,\n",
    "    early_stopping=early_stopping,\n",
    "    device=device,\n",
    "    batch_size=32,\n",
    "    epochs=100,\n",
    "    model_destination='checkpoints/chrononet_val',\n",
    ")\n",
    "\n",
    "# Saving results\n",
    "history_val.to_csv('results/history_val.csv')"
   ]
  },
  {
   "cell_type": "markdown",
   "id": "15b3dc97",
   "metadata": {},
   "source": [
    "### Training Report :"
   ]
  },
  {
   "cell_type": "code",
   "execution_count": 14,
   "id": "55fce592",
   "metadata": {},
   "outputs": [
    {
     "data": {
      "image/png": "[encoded data removed]",
      "text/plain": [
       "<Figure size 1200x800 with 4 Axes>"
      ]
     },
     "metadata": {},
     "output_type": "display_data"
    }
   ],
   "source": [
    "import matplotlib.pyplot as plt\n",
    "\n",
    "fig, axs = plt.subplots(2, 2, figsize=(12, 8))\n",
    "fig.suptitle('Training and Validation Metrics for Valence and Arousal', fontsize=14)\n",
    "\n",
    "# Valence Loss\n",
    "axs[0, 0].plot(history_val['train_loss'], label='Train Loss')\n",
    "axs[0, 0].plot(history_val['val_loss'], label='Validation Loss')\n",
    "axs[0, 0].set_title('Valence Loss')\n",
    "axs[0, 0].set_xlabel('Epochs')\n",
    "axs[0, 0].set_ylabel('Loss')\n",
    "axs[0, 0].legend()\n",
    "\n",
    "# Valence Accuracy\n",
    "axs[0, 1].plot(history_val['train_acc'], label='Train Accuracy')\n",
    "axs[0, 1].plot(history_val['val_acc'], label='Validation Accuracy')\n",
    "axs[0, 1].set_title('Valence Accuracy')\n",
    "axs[0, 1].set_xlabel('Epochs')\n",
    "axs[0, 1].set_ylabel('Accuracy')\n",
    "axs[0, 1].legend()\n",
    "\n",
    "# Arousal Loss\n",
    "axs[1, 0].plot(history_aro['train_loss'], label='Train Loss')\n",
    "axs[1, 0].plot(history_aro['val_loss'], label='Validation Loss')\n",
    "axs[1, 0].set_title('Arousal Loss')\n",
    "axs[1, 0].set_xlabel('Epochs')\n",
    "axs[1, 0].set_ylabel('Loss')\n",
    "axs[1, 0].legend()\n",
    "\n",
    "# Arousal Accuracy\n",
    "axs[1, 1].plot(history_aro['train_acc'], label='Train Accuracy')\n",
    "axs[1, 1].plot(history_aro['val_acc'], label='Validation Accuracy')\n",
    "axs[1, 1].set_title('Arousal Accuracy')\n",
    "axs[1, 1].set_xlabel('Epochs')\n",
    "axs[1, 1].set_ylabel('Accuracy')\n",
    "axs[1, 1].legend()\n",
    "\n",
    "plt.tight_layout(rect=[0, 0.03, 1, 0.95])\n",
    "plt.show()"
   ]
  },
  {
   "cell_type": "markdown",
   "id": "22f2073c",
   "metadata": {},
   "source": [
    "## Results\n",
    "\n",
    "### Testing network on Subjects number **31** and **32**"
   ]
  },
  {
   "cell_type": "code",
   "execution_count": null,
   "id": "85926e60",
   "metadata": {},
   "outputs": [
    {
     "data": {
      "application/vnd.jupyter.widget-view+json": {
       "model_id": "2f132581fda346979a551016f92dac2b",
       "version_major": 2,
       "version_minor": 0
      },
      "text/plain": [
       "Loading subject 31:   0%|          | 0/40 [00:00<?, ?it/s]"
      ]
     },
     "metadata": {},
     "output_type": "display_data"
    },
    {
     "data": {
      "application/vnd.jupyter.widget-view+json": {
       "model_id": "7c334658d5c1445991950cf3bce3220e",
       "version_major": 2,
       "version_minor": 0
      },
      "text/plain": [
       "Loading subject 32:   0%|          | 0/40 [00:00<?, ?it/s]"
      ]
     },
     "metadata": {},
     "output_type": "display_data"
    },
    {
     "data": {
      "application/vnd.jupyter.widget-view+json": {
       "model_id": "b5aa27abdde740bfb7218dbb8e182975",
       "version_major": 2,
       "version_minor": 0
      },
      "text/plain": [
       "Loading subject 31:   0%|          | 0/40 [00:00<?, ?it/s]"
      ]
     },
     "metadata": {},
     "output_type": "display_data"
    },
    {
     "data": {
      "application/vnd.jupyter.widget-view+json": {
       "model_id": "d46d61ab651845a0be48781a2c936535",
       "version_major": 2,
       "version_minor": 0
      },
      "text/plain": [
       "Loading subject 32:   0%|          | 0/40 [00:00<?, ?it/s]"
      ]
     },
     "metadata": {},
     "output_type": "display_data"
    },
    {
     "data": {
      "application/vnd.jupyter.widget-view+json": {
       "model_id": "232d5ba1fcfd40ee919c6b4b1da78bb0",
       "version_major": 2,
       "version_minor": 0
      },
      "text/plain": [
       "Predicting...:   0%|          | 0/75 [00:00<?, ?it/s]"
      ]
     },
     "metadata": {},
     "output_type": "display_data"
    },
    {
     "data": {
      "application/vnd.jupyter.widget-view+json": {
       "model_id": "b779b64ccc1240a2805f3411e241f08e",
       "version_major": 2,
       "version_minor": 0
      },
      "text/plain": [
       "Predicting...:   0%|          | 0/75 [00:00<?, ?it/s]"
      ]
     },
     "metadata": {},
     "output_type": "display_data"
    }
   ],
   "source": [
    "from scripts.test import predict\n",
    "from datasets.deap import DEAP, load_deap_dataset\n",
    "\n",
    "test_valence_data, test_valence_labels, test_valence_values  = load_deap_dataset(\n",
    "    label_type='valence',\n",
    "    label_path='./data/DEAP/labels',\n",
    "    bio_path='./data/DEAP/bio_normalized',\n",
    "    subjects=list(range(31, 33))\n",
    ")\n",
    "test_valence_dataset = DEAP(test_valence_data, torch.tensor(test_valence_labels, dtype=torch.long), test_valence_values, augment=False)\n",
    "\n",
    "test_arousal_data, test_arousal_labels, test_arousal_values = load_deap_dataset(\n",
    "    label_type='arousal',\n",
    "    label_path='./data/DEAP/labels',\n",
    "    bio_path='./data/DEAP/bio_normalized',\n",
    "    subjects=list(range(31, 33))\n",
    ")\n",
    "test_arousal_dataset = DEAP(test_arousal_data, torch.tensor(test_arousal_labels, dtype=torch.long), test_arousal_values, augment=False)\n",
    "\n",
    "\n",
    "\n",
    "pred_val, prob_val, true_val  = predict(model, test_valence_dataset, device, batch_size=64, return_probs=True)\n",
    "\n",
    "# from scripts.test import predict\n",
    "pred_aro, prob_aro, true_aro  = predict(model, test_arousal_dataset, device, batch_size=64, return_probs=True)"
   ]
  },
  {
   "cell_type": "markdown",
   "id": "5d8ff132",
   "metadata": {},
   "source": [
    "### Arousal Report"
   ]
  },
  {
   "cell_type": "code",
   "execution_count": null,
   "id": "a1801f3d",
   "metadata": {},
   "outputs": [
    {
     "name": "stdout",
     "output_type": "stream",
     "text": [
      "              precision    recall  f1-score   support\n",
      "\n",
      " Low Arousal       0.00      0.00      0.00         0\n",
      "High Arousal       1.00      0.60      0.75      4800\n",
      "\n",
      "    accuracy                           0.60      4800\n",
      "   macro avg       0.50      0.30      0.37      4800\n",
      "weighted avg       1.00      0.60      0.75      4800\n",
      "\n"
     ]
    },
    {
     "name": "stderr",
     "output_type": "stream",
     "text": [
      "c:\\Users\\devdp\\anaconda3\\Lib\\site-packages\\sklearn\\metrics\\_classification.py:1344: UndefinedMetricWarning: Recall and F-score are ill-defined and being set to 0.0 in labels with no true samples. Use `zero_division` parameter to control this behavior.\n",
      "  _warn_prf(average, modifier, msg_start, len(result))\n",
      "c:\\Users\\devdp\\anaconda3\\Lib\\site-packages\\sklearn\\metrics\\_classification.py:1344: UndefinedMetricWarning: Recall and F-score are ill-defined and being set to 0.0 in labels with no true samples. Use `zero_division` parameter to control this behavior.\n",
      "  _warn_prf(average, modifier, msg_start, len(result))\n",
      "c:\\Users\\devdp\\anaconda3\\Lib\\site-packages\\sklearn\\metrics\\_classification.py:1344: UndefinedMetricWarning: Recall and F-score are ill-defined and being set to 0.0 in labels with no true samples. Use `zero_division` parameter to control this behavior.\n",
      "  _warn_prf(average, modifier, msg_start, len(result))\n"
     ]
    }
   ],
   "source": [
    "from sklearn.metrics import classification_report\n",
    "print(classification_report(pred_aro, true_aro, target_names=['Low Arousal', 'High Arousal']))"
   ]
  },
  {
   "cell_type": "markdown",
   "id": "8c255bb0",
   "metadata": {},
   "source": [
    "### Valence Report"
   ]
  },
  {
   "cell_type": "code",
   "execution_count": null,
   "id": "29ca98c0",
   "metadata": {},
   "outputs": [
    {
     "name": "stdout",
     "output_type": "stream",
     "text": [
      "              precision    recall  f1-score   support\n",
      "\n",
      " Low Valence       0.00      0.00      0.00         0\n",
      "High Valence       1.00      0.57      0.73      4800\n",
      "\n",
      "    accuracy                           0.57      4800\n",
      "   macro avg       0.50      0.29      0.37      4800\n",
      "weighted avg       1.00      0.57      0.73      4800\n",
      "\n"
     ]
    },
    {
     "name": "stderr",
     "output_type": "stream",
     "text": [
      "c:\\Users\\devdp\\anaconda3\\Lib\\site-packages\\sklearn\\metrics\\_classification.py:1344: UndefinedMetricWarning: Recall and F-score are ill-defined and being set to 0.0 in labels with no true samples. Use `zero_division` parameter to control this behavior.\n",
      "  _warn_prf(average, modifier, msg_start, len(result))\n",
      "c:\\Users\\devdp\\anaconda3\\Lib\\site-packages\\sklearn\\metrics\\_classification.py:1344: UndefinedMetricWarning: Recall and F-score are ill-defined and being set to 0.0 in labels with no true samples. Use `zero_division` parameter to control this behavior.\n",
      "  _warn_prf(average, modifier, msg_start, len(result))\n",
      "c:\\Users\\devdp\\anaconda3\\Lib\\site-packages\\sklearn\\metrics\\_classification.py:1344: UndefinedMetricWarning: Recall and F-score are ill-defined and being set to 0.0 in labels with no true samples. Use `zero_division` parameter to control this behavior.\n",
      "  _warn_prf(average, modifier, msg_start, len(result))\n"
     ]
    }
   ],
   "source": [
    "from sklearn.metrics import classification_report\n",
    "print(classification_report(pred_val, true_val, target_names=['Low Valence', 'High Valence']))"
   ]
  },
  {
   "cell_type": "markdown",
   "id": "4f835256",
   "metadata": {},
   "source": [
    "### Confusion Matrix"
   ]
  },
  {
   "cell_type": "code",
   "execution_count": null,
   "id": "e6553c15",
   "metadata": {},
   "outputs": [
    {
     "data": {
      "image/png": "[encoded data removed]",
      "text/plain": [
       "<Figure size 600x500 with 2 Axes>"
      ]
     },
     "metadata": {},
     "output_type": "display_data"
    },
    {
     "data": {
      "image/png": "[encoded data removed]",
      "text/plain": [
       "<Figure size 600x500 with 2 Axes>"
      ]
     },
     "metadata": {},
     "output_type": "display_data"
    }
   ],
   "source": [
    "from scripts.metrics import plot_confusion_matrix\n",
    "\n",
    "plot_confusion_matrix(\n",
    "    true_val, pred_val,\n",
    "    class_names=['Low Valence', 'High Valence'],\n",
    "    title='Confusion Matrix for Valence'\n",
    ")\n",
    "\n",
    "plot_confusion_matrix(\n",
    "    true_aro, pred_aro,\n",
    "    class_names=['Low Arousal', 'High Arousal'],\n",
    "    title='Confusion Matrix for Arousal'\n",
    ")"
   ]
  },
  {
   "cell_type": "code",
   "execution_count": null,
   "id": "335c246f",
   "metadata": {},
   "outputs": [],
   "source": []
  }
 ],
 "metadata": {
  "kernelspec": {
   "display_name": "base",
   "language": "python",
   "name": "python3"
  },
  "language_info": {
   "codemirror_mode": {
    "name": "ipython",
    "version": 3
   },
   "file_extension": ".py",
   "mimetype": "text/x-python",
   "name": "python",
   "nbconvert_exporter": "python",
   "pygments_lexer": "ipython3",
   "version": "3.11.7"
  }
 },
 "nbformat": 4,
 "nbformat_minor": 5
}
