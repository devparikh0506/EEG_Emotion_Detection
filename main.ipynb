{
 "cells": [
  {
   "cell_type": "markdown",
   "id": "8324cb64",
   "metadata": {},
   "source": [
    "# Emotion recognition using Deep Recurrent Neural Network"
   ]
  },
  {
   "cell_type": "markdown",
   "id": "29899d7f",
   "metadata": {},
   "source": [
    "## Datasource \n",
    "original source: https://www.eecs.qmul.ac.uk/mmv/datasets/deap/\n",
    "\n",
    "cloned version for easy access: https://umbc.app.box.com/s/dwd0cjorv2mgza78x69l9ptiborzko01\n",
    "\n",
    "\n",
    "(Note: For this project we are going to use `data_preprocessed_python.zip` file.)\n",
    "\n",
    "Instructions:\n",
    "- Download the `data_preprocessed_python.zip` file and extract it inside `data` folder\n",
    "- Download the `participant_ratings.csv` file and place in inside `data/DEAP/labels` folder\n",
    "- Run `pip install -r requirements.txt`\n",
    "- Run `python  ./scripts/preprocess.py` (This will preprocess the raw data and create `bio_normalized` folder to store the preprocessed data)"
   ]
  },
  {
   "cell_type": "code",
   "execution_count": 3,
   "id": "03cf1cf9",
   "metadata": {},
   "outputs": [],
   "source": [
    "# import os\n",
    "# os.environ[\"KMP_DUPLICATE_LIB_OK\"]=\"TRUE\""
   ]
  },
  {
   "cell_type": "markdown",
   "id": "0547bfe1",
   "metadata": {},
   "source": [
    "## 🧠 DEAP EEG Dataset Preprocessing Pipeline\n",
    "\n",
    "To prepare the DEAP EEG dataset for deep learning models, we implement a customized preprocessing pipeline using PyTorch. This includes normalization, label transformation into discrete classes, dataset splitting, and data augmentation.\n",
    "\n",
    "---\n",
    "\n",
    "### 🔍 Preprocessing Overview\n",
    "\n",
    "#### 1. **Input Data Structure**\n",
    "- EEG signals are stored as `.npy` files in the shape of `[32, 128]` (1-second segment at 128 Hz).\n",
    "- Each subject has 40 trials, each trial is divided into 60 segments.\n",
    "- Labels (Valence, Arousal) are retrieved from a CSV file and mapped using `(subject_id, trial_id)`.\n",
    "\n",
    "---\n",
    "\n",
    "#### 2. **Normalization**\n",
    "- Each EEG segment is converted to `float32` and normalized per channel.\n",
    "- Z-score normalization is implicitly applied during training.\n",
    "- Additional filtering or preprocessing (e.g., bandpass filter) can be included before loading if required.\n",
    "\n",
    "---\n",
    "\n",
    "### 3. **Label Conversion**\n",
    "Labels are determined based on the `label_type` parameter:\n",
    "\n",
    "- **Valence-only**: Binary classification  \n",
    "  - `0` if valence < 5  \n",
    "  - `1` if valence ≥ 5  \n",
    "\n",
    "- **Arousal-only**: Binary classification  \n",
    "  - `0` if arousal < 5  \n",
    "  - `1` if arousal ≥ 5  \n",
    "\n",
    "- **Combined (4-Class Classification)**: Based on valence and arousal combinations:\n",
    "\n",
    "| Valence | Arousal | Emotion Class     | Label |\n",
    "|---------|---------|-------------------|-------|\n",
    "| High    | High    | Excited/Happy     | 0     |\n",
    "| High    | Low     | Relaxed           | 1     |\n",
    "| Low     | High    | Angry             | 2     |\n",
    "| Low     | Low     | Sad               | 3     |\n",
    "\n",
    "> **Note**: High = score ≥ 5, Low = score < 5\n",
    "\n",
    "---\n",
    "\n",
    "### 4. **Dataset Construction**\n",
    "- EEG segments are loaded using `load_deap_dataset()` for all selected subjects and trials.\n",
    "- Each EEG segment is stored along with its:\n",
    "  - Preprocessed EEG tensor\n",
    "  - Classification label (0–3)\n",
    "  - Raw valence/arousal score\n",
    "\n",
    "- The dataset is split using `train_test_split()`:\n",
    "  - Stratified sampling is used for class balance\n",
    "  - Default: 70% training, 30% validation\n",
    "\n",
    "---\n",
    "\n",
    "### 5. **Data Augmentation**\n",
    "- The custom `DEAP` PyTorch `Dataset` class supports optional augmentation.\n",
    "- If `augment=True`, EEG segments are randomly modified using `augment_eeg()` (e.g., segment mixing, noise injection).\n",
    "- Augmentation is only applied during training.\n",
    "\n",
    "---\n",
    "\n",
    "### ✅ Dataset Generation Functions\n",
    "\n",
    "- `create_train_val_datasets(label_type, label_path, bio_path, subjects, ...)`\n",
    "  - Splits the full dataset into train/val.\n",
    "  - Returns `train_dataset`, `val_dataset`.\n",
    "  - Optionally saves `.pt` files.\n",
    "\n",
    "- `create_test_dataset(label_type, label_path, bio_path, subjects)`\n",
    "  - Returns the test dataset for held-out subjects.\n",
    "\n",
    "---\n",
    "\n",
    "This pipeline ensures that EEG inputs are properly structured, normalized, and split to facilitate effective training of deep learning models on the DEAP dataset.\n"
   ]
  },
  {
   "cell_type": "code",
   "execution_count": 4,
   "id": "9fd68cef",
   "metadata": {},
   "outputs": [
    {
     "name": "stdout",
     "output_type": "stream",
     "text": [
      "Using device: cuda\n"
     ]
    }
   ],
   "source": [
    "import pandas as pd\n",
    "import numpy as np\n",
    "from utils.torch_utils import initialize_torch\n",
    "from configs.runtime import device\n",
    "initialize_torch()"
   ]
  },
  {
   "cell_type": "code",
   "execution_count": null,
   "id": "acb84fd2",
   "metadata": {},
   "outputs": [],
   "source": [
    "import torch\n",
    "if torch.cuda.is_available():\n",
    "    torch.cuda.empty_cache()"
   ]
  },
  {
   "cell_type": "code",
   "execution_count": 5,
   "id": "92aee8f4",
   "metadata": {},
   "outputs": [
    {
     "data": {
      "application/vnd.jupyter.widget-view+json": {
       "model_id": "2cc9065d36a34b1ab3ea4cf339e6798a",
       "version_major": 2,
       "version_minor": 0
      },
      "text/plain": [
       "Loading subject 1:   0%|          | 0/40 [00:00<?, ?it/s]"
      ]
     },
     "metadata": {},
     "output_type": "display_data"
    },
    {
     "data": {
      "application/vnd.jupyter.widget-view+json": {
       "model_id": "e5fd53ec969b4317a8d0d5e28c8b03d2",
       "version_major": 2,
       "version_minor": 0
      },
      "text/plain": [
       "Loading subject 2:   0%|          | 0/40 [00:00<?, ?it/s]"
      ]
     },
     "metadata": {},
     "output_type": "display_data"
    },
    {
     "data": {
      "application/vnd.jupyter.widget-view+json": {
       "model_id": "e4547aa402894dba952c38ee8eabb6bc",
       "version_major": 2,
       "version_minor": 0
      },
      "text/plain": [
       "Loading subject 3:   0%|          | 0/40 [00:00<?, ?it/s]"
      ]
     },
     "metadata": {},
     "output_type": "display_data"
    },
    {
     "data": {
      "application/vnd.jupyter.widget-view+json": {
       "model_id": "e2d9daf36aab44c7ab3e6ccea975b230",
       "version_major": 2,
       "version_minor": 0
      },
      "text/plain": [
       "Loading subject 4:   0%|          | 0/40 [00:00<?, ?it/s]"
      ]
     },
     "metadata": {},
     "output_type": "display_data"
    },
    {
     "data": {
      "application/vnd.jupyter.widget-view+json": {
       "model_id": "6e0f0688fb5144e8b74bcb6bb1b60c76",
       "version_major": 2,
       "version_minor": 0
      },
      "text/plain": [
       "Loading subject 5:   0%|          | 0/40 [00:00<?, ?it/s]"
      ]
     },
     "metadata": {},
     "output_type": "display_data"
    },
    {
     "data": {
      "application/vnd.jupyter.widget-view+json": {
       "model_id": "e06b3e1f702641a0abf0b411e6cca05d",
       "version_major": 2,
       "version_minor": 0
      },
      "text/plain": [
       "Loading subject 6:   0%|          | 0/40 [00:00<?, ?it/s]"
      ]
     },
     "metadata": {},
     "output_type": "display_data"
    },
    {
     "data": {
      "application/vnd.jupyter.widget-view+json": {
       "model_id": "b98b0443faeb4db994bffd272460ec38",
       "version_major": 2,
       "version_minor": 0
      },
      "text/plain": [
       "Loading subject 7:   0%|          | 0/40 [00:00<?, ?it/s]"
      ]
     },
     "metadata": {},
     "output_type": "display_data"
    },
    {
     "data": {
      "application/vnd.jupyter.widget-view+json": {
       "model_id": "aaba027f159c490aa7fb842d01706161",
       "version_major": 2,
       "version_minor": 0
      },
      "text/plain": [
       "Loading subject 8:   0%|          | 0/40 [00:00<?, ?it/s]"
      ]
     },
     "metadata": {},
     "output_type": "display_data"
    },
    {
     "data": {
      "application/vnd.jupyter.widget-view+json": {
       "model_id": "620d289ca24b4c30bf5333830ca60e31",
       "version_major": 2,
       "version_minor": 0
      },
      "text/plain": [
       "Loading subject 9:   0%|          | 0/40 [00:00<?, ?it/s]"
      ]
     },
     "metadata": {},
     "output_type": "display_data"
    },
    {
     "data": {
      "application/vnd.jupyter.widget-view+json": {
       "model_id": "4ce01335942c41c99273adee4bd8506f",
       "version_major": 2,
       "version_minor": 0
      },
      "text/plain": [
       "Loading subject 10:   0%|          | 0/40 [00:00<?, ?it/s]"
      ]
     },
     "metadata": {},
     "output_type": "display_data"
    },
    {
     "data": {
      "application/vnd.jupyter.widget-view+json": {
       "model_id": "1b5cfb06083844e9908e24f5c2423001",
       "version_major": 2,
       "version_minor": 0
      },
      "text/plain": [
       "Loading subject 11:   0%|          | 0/40 [00:00<?, ?it/s]"
      ]
     },
     "metadata": {},
     "output_type": "display_data"
    },
    {
     "data": {
      "application/vnd.jupyter.widget-view+json": {
       "model_id": "1220c19143c44e41b72bb54f32a9fbac",
       "version_major": 2,
       "version_minor": 0
      },
      "text/plain": [
       "Loading subject 12:   0%|          | 0/40 [00:00<?, ?it/s]"
      ]
     },
     "metadata": {},
     "output_type": "display_data"
    },
    {
     "data": {
      "application/vnd.jupyter.widget-view+json": {
       "model_id": "f60824e824bb46b2b9e78375835fcae1",
       "version_major": 2,
       "version_minor": 0
      },
      "text/plain": [
       "Loading subject 13:   0%|          | 0/40 [00:00<?, ?it/s]"
      ]
     },
     "metadata": {},
     "output_type": "display_data"
    },
    {
     "data": {
      "application/vnd.jupyter.widget-view+json": {
       "model_id": "eb2a8350ade04d70919eebea10ff17eb",
       "version_major": 2,
       "version_minor": 0
      },
      "text/plain": [
       "Loading subject 14:   0%|          | 0/40 [00:00<?, ?it/s]"
      ]
     },
     "metadata": {},
     "output_type": "display_data"
    },
    {
     "data": {
      "application/vnd.jupyter.widget-view+json": {
       "model_id": "13586ee744b144b694769fc640ee86a5",
       "version_major": 2,
       "version_minor": 0
      },
      "text/plain": [
       "Loading subject 15:   0%|          | 0/40 [00:00<?, ?it/s]"
      ]
     },
     "metadata": {},
     "output_type": "display_data"
    },
    {
     "data": {
      "application/vnd.jupyter.widget-view+json": {
       "model_id": "1bcec892ee6c4bd78cfe80c6f63b1839",
       "version_major": 2,
       "version_minor": 0
      },
      "text/plain": [
       "Loading subject 16:   0%|          | 0/40 [00:00<?, ?it/s]"
      ]
     },
     "metadata": {},
     "output_type": "display_data"
    },
    {
     "data": {
      "application/vnd.jupyter.widget-view+json": {
       "model_id": "0ecd0ac7d79c4d748ca14ed1efdd376b",
       "version_major": 2,
       "version_minor": 0
      },
      "text/plain": [
       "Loading subject 17:   0%|          | 0/40 [00:00<?, ?it/s]"
      ]
     },
     "metadata": {},
     "output_type": "display_data"
    },
    {
     "data": {
      "application/vnd.jupyter.widget-view+json": {
       "model_id": "ca14ae53595a43519223f27a98177e80",
       "version_major": 2,
       "version_minor": 0
      },
      "text/plain": [
       "Loading subject 18:   0%|          | 0/40 [00:00<?, ?it/s]"
      ]
     },
     "metadata": {},
     "output_type": "display_data"
    },
    {
     "data": {
      "application/vnd.jupyter.widget-view+json": {
       "model_id": "37b07fab650045a9b50c377b5003fedc",
       "version_major": 2,
       "version_minor": 0
      },
      "text/plain": [
       "Loading subject 19:   0%|          | 0/40 [00:00<?, ?it/s]"
      ]
     },
     "metadata": {},
     "output_type": "display_data"
    },
    {
     "data": {
      "application/vnd.jupyter.widget-view+json": {
       "model_id": "131ba164df904e82b762f08072f06a8d",
       "version_major": 2,
       "version_minor": 0
      },
      "text/plain": [
       "Loading subject 20:   0%|          | 0/40 [00:00<?, ?it/s]"
      ]
     },
     "metadata": {},
     "output_type": "display_data"
    },
    {
     "data": {
      "application/vnd.jupyter.widget-view+json": {
       "model_id": "577fc90e71f44620b0e07892e1a725ba",
       "version_major": 2,
       "version_minor": 0
      },
      "text/plain": [
       "Loading subject 21:   0%|          | 0/40 [00:00<?, ?it/s]"
      ]
     },
     "metadata": {},
     "output_type": "display_data"
    },
    {
     "data": {
      "application/vnd.jupyter.widget-view+json": {
       "model_id": "ffacd2c4b7ba47c19e5b9895419ba4bf",
       "version_major": 2,
       "version_minor": 0
      },
      "text/plain": [
       "Loading subject 22:   0%|          | 0/40 [00:00<?, ?it/s]"
      ]
     },
     "metadata": {},
     "output_type": "display_data"
    },
    {
     "data": {
      "application/vnd.jupyter.widget-view+json": {
       "model_id": "5eab82b8d9f14c75bbf984394e8faa22",
       "version_major": 2,
       "version_minor": 0
      },
      "text/plain": [
       "Loading subject 23:   0%|          | 0/40 [00:00<?, ?it/s]"
      ]
     },
     "metadata": {},
     "output_type": "display_data"
    },
    {
     "data": {
      "application/vnd.jupyter.widget-view+json": {
       "model_id": "bebef5c23606487bbb527dfb5f29a580",
       "version_major": 2,
       "version_minor": 0
      },
      "text/plain": [
       "Loading subject 24:   0%|          | 0/40 [00:00<?, ?it/s]"
      ]
     },
     "metadata": {},
     "output_type": "display_data"
    },
    {
     "data": {
      "application/vnd.jupyter.widget-view+json": {
       "model_id": "cbbad9ee519d48978405b11f05d18136",
       "version_major": 2,
       "version_minor": 0
      },
      "text/plain": [
       "Loading subject 25:   0%|          | 0/40 [00:00<?, ?it/s]"
      ]
     },
     "metadata": {},
     "output_type": "display_data"
    },
    {
     "data": {
      "application/vnd.jupyter.widget-view+json": {
       "model_id": "eeab8e6e93b74faa81e7aad365181e80",
       "version_major": 2,
       "version_minor": 0
      },
      "text/plain": [
       "Loading subject 26:   0%|          | 0/40 [00:00<?, ?it/s]"
      ]
     },
     "metadata": {},
     "output_type": "display_data"
    },
    {
     "data": {
      "application/vnd.jupyter.widget-view+json": {
       "model_id": "641e3e94881f4f719f6533f5aa47a1e9",
       "version_major": 2,
       "version_minor": 0
      },
      "text/plain": [
       "Loading subject 27:   0%|          | 0/40 [00:00<?, ?it/s]"
      ]
     },
     "metadata": {},
     "output_type": "display_data"
    },
    {
     "data": {
      "application/vnd.jupyter.widget-view+json": {
       "model_id": "eb01fcfa91374e7bb9a93a35d6d3c1f5",
       "version_major": 2,
       "version_minor": 0
      },
      "text/plain": [
       "Loading subject 28:   0%|          | 0/40 [00:00<?, ?it/s]"
      ]
     },
     "metadata": {},
     "output_type": "display_data"
    },
    {
     "data": {
      "application/vnd.jupyter.widget-view+json": {
       "model_id": "c1191d0ad9014d38bd3793f87bb63c37",
       "version_major": 2,
       "version_minor": 0
      },
      "text/plain": [
       "Loading subject 29:   0%|          | 0/40 [00:00<?, ?it/s]"
      ]
     },
     "metadata": {},
     "output_type": "display_data"
    },
    {
     "data": {
      "application/vnd.jupyter.widget-view+json": {
       "model_id": "f5b1076446ce40769dfdda5c3f95b989",
       "version_major": 2,
       "version_minor": 0
      },
      "text/plain": [
       "Loading subject 30:   0%|          | 0/40 [00:00<?, ?it/s]"
      ]
     },
     "metadata": {},
     "output_type": "display_data"
    },
    {
     "data": {
      "application/vnd.jupyter.widget-view+json": {
       "model_id": "c417331ebfdb4bf0b3da63bbdc7fa86f",
       "version_major": 2,
       "version_minor": 0
      },
      "text/plain": [
       "Loading subject 1:   0%|          | 0/40 [00:00<?, ?it/s]"
      ]
     },
     "metadata": {},
     "output_type": "display_data"
    },
    {
     "data": {
      "application/vnd.jupyter.widget-view+json": {
       "model_id": "673f4a9a008c40b6b9a9d98b4ccdbcd3",
       "version_major": 2,
       "version_minor": 0
      },
      "text/plain": [
       "Loading subject 2:   0%|          | 0/40 [00:00<?, ?it/s]"
      ]
     },
     "metadata": {},
     "output_type": "display_data"
    },
    {
     "data": {
      "application/vnd.jupyter.widget-view+json": {
       "model_id": "fa684f0a96d44a50a7abaf865d1bec1d",
       "version_major": 2,
       "version_minor": 0
      },
      "text/plain": [
       "Loading subject 3:   0%|          | 0/40 [00:00<?, ?it/s]"
      ]
     },
     "metadata": {},
     "output_type": "display_data"
    },
    {
     "data": {
      "application/vnd.jupyter.widget-view+json": {
       "model_id": "3e697befea484542aab6e1522ef27426",
       "version_major": 2,
       "version_minor": 0
      },
      "text/plain": [
       "Loading subject 4:   0%|          | 0/40 [00:00<?, ?it/s]"
      ]
     },
     "metadata": {},
     "output_type": "display_data"
    },
    {
     "data": {
      "application/vnd.jupyter.widget-view+json": {
       "model_id": "bada2b5c328b40dda613e846bc14b3ba",
       "version_major": 2,
       "version_minor": 0
      },
      "text/plain": [
       "Loading subject 5:   0%|          | 0/40 [00:00<?, ?it/s]"
      ]
     },
     "metadata": {},
     "output_type": "display_data"
    },
    {
     "data": {
      "application/vnd.jupyter.widget-view+json": {
       "model_id": "16cfaa40aae446b1a8bf67aa0747b4a3",
       "version_major": 2,
       "version_minor": 0
      },
      "text/plain": [
       "Loading subject 6:   0%|          | 0/40 [00:00<?, ?it/s]"
      ]
     },
     "metadata": {},
     "output_type": "display_data"
    },
    {
     "data": {
      "application/vnd.jupyter.widget-view+json": {
       "model_id": "948aaf47581f4510ad0155accf48c185",
       "version_major": 2,
       "version_minor": 0
      },
      "text/plain": [
       "Loading subject 7:   0%|          | 0/40 [00:00<?, ?it/s]"
      ]
     },
     "metadata": {},
     "output_type": "display_data"
    },
    {
     "data": {
      "application/vnd.jupyter.widget-view+json": {
       "model_id": "763243cc4db74462991dfb8831a8a6d7",
       "version_major": 2,
       "version_minor": 0
      },
      "text/plain": [
       "Loading subject 8:   0%|          | 0/40 [00:00<?, ?it/s]"
      ]
     },
     "metadata": {},
     "output_type": "display_data"
    },
    {
     "data": {
      "application/vnd.jupyter.widget-view+json": {
       "model_id": "e97f9d79d3854beea801d0419c0677ca",
       "version_major": 2,
       "version_minor": 0
      },
      "text/plain": [
       "Loading subject 9:   0%|          | 0/40 [00:00<?, ?it/s]"
      ]
     },
     "metadata": {},
     "output_type": "display_data"
    },
    {
     "data": {
      "application/vnd.jupyter.widget-view+json": {
       "model_id": "f5bdb9d5278843d190a2193bc2823e5c",
       "version_major": 2,
       "version_minor": 0
      },
      "text/plain": [
       "Loading subject 10:   0%|          | 0/40 [00:00<?, ?it/s]"
      ]
     },
     "metadata": {},
     "output_type": "display_data"
    },
    {
     "data": {
      "application/vnd.jupyter.widget-view+json": {
       "model_id": "670d38e508f34efba4cb9b8f0fffccec",
       "version_major": 2,
       "version_minor": 0
      },
      "text/plain": [
       "Loading subject 11:   0%|          | 0/40 [00:00<?, ?it/s]"
      ]
     },
     "metadata": {},
     "output_type": "display_data"
    },
    {
     "data": {
      "application/vnd.jupyter.widget-view+json": {
       "model_id": "a75877788cbc4a9db6254ff0ff59c1c7",
       "version_major": 2,
       "version_minor": 0
      },
      "text/plain": [
       "Loading subject 12:   0%|          | 0/40 [00:00<?, ?it/s]"
      ]
     },
     "metadata": {},
     "output_type": "display_data"
    },
    {
     "data": {
      "application/vnd.jupyter.widget-view+json": {
       "model_id": "69f4e3e116ed4a2d819cae45fc6ac595",
       "version_major": 2,
       "version_minor": 0
      },
      "text/plain": [
       "Loading subject 13:   0%|          | 0/40 [00:00<?, ?it/s]"
      ]
     },
     "metadata": {},
     "output_type": "display_data"
    },
    {
     "data": {
      "application/vnd.jupyter.widget-view+json": {
       "model_id": "711817e4d7f64045b4b5ab87b20a9a46",
       "version_major": 2,
       "version_minor": 0
      },
      "text/plain": [
       "Loading subject 14:   0%|          | 0/40 [00:00<?, ?it/s]"
      ]
     },
     "metadata": {},
     "output_type": "display_data"
    },
    {
     "data": {
      "application/vnd.jupyter.widget-view+json": {
       "model_id": "b3340a44ae174fb4b52cabe2e2f44abc",
       "version_major": 2,
       "version_minor": 0
      },
      "text/plain": [
       "Loading subject 15:   0%|          | 0/40 [00:00<?, ?it/s]"
      ]
     },
     "metadata": {},
     "output_type": "display_data"
    },
    {
     "data": {
      "application/vnd.jupyter.widget-view+json": {
       "model_id": "25b636869652452d8fd03e7831568165",
       "version_major": 2,
       "version_minor": 0
      },
      "text/plain": [
       "Loading subject 16:   0%|          | 0/40 [00:00<?, ?it/s]"
      ]
     },
     "metadata": {},
     "output_type": "display_data"
    },
    {
     "data": {
      "application/vnd.jupyter.widget-view+json": {
       "model_id": "b8ad4893605742bbb6bdc4e384226966",
       "version_major": 2,
       "version_minor": 0
      },
      "text/plain": [
       "Loading subject 17:   0%|          | 0/40 [00:00<?, ?it/s]"
      ]
     },
     "metadata": {},
     "output_type": "display_data"
    },
    {
     "data": {
      "application/vnd.jupyter.widget-view+json": {
       "model_id": "f3c3d7be2eed4410be7b107cd23d7097",
       "version_major": 2,
       "version_minor": 0
      },
      "text/plain": [
       "Loading subject 18:   0%|          | 0/40 [00:00<?, ?it/s]"
      ]
     },
     "metadata": {},
     "output_type": "display_data"
    },
    {
     "data": {
      "application/vnd.jupyter.widget-view+json": {
       "model_id": "f546e8dbc1f7454d8b96f353ecc489c4",
       "version_major": 2,
       "version_minor": 0
      },
      "text/plain": [
       "Loading subject 19:   0%|          | 0/40 [00:00<?, ?it/s]"
      ]
     },
     "metadata": {},
     "output_type": "display_data"
    },
    {
     "data": {
      "application/vnd.jupyter.widget-view+json": {
       "model_id": "94eb5423a1904d43abcfcb93fd4bf53c",
       "version_major": 2,
       "version_minor": 0
      },
      "text/plain": [
       "Loading subject 20:   0%|          | 0/40 [00:00<?, ?it/s]"
      ]
     },
     "metadata": {},
     "output_type": "display_data"
    },
    {
     "data": {
      "application/vnd.jupyter.widget-view+json": {
       "model_id": "b183f860ab4942ddb5082126b762011a",
       "version_major": 2,
       "version_minor": 0
      },
      "text/plain": [
       "Loading subject 21:   0%|          | 0/40 [00:00<?, ?it/s]"
      ]
     },
     "metadata": {},
     "output_type": "display_data"
    },
    {
     "data": {
      "application/vnd.jupyter.widget-view+json": {
       "model_id": "898b8cf826e24571acdd9b8e617f204f",
       "version_major": 2,
       "version_minor": 0
      },
      "text/plain": [
       "Loading subject 22:   0%|          | 0/40 [00:00<?, ?it/s]"
      ]
     },
     "metadata": {},
     "output_type": "display_data"
    },
    {
     "data": {
      "application/vnd.jupyter.widget-view+json": {
       "model_id": "308ed02aff1e48a190ec0dcf59c759c2",
       "version_major": 2,
       "version_minor": 0
      },
      "text/plain": [
       "Loading subject 23:   0%|          | 0/40 [00:00<?, ?it/s]"
      ]
     },
     "metadata": {},
     "output_type": "display_data"
    },
    {
     "data": {
      "application/vnd.jupyter.widget-view+json": {
       "model_id": "642b4c53369f4c83b67d902c2ab69218",
       "version_major": 2,
       "version_minor": 0
      },
      "text/plain": [
       "Loading subject 24:   0%|          | 0/40 [00:00<?, ?it/s]"
      ]
     },
     "metadata": {},
     "output_type": "display_data"
    },
    {
     "data": {
      "application/vnd.jupyter.widget-view+json": {
       "model_id": "c4d13df1f38e42f39ab7c36b78952fda",
       "version_major": 2,
       "version_minor": 0
      },
      "text/plain": [
       "Loading subject 25:   0%|          | 0/40 [00:00<?, ?it/s]"
      ]
     },
     "metadata": {},
     "output_type": "display_data"
    },
    {
     "data": {
      "application/vnd.jupyter.widget-view+json": {
       "model_id": "05e37ed7a18141d9aa6121b46e959ef5",
       "version_major": 2,
       "version_minor": 0
      },
      "text/plain": [
       "Loading subject 26:   0%|          | 0/40 [00:00<?, ?it/s]"
      ]
     },
     "metadata": {},
     "output_type": "display_data"
    },
    {
     "data": {
      "application/vnd.jupyter.widget-view+json": {
       "model_id": "7c0388325c5c4c24908293257b52fa2d",
       "version_major": 2,
       "version_minor": 0
      },
      "text/plain": [
       "Loading subject 27:   0%|          | 0/40 [00:00<?, ?it/s]"
      ]
     },
     "metadata": {},
     "output_type": "display_data"
    },
    {
     "data": {
      "application/vnd.jupyter.widget-view+json": {
       "model_id": "60854f0a85ba46128c67f110cfec9e93",
       "version_major": 2,
       "version_minor": 0
      },
      "text/plain": [
       "Loading subject 28:   0%|          | 0/40 [00:00<?, ?it/s]"
      ]
     },
     "metadata": {},
     "output_type": "display_data"
    },
    {
     "data": {
      "application/vnd.jupyter.widget-view+json": {
       "model_id": "2107cd841a924f5aa34f78d24642c5d9",
       "version_major": 2,
       "version_minor": 0
      },
      "text/plain": [
       "Loading subject 29:   0%|          | 0/40 [00:00<?, ?it/s]"
      ]
     },
     "metadata": {},
     "output_type": "display_data"
    },
    {
     "data": {
      "application/vnd.jupyter.widget-view+json": {
       "model_id": "611a58e36c2f4be09fc76c7883716af1",
       "version_major": 2,
       "version_minor": 0
      },
      "text/plain": [
       "Loading subject 30:   0%|          | 0/40 [00:00<?, ?it/s]"
      ]
     },
     "metadata": {},
     "output_type": "display_data"
    }
   ],
   "source": [
    "from datasets.deap import create_train_val_datasets\n",
    "\n",
    "train_val_eeg, val_val_eeg = create_train_val_datasets(\n",
    "    label_type='valence',\n",
    "    label_path='./data/DEAP/labels',\n",
    "    bio_path='./data/DEAP/bio_normalized',\n",
    "    subjects=list(range(1,31)),\n",
    "    save_datasets=True,\n",
    "    dataset_path='datasets/valence_temp'\n",
    ")\n",
    "\n",
    "train_aro_eeg, val_aro_eeg = create_train_val_datasets(\n",
    "    label_type='arousal',\n",
    "    label_path='./data/DEAP/labels',\n",
    "    bio_path='./data/DEAP/bio_normalized',\n",
    "    subjects=list(range(1,31)),\n",
    "    save_datasets=True,\n",
    "    dataset_path='datasets/arousal_temp'\n",
    ")"
   ]
  },
  {
   "cell_type": "code",
   "execution_count": 6,
   "id": "86716092",
   "metadata": {},
   "outputs": [
    {
     "data": {
      "text/plain": [
       "(43848, 18792)"
      ]
     },
     "execution_count": 6,
     "metadata": {},
     "output_type": "execute_result"
    }
   ],
   "source": [
    "len(train_val_eeg), len(val_val_eeg)"
   ]
  },
  {
   "cell_type": "code",
   "execution_count": 7,
   "id": "e2b5dfe7",
   "metadata": {},
   "outputs": [
    {
     "data": {
      "text/plain": [
       "(41496, 17784)"
      ]
     },
     "execution_count": 7,
     "metadata": {},
     "output_type": "execute_result"
    }
   ],
   "source": [
    "len(train_aro_eeg), len(val_aro_eeg)"
   ]
  },
  {
   "cell_type": "code",
   "execution_count": 8,
   "id": "ecf411a5",
   "metadata": {},
   "outputs": [
    {
     "name": "stdout",
     "output_type": "stream",
     "text": [
      "Train label distribution:\n",
      "  Label 0: 21924 samples (50.00%)\n",
      "  Label 1: 21924 samples (50.00%)\n",
      "\n",
      "Validation label distribution:\n",
      "  Label 0: 9396 samples (50.00%)\n",
      "  Label 1: 9396 samples (50.00%)\n",
      "\n"
     ]
    }
   ],
   "source": [
    "from collections import Counter\n",
    "\n",
    "def print_label_distribution(dataset, name):\n",
    "    labels = []\n",
    "    for i in range(len(dataset)):\n",
    "        data = dataset[i]\n",
    "        if data is not None:\n",
    "            _, label, _ = data\n",
    "            labels.append(int(label.item()))\n",
    "    counter = Counter(labels)\n",
    "    total = sum(counter.values())\n",
    "    print(f\"{name} label distribution:\")\n",
    "    for label, count in sorted(counter.items()):\n",
    "        print(f\"  Label {label}: {count} samples ({count/total:.2%})\")\n",
    "    print()\n",
    "\n",
    "# Call the function on each dataset\n",
    "print_label_distribution(train_val_eeg, \"Train\")\n",
    "print_label_distribution(val_val_eeg, \"Validation\")"
   ]
  },
  {
   "cell_type": "markdown",
   "id": "6d2227b6",
   "metadata": {},
   "source": [
    "## Let's plot distribution of Valance and Arousel"
   ]
  },
  {
   "cell_type": "code",
   "execution_count": 9,
   "id": "d3f732a2",
   "metadata": {},
   "outputs": [
    {
     "data": {
      "image/png": "[encoded data removed]",
      "text/plain": [
       "<Figure size 1200x600 with 2 Axes>"
      ]
     },
     "metadata": {},
     "output_type": "display_data"
    }
   ],
   "source": [
    "import matplotlib.pyplot as plt\n",
    "import pandas as pd\n",
    "\n",
    "# For 32 subjects × 40 trials × 60 segments\n",
    "\n",
    "\n",
    "def plot_label_histograms(labels_csv = \"./data/DEAP/labels/participant_ratings.csv\"):\n",
    "    val_aro_list = []\n",
    "    df  = pd.read_csv(labels_csv)\n",
    "    for _, row in df.iterrows():\n",
    "        val = row['Valence']\n",
    "        aro = row['Arousal']\n",
    "        val_aro_list.extend([[val, aro]] * 60)  # Repeat for 60 segments\n",
    "\n",
    "    valence_arousal_array = np.array(val_aro_list)\n",
    "    label_names = ['Valence', 'Arousal']\n",
    "    plt.figure(figsize=(12, 6))\n",
    "    for i in range(2):\n",
    "        plt.subplot(2, 2, i + 1)\n",
    "        plt.hist(valence_arousal_array[:, i], bins=20, color='skyblue', edgecolor='black')\n",
    "        plt.title(f'{label_names[i]} Distribution')\n",
    "        plt.xlabel('Score')\n",
    "        plt.ylabel('Frequency')\n",
    "    plt.tight_layout()\n",
    "\n",
    "plot_label_histograms()"
   ]
  },
  {
   "cell_type": "markdown",
   "id": "72f25354",
   "metadata": {},
   "source": [
    "## Plotting emotion distribution"
   ]
  },
  {
   "cell_type": "code",
   "execution_count": 10,
   "id": "08f7ebfd",
   "metadata": {},
   "outputs": [
    {
     "data": {
      "image/png": "[encoded data removed]",
      "text/plain": [
       "<Figure size 800x600 with 1 Axes>"
      ]
     },
     "metadata": {},
     "output_type": "display_data"
    }
   ],
   "source": [
    "def plot_emotions(labels_csv = \"./data/DEAP/labels/participant_ratings.csv\"):\n",
    "    val_aro_list = []\n",
    "    df  = pd.read_csv(labels_csv)\n",
    "    for _, row in df.iterrows():\n",
    "        val = row['Valence']\n",
    "        aro = row['Arousal']\n",
    "        val_aro_list.extend([[val, aro]] * 60)  # Repeat for 60 segments\n",
    "\n",
    "    valence_arousal_array = np.array(val_aro_list)\n",
    "    valence = valence_arousal_array[:, 0]\n",
    "    arousal = valence_arousal_array[:, 1]\n",
    "\n",
    "    def create_4class_labels(valence, arousal):\n",
    "        classes = []\n",
    "        for v, a in zip(valence, arousal):\n",
    "            if v > 5 and a > 5:\n",
    "                classes.append(0)  # Excited/Happy\n",
    "            elif v <= 5 and a > 5:\n",
    "                classes.append(1)  # Angry\n",
    "            elif v <= 5 and a <= 5:\n",
    "                classes.append(2)  # Sad\n",
    "            else:\n",
    "                classes.append(3)  # Relaxed\n",
    "        return np.array(classes)\n",
    "\n",
    "    emotion_classes = create_4class_labels(valence, arousal)\n",
    "    class_names = [\"Excited/Happy\", \"Angry\", \"Sad\", \"Relaxed\"]\n",
    "    colors = [\"gold\", \"red\", \"blue\", \"green\"]\n",
    "\n",
    "    # Plot\n",
    "    plt.figure(figsize=(8, 6))\n",
    "    for cls in range(4):\n",
    "        idx = emotion_classes == cls\n",
    "        plt.scatter(valence[idx], arousal[idx], label=class_names[cls], alpha=0.6, s=30, color=colors[cls])\n",
    "\n",
    "    plt.axhline(y=5, color='black', linestyle='--', linewidth=0.8)\n",
    "    plt.axvline(x=5, color='black', linestyle='--', linewidth=0.8)\n",
    "    plt.xlabel(\"Valence\")\n",
    "    plt.ylabel(\"Arousal\")\n",
    "    plt.title(\"Valence vs Arousal Cluster Plot (DEAP)\")\n",
    "    plt.legend()\n",
    "    plt.grid(True)\n",
    "    plt.show()\n",
    "\n",
    "plot_emotions()"
   ]
  },
  {
   "cell_type": "markdown",
   "id": "607875f7",
   "metadata": {},
   "source": [
    "## Plotting signals from first 4 channels for first trial"
   ]
  },
  {
   "cell_type": "code",
   "execution_count": 11,
   "id": "d5c78116",
   "metadata": {},
   "outputs": [
    {
     "data": {
      "image/png": "[encoded data removed]",
      "text/plain": [
       "<Figure size 1200x600 with 4 Axes>"
      ]
     },
     "metadata": {},
     "output_type": "display_data"
    }
   ],
   "source": [
    "def plot_eeg_sample(data, labels, channels=[0, 1, 2]):\n",
    "    seconds = 1\n",
    "    sampling_rate = 128\n",
    "    time = np.linspace(0, seconds, seconds * sampling_rate)\n",
    "    plt.figure(figsize=(12, 6))\n",
    "    for i, ch in enumerate(channels):\n",
    "        plt.subplot(len(channels), 1, i + 1)\n",
    "        plt.plot(time, data[ch, :seconds * sampling_rate])\n",
    "        plt.title(f'Channel {ch}')\n",
    "        plt.xlabel('Time (s)')\n",
    "        plt.ylabel('Amplitude')\n",
    "    plt.suptitle(f\"Activity in EEG channels {channels} for Valance({labels[0]}) & Arousel ({labels[1]}) \")\n",
    "    plt.tight_layout()\n",
    "    plt.show()\n",
    "\n",
    "data = train_val_eeg[0][0]\n",
    "labels = train_val_eeg[0][2]\n",
    "# \n",
    "plot_eeg_sample(data, labels, channels=[0,1,2,3])\n"
   ]
  },
  {
   "cell_type": "markdown",
   "id": "4fb5e922",
   "metadata": {},
   "source": [
    "## Model initialization\n",
    "\n",
    "For this project we decided to use modified Chrononet which is a A Deep Recurrent Neural Network"
   ]
  },
  {
   "attachments": {
    "image.png": {
     "image/png": "[encoded data removed]"
    }
   },
   "cell_type": "markdown",
   "id": "d175df3c",
   "metadata": {},
   "source": [
    "Original model:\n",
    "\n",
    "![image.png](attachment:image.png)\n",
    "\n",
    "Reference : (https://arxiv.org/pdf/1802.00308)"
   ]
  },
  {
   "cell_type": "code",
   "execution_count": 12,
   "id": "68ada087",
   "metadata": {},
   "outputs": [],
   "source": [
    "from models.chrononet import ChronoNet\n",
    "from torch import nn\n",
    "import torch\n",
    "from utils.early_stopping import EarlyStopping\n",
    "from scripts.train import run_training"
   ]
  },
  {
   "cell_type": "markdown",
   "id": "f98bf918",
   "metadata": {},
   "source": [
    "### 📊 ChronoNet Hyperparameters – Arousal Classification\n",
    "\n",
    "| Hyperparameter         | Value                                                 |\n",
    "|------------------------|-------------------------------------------------------|\n",
    "| Model                  | ChronoNet                                              |\n",
    "| Input Channels         | 32                                                    |\n",
    "| Conv Output Channels   | 64                                                    |\n",
    "| GRU Hidden Size        | 128                                                    |\n",
    "| Loss Function          | BCEWithLogitsLoss                                     |\n",
    "| Optimizer              | AdamW                                                 |\n",
    "| Learning Rate          | 1e-5                                                  |\n",
    "| LR Scheduler           | ReduceLROnPlateau (patience=3, mode='min')           |\n",
    "| Early Stopping         | Patience = 20 (mode='max')                            |\n",
    "| Batch Size             | 32                                                    |\n",
    "| Epochs                 | 100                                                   |\n",
    "| Checkpoint Path        | `checkpoints/chrononet_aro`                           |\n",
    "| Result CSV             | `results/history_aro.csv`                             |"
   ]
  },
  {
   "cell_type": "code",
   "execution_count": 43,
   "id": "1112f073",
   "metadata": {},
   "outputs": [
    {
     "data": {
      "application/vnd.jupyter.widget-view+json": {
       "model_id": "453db79ac8d641bdbcdb906071aae730",
       "version_major": 2,
       "version_minor": 0
      },
      "text/plain": [
       "Epochs:   0%|          | 0/100 [00:00<?, ?it/s]"
      ]
     },
     "metadata": {},
     "output_type": "display_data"
    },
    {
     "data": {
      "application/vnd.jupyter.widget-view+json": {
       "model_id": "8b564b821cf14dffacea414045ca1df4",
       "version_major": 2,
       "version_minor": 0
      },
      "text/plain": [
       "Training...:   0%|          | 0/1296 [00:00<?, ?it/s]"
      ]
     },
     "metadata": {},
     "output_type": "display_data"
    },
    {
     "data": {
      "application/vnd.jupyter.widget-view+json": {
       "model_id": "2ff2cb1d509e46efaf75646875de7bc3",
       "version_major": 2,
       "version_minor": 0
      },
      "text/plain": [
       "Validating..:   0%|          | 0/556 [00:00<?, ?it/s]"
      ]
     },
     "metadata": {},
     "output_type": "display_data"
    },
    {
     "data": {
      "application/vnd.jupyter.widget-view+json": {
       "model_id": "f0377d76f65b4fbb9752f5e3d5820808",
       "version_major": 2,
       "version_minor": 0
      },
      "text/plain": [
       "Training...:   0%|          | 0/1296 [00:00<?, ?it/s]"
      ]
     },
     "metadata": {},
     "output_type": "display_data"
    },
    {
     "data": {
      "application/vnd.jupyter.widget-view+json": {
       "model_id": "1958c043af244caa993ef6d7ee15e657",
       "version_major": 2,
       "version_minor": 0
      },
      "text/plain": [
       "Validating..:   0%|          | 0/556 [00:00<?, ?it/s]"
      ]
     },
     "metadata": {},
     "output_type": "display_data"
    },
    {
     "data": {
      "application/vnd.jupyter.widget-view+json": {
       "model_id": "9a85abef4aca4e3b909fc691ee52ed66",
       "version_major": 2,
       "version_minor": 0
      },
      "text/plain": [
       "Training...:   0%|          | 0/1296 [00:00<?, ?it/s]"
      ]
     },
     "metadata": {},
     "output_type": "display_data"
    },
    {
     "data": {
      "application/vnd.jupyter.widget-view+json": {
       "model_id": "b1863132eb37400fa344f5f6ccde3253",
       "version_major": 2,
       "version_minor": 0
      },
      "text/plain": [
       "Validating..:   0%|          | 0/556 [00:00<?, ?it/s]"
      ]
     },
     "metadata": {},
     "output_type": "display_data"
    },
    {
     "data": {
      "application/vnd.jupyter.widget-view+json": {
       "model_id": "409d1b74ba234ae1bfb0c1f5d8b815a6",
       "version_major": 2,
       "version_minor": 0
      },
      "text/plain": [
       "Training...:   0%|          | 0/1296 [00:00<?, ?it/s]"
      ]
     },
     "metadata": {},
     "output_type": "display_data"
    },
    {
     "data": {
      "application/vnd.jupyter.widget-view+json": {
       "model_id": "b21586c10a4e49979339e0e16883d87b",
       "version_major": 2,
       "version_minor": 0
      },
      "text/plain": [
       "Validating..:   0%|          | 0/556 [00:00<?, ?it/s]"
      ]
     },
     "metadata": {},
     "output_type": "display_data"
    },
    {
     "data": {
      "application/vnd.jupyter.widget-view+json": {
       "model_id": "63973834b55a428ea0754e504f14cb3d",
       "version_major": 2,
       "version_minor": 0
      },
      "text/plain": [
       "Training...:   0%|          | 0/1296 [00:00<?, ?it/s]"
      ]
     },
     "metadata": {},
     "output_type": "display_data"
    },
    {
     "data": {
      "application/vnd.jupyter.widget-view+json": {
       "model_id": "1b8364e1a43b4a398da9c7c8c8b5670d",
       "version_major": 2,
       "version_minor": 0
      },
      "text/plain": [
       "Validating..:   0%|          | 0/556 [00:00<?, ?it/s]"
      ]
     },
     "metadata": {},
     "output_type": "display_data"
    },
    {
     "data": {
      "application/vnd.jupyter.widget-view+json": {
       "model_id": "9bc7a4d4f88d449cae530ad8f8d86f5d",
       "version_major": 2,
       "version_minor": 0
      },
      "text/plain": [
       "Training...:   0%|          | 0/1296 [00:00<?, ?it/s]"
      ]
     },
     "metadata": {},
     "output_type": "display_data"
    },
    {
     "data": {
      "application/vnd.jupyter.widget-view+json": {
       "model_id": "69de9ce6dfb242d2866686bb09e17766",
       "version_major": 2,
       "version_minor": 0
      },
      "text/plain": [
       "Validating..:   0%|          | 0/556 [00:00<?, ?it/s]"
      ]
     },
     "metadata": {},
     "output_type": "display_data"
    },
    {
     "data": {
      "application/vnd.jupyter.widget-view+json": {
       "model_id": "2ed1d4dbc5e44119b332b03308b233ce",
       "version_major": 2,
       "version_minor": 0
      },
      "text/plain": [
       "Training...:   0%|          | 0/1296 [00:00<?, ?it/s]"
      ]
     },
     "metadata": {},
     "output_type": "display_data"
    },
    {
     "data": {
      "application/vnd.jupyter.widget-view+json": {
       "model_id": "884f29d94d9c47d9aae33d634fbd4e13",
       "version_major": 2,
       "version_minor": 0
      },
      "text/plain": [
       "Validating..:   0%|          | 0/556 [00:00<?, ?it/s]"
      ]
     },
     "metadata": {},
     "output_type": "display_data"
    },
    {
     "data": {
      "application/vnd.jupyter.widget-view+json": {
       "model_id": "7796d0e6b9714a84b60ee46074a585f8",
       "version_major": 2,
       "version_minor": 0
      },
      "text/plain": [
       "Training...:   0%|          | 0/1296 [00:00<?, ?it/s]"
      ]
     },
     "metadata": {},
     "output_type": "display_data"
    },
    {
     "data": {
      "application/vnd.jupyter.widget-view+json": {
       "model_id": "78fef2e5f0564fcc995fca1a1084e157",
       "version_major": 2,
       "version_minor": 0
      },
      "text/plain": [
       "Validating..:   0%|          | 0/556 [00:00<?, ?it/s]"
      ]
     },
     "metadata": {},
     "output_type": "display_data"
    },
    {
     "data": {
      "application/vnd.jupyter.widget-view+json": {
       "model_id": "0212641bfabc4f58b7426b1f1aec6b87",
       "version_major": 2,
       "version_minor": 0
      },
      "text/plain": [
       "Training...:   0%|          | 0/1296 [00:00<?, ?it/s]"
      ]
     },
     "metadata": {},
     "output_type": "display_data"
    },
    {
     "data": {
      "application/vnd.jupyter.widget-view+json": {
       "model_id": "0b6430093278457998f88394dbe10560",
       "version_major": 2,
       "version_minor": 0
      },
      "text/plain": [
       "Validating..:   0%|          | 0/556 [00:00<?, ?it/s]"
      ]
     },
     "metadata": {},
     "output_type": "display_data"
    },
    {
     "data": {
      "application/vnd.jupyter.widget-view+json": {
       "model_id": "7a0c97a4ca76494c9fec1ca8967bcedc",
       "version_major": 2,
       "version_minor": 0
      },
      "text/plain": [
       "Training...:   0%|          | 0/1296 [00:00<?, ?it/s]"
      ]
     },
     "metadata": {},
     "output_type": "display_data"
    },
    {
     "data": {
      "application/vnd.jupyter.widget-view+json": {
       "model_id": "de40dda51603442184920a8bb1ec5a76",
       "version_major": 2,
       "version_minor": 0
      },
      "text/plain": [
       "Validating..:   0%|          | 0/556 [00:00<?, ?it/s]"
      ]
     },
     "metadata": {},
     "output_type": "display_data"
    },
    {
     "data": {
      "application/vnd.jupyter.widget-view+json": {
       "model_id": "780f4deae56746bba4e1eca3e0e967b2",
       "version_major": 2,
       "version_minor": 0
      },
      "text/plain": [
       "Training...:   0%|          | 0/1296 [00:00<?, ?it/s]"
      ]
     },
     "metadata": {},
     "output_type": "display_data"
    },
    {
     "data": {
      "application/vnd.jupyter.widget-view+json": {
       "model_id": "95e89fdbf8d24f318c8595b245bdc2a0",
       "version_major": 2,
       "version_minor": 0
      },
      "text/plain": [
       "Validating..:   0%|          | 0/556 [00:00<?, ?it/s]"
      ]
     },
     "metadata": {},
     "output_type": "display_data"
    },
    {
     "data": {
      "application/vnd.jupyter.widget-view+json": {
       "model_id": "3c622383ba7341f8907a86d52aea2d0f",
       "version_major": 2,
       "version_minor": 0
      },
      "text/plain": [
       "Training...:   0%|          | 0/1296 [00:00<?, ?it/s]"
      ]
     },
     "metadata": {},
     "output_type": "display_data"
    },
    {
     "data": {
      "application/vnd.jupyter.widget-view+json": {
       "model_id": "2fe1aa70414542209b8c8d12e022594c",
       "version_major": 2,
       "version_minor": 0
      },
      "text/plain": [
       "Validating..:   0%|          | 0/556 [00:00<?, ?it/s]"
      ]
     },
     "metadata": {},
     "output_type": "display_data"
    },
    {
     "data": {
      "application/vnd.jupyter.widget-view+json": {
       "model_id": "23f5b165b0dd4e07a6f20a663ef71d81",
       "version_major": 2,
       "version_minor": 0
      },
      "text/plain": [
       "Training...:   0%|          | 0/1296 [00:00<?, ?it/s]"
      ]
     },
     "metadata": {},
     "output_type": "display_data"
    },
    {
     "data": {
      "application/vnd.jupyter.widget-view+json": {
       "model_id": "59730b631fdb40ccb79217a0891e8924",
       "version_major": 2,
       "version_minor": 0
      },
      "text/plain": [
       "Validating..:   0%|          | 0/556 [00:00<?, ?it/s]"
      ]
     },
     "metadata": {},
     "output_type": "display_data"
    },
    {
     "data": {
      "application/vnd.jupyter.widget-view+json": {
       "model_id": "2d9b1225dd174a99a0d0900e0f1ae2ec",
       "version_major": 2,
       "version_minor": 0
      },
      "text/plain": [
       "Training...:   0%|          | 0/1296 [00:00<?, ?it/s]"
      ]
     },
     "metadata": {},
     "output_type": "display_data"
    },
    {
     "data": {
      "application/vnd.jupyter.widget-view+json": {
       "model_id": "bd21db7f4d6d461186701d01f0fbb2e2",
       "version_major": 2,
       "version_minor": 0
      },
      "text/plain": [
       "Validating..:   0%|          | 0/556 [00:00<?, ?it/s]"
      ]
     },
     "metadata": {},
     "output_type": "display_data"
    },
    {
     "data": {
      "application/vnd.jupyter.widget-view+json": {
       "model_id": "651c7fcd1fb54aa0a20a46105beccbb8",
       "version_major": 2,
       "version_minor": 0
      },
      "text/plain": [
       "Training...:   0%|          | 0/1296 [00:00<?, ?it/s]"
      ]
     },
     "metadata": {},
     "output_type": "display_data"
    },
    {
     "data": {
      "application/vnd.jupyter.widget-view+json": {
       "model_id": "55bbdd1c65b447c6b8afc356842facf0",
       "version_major": 2,
       "version_minor": 0
      },
      "text/plain": [
       "Validating..:   0%|          | 0/556 [00:00<?, ?it/s]"
      ]
     },
     "metadata": {},
     "output_type": "display_data"
    },
    {
     "data": {
      "application/vnd.jupyter.widget-view+json": {
       "model_id": "627ebb849327470eb21dff95708e6a20",
       "version_major": 2,
       "version_minor": 0
      },
      "text/plain": [
       "Training...:   0%|          | 0/1296 [00:00<?, ?it/s]"
      ]
     },
     "metadata": {},
     "output_type": "display_data"
    },
    {
     "data": {
      "application/vnd.jupyter.widget-view+json": {
       "model_id": "b1a11f003d7c449cb257e8fbba4d76da",
       "version_major": 2,
       "version_minor": 0
      },
      "text/plain": [
       "Validating..:   0%|          | 0/556 [00:00<?, ?it/s]"
      ]
     },
     "metadata": {},
     "output_type": "display_data"
    },
    {
     "data": {
      "application/vnd.jupyter.widget-view+json": {
       "model_id": "68ba185b1b0449cca45543b310ccdc47",
       "version_major": 2,
       "version_minor": 0
      },
      "text/plain": [
       "Training...:   0%|          | 0/1296 [00:00<?, ?it/s]"
      ]
     },
     "metadata": {},
     "output_type": "display_data"
    },
    {
     "data": {
      "application/vnd.jupyter.widget-view+json": {
       "model_id": "8346dbffc3a74a3880ccdbceac5e7593",
       "version_major": 2,
       "version_minor": 0
      },
      "text/plain": [
       "Validating..:   0%|          | 0/556 [00:00<?, ?it/s]"
      ]
     },
     "metadata": {},
     "output_type": "display_data"
    },
    {
     "data": {
      "application/vnd.jupyter.widget-view+json": {
       "model_id": "1ac53117fc454423b8b7ca17887fdf80",
       "version_major": 2,
       "version_minor": 0
      },
      "text/plain": [
       "Training...:   0%|          | 0/1296 [00:00<?, ?it/s]"
      ]
     },
     "metadata": {},
     "output_type": "display_data"
    },
    {
     "data": {
      "application/vnd.jupyter.widget-view+json": {
       "model_id": "9c4d08a0cf1146db8bc162d117fda911",
       "version_major": 2,
       "version_minor": 0
      },
      "text/plain": [
       "Validating..:   0%|          | 0/556 [00:00<?, ?it/s]"
      ]
     },
     "metadata": {},
     "output_type": "display_data"
    },
    {
     "data": {
      "application/vnd.jupyter.widget-view+json": {
       "model_id": "6db7c2a6d5404e8f87ee765b7cf2d77e",
       "version_major": 2,
       "version_minor": 0
      },
      "text/plain": [
       "Training...:   0%|          | 0/1296 [00:00<?, ?it/s]"
      ]
     },
     "metadata": {},
     "output_type": "display_data"
    },
    {
     "data": {
      "application/vnd.jupyter.widget-view+json": {
       "model_id": "8b999e2f31b249ac9433b860d1227adf",
       "version_major": 2,
       "version_minor": 0
      },
      "text/plain": [
       "Validating..:   0%|          | 0/556 [00:00<?, ?it/s]"
      ]
     },
     "metadata": {},
     "output_type": "display_data"
    },
    {
     "data": {
      "application/vnd.jupyter.widget-view+json": {
       "model_id": "d9ac4e98e3d84908aa2858ec590bea00",
       "version_major": 2,
       "version_minor": 0
      },
      "text/plain": [
       "Training...:   0%|          | 0/1296 [00:00<?, ?it/s]"
      ]
     },
     "metadata": {},
     "output_type": "display_data"
    },
    {
     "data": {
      "application/vnd.jupyter.widget-view+json": {
       "model_id": "aee97a9c8161473aae0b7f388083efef",
       "version_major": 2,
       "version_minor": 0
      },
      "text/plain": [
       "Validating..:   0%|          | 0/556 [00:00<?, ?it/s]"
      ]
     },
     "metadata": {},
     "output_type": "display_data"
    },
    {
     "data": {
      "application/vnd.jupyter.widget-view+json": {
       "model_id": "9edc53fd878141ea8b95c4594bfe6a7b",
       "version_major": 2,
       "version_minor": 0
      },
      "text/plain": [
       "Training...:   0%|          | 0/1296 [00:00<?, ?it/s]"
      ]
     },
     "metadata": {},
     "output_type": "display_data"
    },
    {
     "data": {
      "application/vnd.jupyter.widget-view+json": {
       "model_id": "f001a0389a5d42bbb9c60b938653d1e8",
       "version_major": 2,
       "version_minor": 0
      },
      "text/plain": [
       "Validating..:   0%|          | 0/556 [00:00<?, ?it/s]"
      ]
     },
     "metadata": {},
     "output_type": "display_data"
    },
    {
     "data": {
      "application/vnd.jupyter.widget-view+json": {
       "model_id": "cfad08f84150453b9355d264fa9f473d",
       "version_major": 2,
       "version_minor": 0
      },
      "text/plain": [
       "Training...:   0%|          | 0/1296 [00:00<?, ?it/s]"
      ]
     },
     "metadata": {},
     "output_type": "display_data"
    },
    {
     "data": {
      "application/vnd.jupyter.widget-view+json": {
       "model_id": "a180655c260a454b8e2003a823004a08",
       "version_major": 2,
       "version_minor": 0
      },
      "text/plain": [
       "Validating..:   0%|          | 0/556 [00:00<?, ?it/s]"
      ]
     },
     "metadata": {},
     "output_type": "display_data"
    },
    {
     "data": {
      "application/vnd.jupyter.widget-view+json": {
       "model_id": "bb57626470eb45cf81b1cf571cc66a72",
       "version_major": 2,
       "version_minor": 0
      },
      "text/plain": [
       "Training...:   0%|          | 0/1296 [00:00<?, ?it/s]"
      ]
     },
     "metadata": {},
     "output_type": "display_data"
    },
    {
     "data": {
      "application/vnd.jupyter.widget-view+json": {
       "model_id": "7089246b9dee4959b2bc83dc0378e9ec",
       "version_major": 2,
       "version_minor": 0
      },
      "text/plain": [
       "Validating..:   0%|          | 0/556 [00:00<?, ?it/s]"
      ]
     },
     "metadata": {},
     "output_type": "display_data"
    },
    {
     "data": {
      "application/vnd.jupyter.widget-view+json": {
       "model_id": "79572c290cdf45cfba110f6022d09d92",
       "version_major": 2,
       "version_minor": 0
      },
      "text/plain": [
       "Training...:   0%|          | 0/1296 [00:00<?, ?it/s]"
      ]
     },
     "metadata": {},
     "output_type": "display_data"
    },
    {
     "data": {
      "application/vnd.jupyter.widget-view+json": {
       "model_id": "1025c50057a14e8499b78139bc42432e",
       "version_major": 2,
       "version_minor": 0
      },
      "text/plain": [
       "Validating..:   0%|          | 0/556 [00:00<?, ?it/s]"
      ]
     },
     "metadata": {},
     "output_type": "display_data"
    },
    {
     "data": {
      "application/vnd.jupyter.widget-view+json": {
       "model_id": "0c709c25a06e4dc48bdb8e0ccde97f6d",
       "version_major": 2,
       "version_minor": 0
      },
      "text/plain": [
       "Training...:   0%|          | 0/1296 [00:00<?, ?it/s]"
      ]
     },
     "metadata": {},
     "output_type": "display_data"
    },
    {
     "data": {
      "application/vnd.jupyter.widget-view+json": {
       "model_id": "5bd8c1841e1b41b8b54f7f588a7f9bf2",
       "version_major": 2,
       "version_minor": 0
      },
      "text/plain": [
       "Validating..:   0%|          | 0/556 [00:00<?, ?it/s]"
      ]
     },
     "metadata": {},
     "output_type": "display_data"
    },
    {
     "data": {
      "application/vnd.jupyter.widget-view+json": {
       "model_id": "deb088af31a04a27b4ab8386c5ef1f1d",
       "version_major": 2,
       "version_minor": 0
      },
      "text/plain": [
       "Training...:   0%|          | 0/1296 [00:00<?, ?it/s]"
      ]
     },
     "metadata": {},
     "output_type": "display_data"
    },
    {
     "data": {
      "application/vnd.jupyter.widget-view+json": {
       "model_id": "c22d4636f2d3424dab2df2b76fbf2903",
       "version_major": 2,
       "version_minor": 0
      },
      "text/plain": [
       "Validating..:   0%|          | 0/556 [00:00<?, ?it/s]"
      ]
     },
     "metadata": {},
     "output_type": "display_data"
    },
    {
     "data": {
      "application/vnd.jupyter.widget-view+json": {
       "model_id": "ce4f6044976344babfdc0a97a8db9f63",
       "version_major": 2,
       "version_minor": 0
      },
      "text/plain": [
       "Training...:   0%|          | 0/1296 [00:00<?, ?it/s]"
      ]
     },
     "metadata": {},
     "output_type": "display_data"
    },
    {
     "data": {
      "application/vnd.jupyter.widget-view+json": {
       "model_id": "d4eb2dcb4de44262a932c487910d835e",
       "version_major": 2,
       "version_minor": 0
      },
      "text/plain": [
       "Validating..:   0%|          | 0/556 [00:00<?, ?it/s]"
      ]
     },
     "metadata": {},
     "output_type": "display_data"
    },
    {
     "data": {
      "application/vnd.jupyter.widget-view+json": {
       "model_id": "ef22009a71594a6ab62698bb11895140",
       "version_major": 2,
       "version_minor": 0
      },
      "text/plain": [
       "Training...:   0%|          | 0/1296 [00:00<?, ?it/s]"
      ]
     },
     "metadata": {},
     "output_type": "display_data"
    },
    {
     "data": {
      "application/vnd.jupyter.widget-view+json": {
       "model_id": "db582498855a456ea91c67f283133dd7",
       "version_major": 2,
       "version_minor": 0
      },
      "text/plain": [
       "Validating..:   0%|          | 0/556 [00:00<?, ?it/s]"
      ]
     },
     "metadata": {},
     "output_type": "display_data"
    },
    {
     "data": {
      "application/vnd.jupyter.widget-view+json": {
       "model_id": "7d0d0fe90ba342248076010d80fc2b87",
       "version_major": 2,
       "version_minor": 0
      },
      "text/plain": [
       "Training...:   0%|          | 0/1296 [00:00<?, ?it/s]"
      ]
     },
     "metadata": {},
     "output_type": "display_data"
    },
    {
     "data": {
      "application/vnd.jupyter.widget-view+json": {
       "model_id": "ba01cef496c846c1880b838ad054b3ca",
       "version_major": 2,
       "version_minor": 0
      },
      "text/plain": [
       "Validating..:   0%|          | 0/556 [00:00<?, ?it/s]"
      ]
     },
     "metadata": {},
     "output_type": "display_data"
    },
    {
     "data": {
      "application/vnd.jupyter.widget-view+json": {
       "model_id": "b3c20f56cf2645c691d460f299241863",
       "version_major": 2,
       "version_minor": 0
      },
      "text/plain": [
       "Training...:   0%|          | 0/1296 [00:00<?, ?it/s]"
      ]
     },
     "metadata": {},
     "output_type": "display_data"
    },
    {
     "data": {
      "application/vnd.jupyter.widget-view+json": {
       "model_id": "feb308788ebd47499a26c26ac16ba76d",
       "version_major": 2,
       "version_minor": 0
      },
      "text/plain": [
       "Validating..:   0%|          | 0/556 [00:00<?, ?it/s]"
      ]
     },
     "metadata": {},
     "output_type": "display_data"
    },
    {
     "data": {
      "application/vnd.jupyter.widget-view+json": {
       "model_id": "10f3f9b699a04a1c965335a02ffe3a70",
       "version_major": 2,
       "version_minor": 0
      },
      "text/plain": [
       "Training...:   0%|          | 0/1296 [00:00<?, ?it/s]"
      ]
     },
     "metadata": {},
     "output_type": "display_data"
    },
    {
     "data": {
      "application/vnd.jupyter.widget-view+json": {
       "model_id": "6d495975eecd4c6f90808df63a5db50d",
       "version_major": 2,
       "version_minor": 0
      },
      "text/plain": [
       "Validating..:   0%|          | 0/556 [00:00<?, ?it/s]"
      ]
     },
     "metadata": {},
     "output_type": "display_data"
    },
    {
     "data": {
      "application/vnd.jupyter.widget-view+json": {
       "model_id": "4b9d33ab9fc447be8bca82641cfb09c9",
       "version_major": 2,
       "version_minor": 0
      },
      "text/plain": [
       "Training...:   0%|          | 0/1296 [00:00<?, ?it/s]"
      ]
     },
     "metadata": {},
     "output_type": "display_data"
    },
    {
     "data": {
      "application/vnd.jupyter.widget-view+json": {
       "model_id": "ed875c20d49d47e0925a20e5f12a088a",
       "version_major": 2,
       "version_minor": 0
      },
      "text/plain": [
       "Validating..:   0%|          | 0/556 [00:00<?, ?it/s]"
      ]
     },
     "metadata": {},
     "output_type": "display_data"
    },
    {
     "data": {
      "application/vnd.jupyter.widget-view+json": {
       "model_id": "e786c3bd694f4ae691fc10710767000c",
       "version_major": 2,
       "version_minor": 0
      },
      "text/plain": [
       "Training...:   0%|          | 0/1296 [00:00<?, ?it/s]"
      ]
     },
     "metadata": {},
     "output_type": "display_data"
    },
    {
     "data": {
      "application/vnd.jupyter.widget-view+json": {
       "model_id": "dc604aeda5c04d738733fb1fbb3540b1",
       "version_major": 2,
       "version_minor": 0
      },
      "text/plain": [
       "Validating..:   0%|          | 0/556 [00:00<?, ?it/s]"
      ]
     },
     "metadata": {},
     "output_type": "display_data"
    },
    {
     "data": {
      "application/vnd.jupyter.widget-view+json": {
       "model_id": "057c0e9c667f4a94be14e0f9fae49166",
       "version_major": 2,
       "version_minor": 0
      },
      "text/plain": [
       "Training...:   0%|          | 0/1296 [00:00<?, ?it/s]"
      ]
     },
     "metadata": {},
     "output_type": "display_data"
    },
    {
     "data": {
      "application/vnd.jupyter.widget-view+json": {
       "model_id": "8ef54bc0c5dc49b1bc2541a5f45d63cc",
       "version_major": 2,
       "version_minor": 0
      },
      "text/plain": [
       "Validating..:   0%|          | 0/556 [00:00<?, ?it/s]"
      ]
     },
     "metadata": {},
     "output_type": "display_data"
    },
    {
     "data": {
      "application/vnd.jupyter.widget-view+json": {
       "model_id": "754d6ea9b2a4407cbf744bd191e803de",
       "version_major": 2,
       "version_minor": 0
      },
      "text/plain": [
       "Training...:   0%|          | 0/1296 [00:00<?, ?it/s]"
      ]
     },
     "metadata": {},
     "output_type": "display_data"
    },
    {
     "data": {
      "application/vnd.jupyter.widget-view+json": {
       "model_id": "fa3884bc00ef4571ae2d0e1d31bf9a01",
       "version_major": 2,
       "version_minor": 0
      },
      "text/plain": [
       "Validating..:   0%|          | 0/556 [00:00<?, ?it/s]"
      ]
     },
     "metadata": {},
     "output_type": "display_data"
    },
    {
     "data": {
      "application/vnd.jupyter.widget-view+json": {
       "model_id": "bfa8918ea5db4a05bd5a03591947b1ef",
       "version_major": 2,
       "version_minor": 0
      },
      "text/plain": [
       "Training...:   0%|          | 0/1296 [00:00<?, ?it/s]"
      ]
     },
     "metadata": {},
     "output_type": "display_data"
    },
    {
     "data": {
      "application/vnd.jupyter.widget-view+json": {
       "model_id": "458140e573fa44468851ff297776dd41",
       "version_major": 2,
       "version_minor": 0
      },
      "text/plain": [
       "Validating..:   0%|          | 0/556 [00:00<?, ?it/s]"
      ]
     },
     "metadata": {},
     "output_type": "display_data"
    },
    {
     "data": {
      "application/vnd.jupyter.widget-view+json": {
       "model_id": "c8176a237cb244b2b488ffd224573617",
       "version_major": 2,
       "version_minor": 0
      },
      "text/plain": [
       "Training...:   0%|          | 0/1296 [00:00<?, ?it/s]"
      ]
     },
     "metadata": {},
     "output_type": "display_data"
    },
    {
     "data": {
      "application/vnd.jupyter.widget-view+json": {
       "model_id": "4fd0b499d8474284ad7572bbbec08042",
       "version_major": 2,
       "version_minor": 0
      },
      "text/plain": [
       "Validating..:   0%|          | 0/556 [00:00<?, ?it/s]"
      ]
     },
     "metadata": {},
     "output_type": "display_data"
    },
    {
     "data": {
      "application/vnd.jupyter.widget-view+json": {
       "model_id": "f34db2f0625146f4a3af6aa88b459d1f",
       "version_major": 2,
       "version_minor": 0
      },
      "text/plain": [
       "Training...:   0%|          | 0/1296 [00:00<?, ?it/s]"
      ]
     },
     "metadata": {},
     "output_type": "display_data"
    },
    {
     "data": {
      "application/vnd.jupyter.widget-view+json": {
       "model_id": "155866f2d451420f88a2d41b4523403f",
       "version_major": 2,
       "version_minor": 0
      },
      "text/plain": [
       "Validating..:   0%|          | 0/556 [00:00<?, ?it/s]"
      ]
     },
     "metadata": {},
     "output_type": "display_data"
    },
    {
     "data": {
      "application/vnd.jupyter.widget-view+json": {
       "model_id": "dee5e9dc927947219bfc65cfb62e7124",
       "version_major": 2,
       "version_minor": 0
      },
      "text/plain": [
       "Training...:   0%|          | 0/1296 [00:00<?, ?it/s]"
      ]
     },
     "metadata": {},
     "output_type": "display_data"
    },
    {
     "data": {
      "application/vnd.jupyter.widget-view+json": {
       "model_id": "58292e3d02944d04ab5b49323f305f9c",
       "version_major": 2,
       "version_minor": 0
      },
      "text/plain": [
       "Validating..:   0%|          | 0/556 [00:00<?, ?it/s]"
      ]
     },
     "metadata": {},
     "output_type": "display_data"
    },
    {
     "data": {
      "application/vnd.jupyter.widget-view+json": {
       "model_id": "0fe4b7b1dd4b4c589ba1538828f959ea",
       "version_major": 2,
       "version_minor": 0
      },
      "text/plain": [
       "Training...:   0%|          | 0/1296 [00:00<?, ?it/s]"
      ]
     },
     "metadata": {},
     "output_type": "display_data"
    },
    {
     "data": {
      "application/vnd.jupyter.widget-view+json": {
       "model_id": "67aae83e29074da6a0e1fda2d6a4ca5b",
       "version_major": 2,
       "version_minor": 0
      },
      "text/plain": [
       "Validating..:   0%|          | 0/556 [00:00<?, ?it/s]"
      ]
     },
     "metadata": {},
     "output_type": "display_data"
    },
    {
     "data": {
      "application/vnd.jupyter.widget-view+json": {
       "model_id": "b74829b6eff54800a357af3665e25666",
       "version_major": 2,
       "version_minor": 0
      },
      "text/plain": [
       "Training...:   0%|          | 0/1296 [00:00<?, ?it/s]"
      ]
     },
     "metadata": {},
     "output_type": "display_data"
    },
    {
     "data": {
      "application/vnd.jupyter.widget-view+json": {
       "model_id": "5fbe037248714beba92d5aca6b231654",
       "version_major": 2,
       "version_minor": 0
      },
      "text/plain": [
       "Validating..:   0%|          | 0/556 [00:00<?, ?it/s]"
      ]
     },
     "metadata": {},
     "output_type": "display_data"
    },
    {
     "data": {
      "application/vnd.jupyter.widget-view+json": {
       "model_id": "63827ba035f14e42a1efe7d72735d61e",
       "version_major": 2,
       "version_minor": 0
      },
      "text/plain": [
       "Training...:   0%|          | 0/1296 [00:00<?, ?it/s]"
      ]
     },
     "metadata": {},
     "output_type": "display_data"
    },
    {
     "data": {
      "application/vnd.jupyter.widget-view+json": {
       "model_id": "57b6fe3cf6fd4c44a946cd9cb65ae783",
       "version_major": 2,
       "version_minor": 0
      },
      "text/plain": [
       "Validating..:   0%|          | 0/556 [00:00<?, ?it/s]"
      ]
     },
     "metadata": {},
     "output_type": "display_data"
    },
    {
     "data": {
      "application/vnd.jupyter.widget-view+json": {
       "model_id": "cef7a128af1e47aaa81fafafc9747722",
       "version_major": 2,
       "version_minor": 0
      },
      "text/plain": [
       "Training...:   0%|          | 0/1296 [00:00<?, ?it/s]"
      ]
     },
     "metadata": {},
     "output_type": "display_data"
    },
    {
     "data": {
      "application/vnd.jupyter.widget-view+json": {
       "model_id": "6338b42a39f94a63a2360f99b5a5f46d",
       "version_major": 2,
       "version_minor": 0
      },
      "text/plain": [
       "Validating..:   0%|          | 0/556 [00:00<?, ?it/s]"
      ]
     },
     "metadata": {},
     "output_type": "display_data"
    },
    {
     "data": {
      "application/vnd.jupyter.widget-view+json": {
       "model_id": "067a8ac9b0094720b3938b81a762bb3d",
       "version_major": 2,
       "version_minor": 0
      },
      "text/plain": [
       "Training...:   0%|          | 0/1296 [00:00<?, ?it/s]"
      ]
     },
     "metadata": {},
     "output_type": "display_data"
    },
    {
     "data": {
      "application/vnd.jupyter.widget-view+json": {
       "model_id": "495bafef29de4cefbad905b750452101",
       "version_major": 2,
       "version_minor": 0
      },
      "text/plain": [
       "Validating..:   0%|          | 0/556 [00:00<?, ?it/s]"
      ]
     },
     "metadata": {},
     "output_type": "display_data"
    },
    {
     "data": {
      "application/vnd.jupyter.widget-view+json": {
       "model_id": "faedde03da1842808edd37301634f299",
       "version_major": 2,
       "version_minor": 0
      },
      "text/plain": [
       "Training...:   0%|          | 0/1296 [00:00<?, ?it/s]"
      ]
     },
     "metadata": {},
     "output_type": "display_data"
    },
    {
     "data": {
      "application/vnd.jupyter.widget-view+json": {
       "model_id": "0eab75704b80467b90c5200f311ba284",
       "version_major": 2,
       "version_minor": 0
      },
      "text/plain": [
       "Validating..:   0%|          | 0/556 [00:00<?, ?it/s]"
      ]
     },
     "metadata": {},
     "output_type": "display_data"
    },
    {
     "data": {
      "application/vnd.jupyter.widget-view+json": {
       "model_id": "087d43dadc68447ca8f859fae1c9208c",
       "version_major": 2,
       "version_minor": 0
      },
      "text/plain": [
       "Training...:   0%|          | 0/1296 [00:00<?, ?it/s]"
      ]
     },
     "metadata": {},
     "output_type": "display_data"
    },
    {
     "data": {
      "application/vnd.jupyter.widget-view+json": {
       "model_id": "705e7cadca8c445bb845a8a86dc98c19",
       "version_major": 2,
       "version_minor": 0
      },
      "text/plain": [
       "Validating..:   0%|          | 0/556 [00:00<?, ?it/s]"
      ]
     },
     "metadata": {},
     "output_type": "display_data"
    },
    {
     "data": {
      "application/vnd.jupyter.widget-view+json": {
       "model_id": "19c250602bb14c9c88f8704aab63bcda",
       "version_major": 2,
       "version_minor": 0
      },
      "text/plain": [
       "Training...:   0%|          | 0/1296 [00:00<?, ?it/s]"
      ]
     },
     "metadata": {},
     "output_type": "display_data"
    },
    {
     "data": {
      "application/vnd.jupyter.widget-view+json": {
       "model_id": "b4ff1d52afaa4d378a06af68d2f888a8",
       "version_major": 2,
       "version_minor": 0
      },
      "text/plain": [
       "Validating..:   0%|          | 0/556 [00:00<?, ?it/s]"
      ]
     },
     "metadata": {},
     "output_type": "display_data"
    },
    {
     "data": {
      "application/vnd.jupyter.widget-view+json": {
       "model_id": "df1d7be580734cd7b9031704bfa6ba42",
       "version_major": 2,
       "version_minor": 0
      },
      "text/plain": [
       "Training...:   0%|          | 0/1296 [00:00<?, ?it/s]"
      ]
     },
     "metadata": {},
     "output_type": "display_data"
    },
    {
     "data": {
      "application/vnd.jupyter.widget-view+json": {
       "model_id": "bf072cef1a7845328c0707dff206fa68",
       "version_major": 2,
       "version_minor": 0
      },
      "text/plain": [
       "Validating..:   0%|          | 0/556 [00:00<?, ?it/s]"
      ]
     },
     "metadata": {},
     "output_type": "display_data"
    },
    {
     "data": {
      "application/vnd.jupyter.widget-view+json": {
       "model_id": "4dac033d2a5046fca6c73169f8581964",
       "version_major": 2,
       "version_minor": 0
      },
      "text/plain": [
       "Training...:   0%|          | 0/1296 [00:00<?, ?it/s]"
      ]
     },
     "metadata": {},
     "output_type": "display_data"
    },
    {
     "data": {
      "application/vnd.jupyter.widget-view+json": {
       "model_id": "00734e2991bd4f298f5235663bf2c616",
       "version_major": 2,
       "version_minor": 0
      },
      "text/plain": [
       "Validating..:   0%|          | 0/556 [00:00<?, ?it/s]"
      ]
     },
     "metadata": {},
     "output_type": "display_data"
    },
    {
     "data": {
      "application/vnd.jupyter.widget-view+json": {
       "model_id": "acfc48d478cb4ad5a69da43e3c99d513",
       "version_major": 2,
       "version_minor": 0
      },
      "text/plain": [
       "Training...:   0%|          | 0/1296 [00:00<?, ?it/s]"
      ]
     },
     "metadata": {},
     "output_type": "display_data"
    },
    {
     "data": {
      "application/vnd.jupyter.widget-view+json": {
       "model_id": "0ff0eb1bcdfa424b826752f425c9e936",
       "version_major": 2,
       "version_minor": 0
      },
      "text/plain": [
       "Validating..:   0%|          | 0/556 [00:00<?, ?it/s]"
      ]
     },
     "metadata": {},
     "output_type": "display_data"
    },
    {
     "data": {
      "application/vnd.jupyter.widget-view+json": {
       "model_id": "5d458af6b580463680bdc62314d712c7",
       "version_major": 2,
       "version_minor": 0
      },
      "text/plain": [
       "Training...:   0%|          | 0/1296 [00:00<?, ?it/s]"
      ]
     },
     "metadata": {},
     "output_type": "display_data"
    },
    {
     "data": {
      "application/vnd.jupyter.widget-view+json": {
       "model_id": "bebebfc94730469b9081f0e84fba81e7",
       "version_major": 2,
       "version_minor": 0
      },
      "text/plain": [
       "Validating..:   0%|          | 0/556 [00:00<?, ?it/s]"
      ]
     },
     "metadata": {},
     "output_type": "display_data"
    },
    {
     "data": {
      "application/vnd.jupyter.widget-view+json": {
       "model_id": "686accf21b1a4793a6675da46e8aaea4",
       "version_major": 2,
       "version_minor": 0
      },
      "text/plain": [
       "Training...:   0%|          | 0/1296 [00:00<?, ?it/s]"
      ]
     },
     "metadata": {},
     "output_type": "display_data"
    },
    {
     "data": {
      "application/vnd.jupyter.widget-view+json": {
       "model_id": "bd7f9da0760e410cb3d2eca0ce5742da",
       "version_major": 2,
       "version_minor": 0
      },
      "text/plain": [
       "Validating..:   0%|          | 0/556 [00:00<?, ?it/s]"
      ]
     },
     "metadata": {},
     "output_type": "display_data"
    },
    {
     "data": {
      "application/vnd.jupyter.widget-view+json": {
       "model_id": "616dd979ae7544f8a05381b581d53319",
       "version_major": 2,
       "version_minor": 0
      },
      "text/plain": [
       "Training...:   0%|          | 0/1296 [00:00<?, ?it/s]"
      ]
     },
     "metadata": {},
     "output_type": "display_data"
    },
    {
     "data": {
      "application/vnd.jupyter.widget-view+json": {
       "model_id": "3a47a199b30f471b94592236bbd6d28b",
       "version_major": 2,
       "version_minor": 0
      },
      "text/plain": [
       "Validating..:   0%|          | 0/556 [00:00<?, ?it/s]"
      ]
     },
     "metadata": {},
     "output_type": "display_data"
    },
    {
     "data": {
      "application/vnd.jupyter.widget-view+json": {
       "model_id": "7fc56e19776c445da8f77a821b41a363",
       "version_major": 2,
       "version_minor": 0
      },
      "text/plain": [
       "Training...:   0%|          | 0/1296 [00:00<?, ?it/s]"
      ]
     },
     "metadata": {},
     "output_type": "display_data"
    },
    {
     "data": {
      "application/vnd.jupyter.widget-view+json": {
       "model_id": "429f47b624734e069b45687bf4aa836f",
       "version_major": 2,
       "version_minor": 0
      },
      "text/plain": [
       "Validating..:   0%|          | 0/556 [00:00<?, ?it/s]"
      ]
     },
     "metadata": {},
     "output_type": "display_data"
    },
    {
     "data": {
      "application/vnd.jupyter.widget-view+json": {
       "model_id": "b1bf8b9b06ae4984b44c23435541e7c5",
       "version_major": 2,
       "version_minor": 0
      },
      "text/plain": [
       "Training...:   0%|          | 0/1296 [00:00<?, ?it/s]"
      ]
     },
     "metadata": {},
     "output_type": "display_data"
    },
    {
     "data": {
      "application/vnd.jupyter.widget-view+json": {
       "model_id": "56b86ea7f0714b49954b3883e8a4484d",
       "version_major": 2,
       "version_minor": 0
      },
      "text/plain": [
       "Validating..:   0%|          | 0/556 [00:00<?, ?it/s]"
      ]
     },
     "metadata": {},
     "output_type": "display_data"
    },
    {
     "data": {
      "application/vnd.jupyter.widget-view+json": {
       "model_id": "88ff7acd38a94b53bc1e4ae164242ef7",
       "version_major": 2,
       "version_minor": 0
      },
      "text/plain": [
       "Training...:   0%|          | 0/1296 [00:00<?, ?it/s]"
      ]
     },
     "metadata": {},
     "output_type": "display_data"
    },
    {
     "data": {
      "application/vnd.jupyter.widget-view+json": {
       "model_id": "ecc62f4c50134603b1c808c035193218",
       "version_major": 2,
       "version_minor": 0
      },
      "text/plain": [
       "Validating..:   0%|          | 0/556 [00:00<?, ?it/s]"
      ]
     },
     "metadata": {},
     "output_type": "display_data"
    },
    {
     "data": {
      "application/vnd.jupyter.widget-view+json": {
       "model_id": "1eb245fcfdfb4b68afceefb55bae8c31",
       "version_major": 2,
       "version_minor": 0
      },
      "text/plain": [
       "Training...:   0%|          | 0/1296 [00:00<?, ?it/s]"
      ]
     },
     "metadata": {},
     "output_type": "display_data"
    },
    {
     "data": {
      "application/vnd.jupyter.widget-view+json": {
       "model_id": "04aea73481c94a0ab9cc8124cf26ff2a",
       "version_major": 2,
       "version_minor": 0
      },
      "text/plain": [
       "Validating..:   0%|          | 0/556 [00:00<?, ?it/s]"
      ]
     },
     "metadata": {},
     "output_type": "display_data"
    },
    {
     "data": {
      "application/vnd.jupyter.widget-view+json": {
       "model_id": "5e15b98aa1624e24805f363586a9ad04",
       "version_major": 2,
       "version_minor": 0
      },
      "text/plain": [
       "Training...:   0%|          | 0/1296 [00:00<?, ?it/s]"
      ]
     },
     "metadata": {},
     "output_type": "display_data"
    },
    {
     "data": {
      "application/vnd.jupyter.widget-view+json": {
       "model_id": "3241584134904947a7a9bd63a283f207",
       "version_major": 2,
       "version_minor": 0
      },
      "text/plain": [
       "Validating..:   0%|          | 0/556 [00:00<?, ?it/s]"
      ]
     },
     "metadata": {},
     "output_type": "display_data"
    },
    {
     "name": "stdout",
     "output_type": "stream",
     "text": [
      "\n",
      "⛔ Early stopping triggered at epoch 58. Stopping training.\n",
      "\n",
      "🏆 Best Validation Accuracy: 0.6511\n",
      "Best model loaded from checkpoints/chrononet_aro_best.pth\n"
     ]
    }
   ],
   "source": [
    "model = ChronoNet(in_channels=32, conv_out_channels=64, gru_hidden_size=128, is_binary=True, num_classes=2,)\n",
    "loss_fn = nn.BCEWithLogitsLoss()\n",
    "optimizer = torch.optim.AdamW(model.parameters(), lr=1e-5) \n",
    "lr_schedule = torch.optim.lr_scheduler.ReduceLROnPlateau(optimizer, patience=3, mode='min')\n",
    "early_stopping = EarlyStopping(patience=20, mode='max')\n",
    "\n",
    "trained_model_aro, history_aro = run_training(\n",
    "    model=model,\n",
    "    train_dataset=train_aro_eeg,\n",
    "    val_dataset=val_aro_eeg,\n",
    "    loss_fn=loss_fn,\n",
    "    optimizer=optimizer,\n",
    "    lr_schedule=lr_schedule,\n",
    "    early_stopping=early_stopping,\n",
    "    device=device,\n",
    "    batch_size=32,\n",
    "    epochs=100,\n",
    "    model_destination='checkpoints/chrononet_aro',\n",
    ")\n",
    "# Saving results\n",
    "history_aro.to_csv('results/history_aro.csv')"
   ]
  },
  {
   "cell_type": "markdown",
   "id": "78b33346",
   "metadata": {},
   "source": [
    "### 📊 ChronoNet Hyperparameters – Valence Classification\n",
    "\n",
    "| Hyperparameter         | Value                                                 |\n",
    "|------------------------|-------------------------------------------------------|\n",
    "| Model                  | ChronoNet                                              |\n",
    "| Input Channels         | 32                                                    |\n",
    "| Conv Output Channels   | 64                                                    |\n",
    "| GRU Hidden Size        | 128                                                    |\n",
    "| Loss Function          | BCEWithLogitsLoss                                     |\n",
    "| Optimizer              | AdamW                                                 |\n",
    "| Learning Rate          | 1e-5                                                  |\n",
    "| LR Scheduler           | ReduceLROnPlateau (patience=3, mode='min')           |\n",
    "| Early Stopping         | Patience = 20 (mode='max')                            |\n",
    "| Batch Size             | 32                                                    |\n",
    "| Epochs                 | 100                                                   |\n",
    "| Checkpoint Path        | `checkpoints/chrononet_val`                           |\n",
    "| Result CSV             | `results/history_val.csv`                             |\n"
   ]
  },
  {
   "cell_type": "code",
   "execution_count": 44,
   "id": "d258eef5",
   "metadata": {},
   "outputs": [
    {
     "data": {
      "application/vnd.jupyter.widget-view+json": {
       "model_id": "92dfa082ea194bd19e7756aa25a8800f",
       "version_major": 2,
       "version_minor": 0
      },
      "text/plain": [
       "Epochs:   0%|          | 0/100 [00:00<?, ?it/s]"
      ]
     },
     "metadata": {},
     "output_type": "display_data"
    },
    {
     "data": {
      "application/vnd.jupyter.widget-view+json": {
       "model_id": "8428ea16c5e14c0c9d74b2a7669cc77a",
       "version_major": 2,
       "version_minor": 0
      },
      "text/plain": [
       "Training...:   0%|          | 0/1370 [00:00<?, ?it/s]"
      ]
     },
     "metadata": {},
     "output_type": "display_data"
    },
    {
     "data": {
      "application/vnd.jupyter.widget-view+json": {
       "model_id": "0eb843b6ac8144cc90ff1655be4b8462",
       "version_major": 2,
       "version_minor": 0
      },
      "text/plain": [
       "Validating..:   0%|          | 0/588 [00:00<?, ?it/s]"
      ]
     },
     "metadata": {},
     "output_type": "display_data"
    },
    {
     "data": {
      "application/vnd.jupyter.widget-view+json": {
       "model_id": "cb9071fe052941a39913df0098f9fa16",
       "version_major": 2,
       "version_minor": 0
      },
      "text/plain": [
       "Training...:   0%|          | 0/1370 [00:00<?, ?it/s]"
      ]
     },
     "metadata": {},
     "output_type": "display_data"
    },
    {
     "data": {
      "application/vnd.jupyter.widget-view+json": {
       "model_id": "3581faa3a0fb41b3a1252d070d7d90c3",
       "version_major": 2,
       "version_minor": 0
      },
      "text/plain": [
       "Validating..:   0%|          | 0/588 [00:00<?, ?it/s]"
      ]
     },
     "metadata": {},
     "output_type": "display_data"
    },
    {
     "data": {
      "application/vnd.jupyter.widget-view+json": {
       "model_id": "dc8464c27c1b4a9989f0a6870fc4a2e3",
       "version_major": 2,
       "version_minor": 0
      },
      "text/plain": [
       "Training...:   0%|          | 0/1370 [00:00<?, ?it/s]"
      ]
     },
     "metadata": {},
     "output_type": "display_data"
    },
    {
     "data": {
      "application/vnd.jupyter.widget-view+json": {
       "model_id": "2ca4a1c0819f45a4b35b171412d5b883",
       "version_major": 2,
       "version_minor": 0
      },
      "text/plain": [
       "Validating..:   0%|          | 0/588 [00:00<?, ?it/s]"
      ]
     },
     "metadata": {},
     "output_type": "display_data"
    },
    {
     "data": {
      "application/vnd.jupyter.widget-view+json": {
       "model_id": "e06209969a5a4b60baf0628e49a3beaa",
       "version_major": 2,
       "version_minor": 0
      },
      "text/plain": [
       "Training...:   0%|          | 0/1370 [00:00<?, ?it/s]"
      ]
     },
     "metadata": {},
     "output_type": "display_data"
    },
    {
     "data": {
      "application/vnd.jupyter.widget-view+json": {
       "model_id": "5fa7b92228614eb6aedfa8b32d6fa6c2",
       "version_major": 2,
       "version_minor": 0
      },
      "text/plain": [
       "Validating..:   0%|          | 0/588 [00:00<?, ?it/s]"
      ]
     },
     "metadata": {},
     "output_type": "display_data"
    },
    {
     "data": {
      "application/vnd.jupyter.widget-view+json": {
       "model_id": "c7ebf13196ee48a19ff5ddd0d3fdb2a7",
       "version_major": 2,
       "version_minor": 0
      },
      "text/plain": [
       "Training...:   0%|          | 0/1370 [00:00<?, ?it/s]"
      ]
     },
     "metadata": {},
     "output_type": "display_data"
    },
    {
     "data": {
      "application/vnd.jupyter.widget-view+json": {
       "model_id": "fcc26d8a7164488791e86d638c64c64a",
       "version_major": 2,
       "version_minor": 0
      },
      "text/plain": [
       "Validating..:   0%|          | 0/588 [00:00<?, ?it/s]"
      ]
     },
     "metadata": {},
     "output_type": "display_data"
    },
    {
     "data": {
      "application/vnd.jupyter.widget-view+json": {
       "model_id": "933561c6fac04ecc8d88e37f74c2d826",
       "version_major": 2,
       "version_minor": 0
      },
      "text/plain": [
       "Training...:   0%|          | 0/1370 [00:00<?, ?it/s]"
      ]
     },
     "metadata": {},
     "output_type": "display_data"
    },
    {
     "data": {
      "application/vnd.jupyter.widget-view+json": {
       "model_id": "51ffb4d66ddd4402b041b24a8d1a742a",
       "version_major": 2,
       "version_minor": 0
      },
      "text/plain": [
       "Validating..:   0%|          | 0/588 [00:00<?, ?it/s]"
      ]
     },
     "metadata": {},
     "output_type": "display_data"
    },
    {
     "data": {
      "application/vnd.jupyter.widget-view+json": {
       "model_id": "85112509989949bd9c2b8d9b917eb2e7",
       "version_major": 2,
       "version_minor": 0
      },
      "text/plain": [
       "Training...:   0%|          | 0/1370 [00:00<?, ?it/s]"
      ]
     },
     "metadata": {},
     "output_type": "display_data"
    },
    {
     "data": {
      "application/vnd.jupyter.widget-view+json": {
       "model_id": "9e7c9517e72441ba92f16585c380e235",
       "version_major": 2,
       "version_minor": 0
      },
      "text/plain": [
       "Validating..:   0%|          | 0/588 [00:00<?, ?it/s]"
      ]
     },
     "metadata": {},
     "output_type": "display_data"
    },
    {
     "data": {
      "application/vnd.jupyter.widget-view+json": {
       "model_id": "a35b83b87e704a4d88ece7b3420def35",
       "version_major": 2,
       "version_minor": 0
      },
      "text/plain": [
       "Training...:   0%|          | 0/1370 [00:00<?, ?it/s]"
      ]
     },
     "metadata": {},
     "output_type": "display_data"
    },
    {
     "data": {
      "application/vnd.jupyter.widget-view+json": {
       "model_id": "ee946e80c92f4a2f8092bde26d72aefb",
       "version_major": 2,
       "version_minor": 0
      },
      "text/plain": [
       "Validating..:   0%|          | 0/588 [00:00<?, ?it/s]"
      ]
     },
     "metadata": {},
     "output_type": "display_data"
    },
    {
     "data": {
      "application/vnd.jupyter.widget-view+json": {
       "model_id": "e552ca4720a04d79a5e2cd87ac6470e3",
       "version_major": 2,
       "version_minor": 0
      },
      "text/plain": [
       "Training...:   0%|          | 0/1370 [00:00<?, ?it/s]"
      ]
     },
     "metadata": {},
     "output_type": "display_data"
    },
    {
     "data": {
      "application/vnd.jupyter.widget-view+json": {
       "model_id": "b87ecfa7e0a0423fa3a6b1fe307ff8ef",
       "version_major": 2,
       "version_minor": 0
      },
      "text/plain": [
       "Validating..:   0%|          | 0/588 [00:00<?, ?it/s]"
      ]
     },
     "metadata": {},
     "output_type": "display_data"
    },
    {
     "data": {
      "application/vnd.jupyter.widget-view+json": {
       "model_id": "1cbf1b2a3a954686b527abf0a4db0050",
       "version_major": 2,
       "version_minor": 0
      },
      "text/plain": [
       "Training...:   0%|          | 0/1370 [00:00<?, ?it/s]"
      ]
     },
     "metadata": {},
     "output_type": "display_data"
    },
    {
     "data": {
      "application/vnd.jupyter.widget-view+json": {
       "model_id": "8c6c0da3a54542feb0ac18d728c448dc",
       "version_major": 2,
       "version_minor": 0
      },
      "text/plain": [
       "Validating..:   0%|          | 0/588 [00:00<?, ?it/s]"
      ]
     },
     "metadata": {},
     "output_type": "display_data"
    },
    {
     "data": {
      "application/vnd.jupyter.widget-view+json": {
       "model_id": "dc6b118729404a26a108c35ba39194db",
       "version_major": 2,
       "version_minor": 0
      },
      "text/plain": [
       "Training...:   0%|          | 0/1370 [00:00<?, ?it/s]"
      ]
     },
     "metadata": {},
     "output_type": "display_data"
    },
    {
     "data": {
      "application/vnd.jupyter.widget-view+json": {
       "model_id": "1fdcbd9f165e4d52a200812273d4687f",
       "version_major": 2,
       "version_minor": 0
      },
      "text/plain": [
       "Validating..:   0%|          | 0/588 [00:00<?, ?it/s]"
      ]
     },
     "metadata": {},
     "output_type": "display_data"
    },
    {
     "data": {
      "application/vnd.jupyter.widget-view+json": {
       "model_id": "8e4c771f456d48b994d8fafd7b066961",
       "version_major": 2,
       "version_minor": 0
      },
      "text/plain": [
       "Training...:   0%|          | 0/1370 [00:00<?, ?it/s]"
      ]
     },
     "metadata": {},
     "output_type": "display_data"
    },
    {
     "data": {
      "application/vnd.jupyter.widget-view+json": {
       "model_id": "041d99e258f349da96cfb5096f6aa5fb",
       "version_major": 2,
       "version_minor": 0
      },
      "text/plain": [
       "Validating..:   0%|          | 0/588 [00:00<?, ?it/s]"
      ]
     },
     "metadata": {},
     "output_type": "display_data"
    },
    {
     "data": {
      "application/vnd.jupyter.widget-view+json": {
       "model_id": "56739240a7e04d988ae962e4e40b4098",
       "version_major": 2,
       "version_minor": 0
      },
      "text/plain": [
       "Training...:   0%|          | 0/1370 [00:00<?, ?it/s]"
      ]
     },
     "metadata": {},
     "output_type": "display_data"
    },
    {
     "data": {
      "application/vnd.jupyter.widget-view+json": {
       "model_id": "3c98ba996b354631bfd6c80771ee967b",
       "version_major": 2,
       "version_minor": 0
      },
      "text/plain": [
       "Validating..:   0%|          | 0/588 [00:00<?, ?it/s]"
      ]
     },
     "metadata": {},
     "output_type": "display_data"
    },
    {
     "data": {
      "application/vnd.jupyter.widget-view+json": {
       "model_id": "c30af44fb35f4dcc80759b7daafa078a",
       "version_major": 2,
       "version_minor": 0
      },
      "text/plain": [
       "Training...:   0%|          | 0/1370 [00:00<?, ?it/s]"
      ]
     },
     "metadata": {},
     "output_type": "display_data"
    },
    {
     "data": {
      "application/vnd.jupyter.widget-view+json": {
       "model_id": "6542f00edb2c4659989485df2815637d",
       "version_major": 2,
       "version_minor": 0
      },
      "text/plain": [
       "Validating..:   0%|          | 0/588 [00:00<?, ?it/s]"
      ]
     },
     "metadata": {},
     "output_type": "display_data"
    },
    {
     "data": {
      "application/vnd.jupyter.widget-view+json": {
       "model_id": "e513702004d8458aa38eb94c650fbbd8",
       "version_major": 2,
       "version_minor": 0
      },
      "text/plain": [
       "Training...:   0%|          | 0/1370 [00:00<?, ?it/s]"
      ]
     },
     "metadata": {},
     "output_type": "display_data"
    },
    {
     "data": {
      "application/vnd.jupyter.widget-view+json": {
       "model_id": "4e916210449a4760a80befabfb8e5f0d",
       "version_major": 2,
       "version_minor": 0
      },
      "text/plain": [
       "Validating..:   0%|          | 0/588 [00:00<?, ?it/s]"
      ]
     },
     "metadata": {},
     "output_type": "display_data"
    },
    {
     "data": {
      "application/vnd.jupyter.widget-view+json": {
       "model_id": "4945c6bcb57448a28c53cb49b1d5f313",
       "version_major": 2,
       "version_minor": 0
      },
      "text/plain": [
       "Training...:   0%|          | 0/1370 [00:00<?, ?it/s]"
      ]
     },
     "metadata": {},
     "output_type": "display_data"
    },
    {
     "data": {
      "application/vnd.jupyter.widget-view+json": {
       "model_id": "9fac906f8a284b61a8b6e2bb2ad288b8",
       "version_major": 2,
       "version_minor": 0
      },
      "text/plain": [
       "Validating..:   0%|          | 0/588 [00:00<?, ?it/s]"
      ]
     },
     "metadata": {},
     "output_type": "display_data"
    },
    {
     "data": {
      "application/vnd.jupyter.widget-view+json": {
       "model_id": "4edd64254296462d80d1145907363f9c",
       "version_major": 2,
       "version_minor": 0
      },
      "text/plain": [
       "Training...:   0%|          | 0/1370 [00:00<?, ?it/s]"
      ]
     },
     "metadata": {},
     "output_type": "display_data"
    },
    {
     "data": {
      "application/vnd.jupyter.widget-view+json": {
       "model_id": "f57e8877d4ff41b49dcb05153a30dee0",
       "version_major": 2,
       "version_minor": 0
      },
      "text/plain": [
       "Validating..:   0%|          | 0/588 [00:00<?, ?it/s]"
      ]
     },
     "metadata": {},
     "output_type": "display_data"
    },
    {
     "data": {
      "application/vnd.jupyter.widget-view+json": {
       "model_id": "57750c0d56ae4e5294aa1a5e5c34417a",
       "version_major": 2,
       "version_minor": 0
      },
      "text/plain": [
       "Training...:   0%|          | 0/1370 [00:00<?, ?it/s]"
      ]
     },
     "metadata": {},
     "output_type": "display_data"
    },
    {
     "data": {
      "application/vnd.jupyter.widget-view+json": {
       "model_id": "551cee6317a2499e995c91ee6a6cfcef",
       "version_major": 2,
       "version_minor": 0
      },
      "text/plain": [
       "Validating..:   0%|          | 0/588 [00:00<?, ?it/s]"
      ]
     },
     "metadata": {},
     "output_type": "display_data"
    },
    {
     "data": {
      "application/vnd.jupyter.widget-view+json": {
       "model_id": "55b75b52813447d1acb739ee2c6d0bb1",
       "version_major": 2,
       "version_minor": 0
      },
      "text/plain": [
       "Training...:   0%|          | 0/1370 [00:00<?, ?it/s]"
      ]
     },
     "metadata": {},
     "output_type": "display_data"
    },
    {
     "data": {
      "application/vnd.jupyter.widget-view+json": {
       "model_id": "91bfdfdd64f94c849a1868b6ebaacaa4",
       "version_major": 2,
       "version_minor": 0
      },
      "text/plain": [
       "Validating..:   0%|          | 0/588 [00:00<?, ?it/s]"
      ]
     },
     "metadata": {},
     "output_type": "display_data"
    },
    {
     "data": {
      "application/vnd.jupyter.widget-view+json": {
       "model_id": "5d3a5ab53e374fe09a613a42982c91c5",
       "version_major": 2,
       "version_minor": 0
      },
      "text/plain": [
       "Training...:   0%|          | 0/1370 [00:00<?, ?it/s]"
      ]
     },
     "metadata": {},
     "output_type": "display_data"
    },
    {
     "data": {
      "application/vnd.jupyter.widget-view+json": {
       "model_id": "9880f6858b5d403d9a11ad5509dad277",
       "version_major": 2,
       "version_minor": 0
      },
      "text/plain": [
       "Validating..:   0%|          | 0/588 [00:00<?, ?it/s]"
      ]
     },
     "metadata": {},
     "output_type": "display_data"
    },
    {
     "data": {
      "application/vnd.jupyter.widget-view+json": {
       "model_id": "9e0fbdb6272f45a19a914140b6b9fb5d",
       "version_major": 2,
       "version_minor": 0
      },
      "text/plain": [
       "Training...:   0%|          | 0/1370 [00:00<?, ?it/s]"
      ]
     },
     "metadata": {},
     "output_type": "display_data"
    },
    {
     "data": {
      "application/vnd.jupyter.widget-view+json": {
       "model_id": "b773d8fb4aa6404da92ab31e72ba6071",
       "version_major": 2,
       "version_minor": 0
      },
      "text/plain": [
       "Validating..:   0%|          | 0/588 [00:00<?, ?it/s]"
      ]
     },
     "metadata": {},
     "output_type": "display_data"
    },
    {
     "data": {
      "application/vnd.jupyter.widget-view+json": {
       "model_id": "02dfc50a94c343b69ade6c2ce11bf2b2",
       "version_major": 2,
       "version_minor": 0
      },
      "text/plain": [
       "Training...:   0%|          | 0/1370 [00:00<?, ?it/s]"
      ]
     },
     "metadata": {},
     "output_type": "display_data"
    },
    {
     "data": {
      "application/vnd.jupyter.widget-view+json": {
       "model_id": "3b4854dbaf974df58e1f6430b86903a6",
       "version_major": 2,
       "version_minor": 0
      },
      "text/plain": [
       "Validating..:   0%|          | 0/588 [00:00<?, ?it/s]"
      ]
     },
     "metadata": {},
     "output_type": "display_data"
    },
    {
     "data": {
      "application/vnd.jupyter.widget-view+json": {
       "model_id": "9bbc30525e894a88ad0e388db7938acc",
       "version_major": 2,
       "version_minor": 0
      },
      "text/plain": [
       "Training...:   0%|          | 0/1370 [00:00<?, ?it/s]"
      ]
     },
     "metadata": {},
     "output_type": "display_data"
    },
    {
     "data": {
      "application/vnd.jupyter.widget-view+json": {
       "model_id": "aee39592350c40f2ae8722caed7b5f90",
       "version_major": 2,
       "version_minor": 0
      },
      "text/plain": [
       "Validating..:   0%|          | 0/588 [00:00<?, ?it/s]"
      ]
     },
     "metadata": {},
     "output_type": "display_data"
    },
    {
     "data": {
      "application/vnd.jupyter.widget-view+json": {
       "model_id": "c5a3dff36d194673b9c8dd397f204d79",
       "version_major": 2,
       "version_minor": 0
      },
      "text/plain": [
       "Training...:   0%|          | 0/1370 [00:00<?, ?it/s]"
      ]
     },
     "metadata": {},
     "output_type": "display_data"
    },
    {
     "data": {
      "application/vnd.jupyter.widget-view+json": {
       "model_id": "32de9a1e172d4364afcb0a0b88965995",
       "version_major": 2,
       "version_minor": 0
      },
      "text/plain": [
       "Validating..:   0%|          | 0/588 [00:00<?, ?it/s]"
      ]
     },
     "metadata": {},
     "output_type": "display_data"
    },
    {
     "data": {
      "application/vnd.jupyter.widget-view+json": {
       "model_id": "fb3b4e4f8df34e0bb6d51a13b79f20b4",
       "version_major": 2,
       "version_minor": 0
      },
      "text/plain": [
       "Training...:   0%|          | 0/1370 [00:00<?, ?it/s]"
      ]
     },
     "metadata": {},
     "output_type": "display_data"
    },
    {
     "data": {
      "application/vnd.jupyter.widget-view+json": {
       "model_id": "24abdbb22dd149749464d3be955dc76c",
       "version_major": 2,
       "version_minor": 0
      },
      "text/plain": [
       "Validating..:   0%|          | 0/588 [00:00<?, ?it/s]"
      ]
     },
     "metadata": {},
     "output_type": "display_data"
    },
    {
     "data": {
      "application/vnd.jupyter.widget-view+json": {
       "model_id": "0eba2af364f84a129b627e4b15d2bda8",
       "version_major": 2,
       "version_minor": 0
      },
      "text/plain": [
       "Training...:   0%|          | 0/1370 [00:00<?, ?it/s]"
      ]
     },
     "metadata": {},
     "output_type": "display_data"
    },
    {
     "data": {
      "application/vnd.jupyter.widget-view+json": {
       "model_id": "46da6937447c46388f7f69e030c617d5",
       "version_major": 2,
       "version_minor": 0
      },
      "text/plain": [
       "Validating..:   0%|          | 0/588 [00:00<?, ?it/s]"
      ]
     },
     "metadata": {},
     "output_type": "display_data"
    },
    {
     "data": {
      "application/vnd.jupyter.widget-view+json": {
       "model_id": "3b59d3e155f34543b2a84a0df0a90fa7",
       "version_major": 2,
       "version_minor": 0
      },
      "text/plain": [
       "Training...:   0%|          | 0/1370 [00:00<?, ?it/s]"
      ]
     },
     "metadata": {},
     "output_type": "display_data"
    },
    {
     "data": {
      "application/vnd.jupyter.widget-view+json": {
       "model_id": "aea218e363634affade18fc994556da8",
       "version_major": 2,
       "version_minor": 0
      },
      "text/plain": [
       "Validating..:   0%|          | 0/588 [00:00<?, ?it/s]"
      ]
     },
     "metadata": {},
     "output_type": "display_data"
    },
    {
     "data": {
      "application/vnd.jupyter.widget-view+json": {
       "model_id": "d57730603eb14ab491b57b383978ec9b",
       "version_major": 2,
       "version_minor": 0
      },
      "text/plain": [
       "Training...:   0%|          | 0/1370 [00:00<?, ?it/s]"
      ]
     },
     "metadata": {},
     "output_type": "display_data"
    },
    {
     "data": {
      "application/vnd.jupyter.widget-view+json": {
       "model_id": "7b99e445ccb54d749f939250bce657b8",
       "version_major": 2,
       "version_minor": 0
      },
      "text/plain": [
       "Validating..:   0%|          | 0/588 [00:00<?, ?it/s]"
      ]
     },
     "metadata": {},
     "output_type": "display_data"
    },
    {
     "data": {
      "application/vnd.jupyter.widget-view+json": {
       "model_id": "181bd4c8270f4059a88c69da9bab6ac1",
       "version_major": 2,
       "version_minor": 0
      },
      "text/plain": [
       "Training...:   0%|          | 0/1370 [00:00<?, ?it/s]"
      ]
     },
     "metadata": {},
     "output_type": "display_data"
    },
    {
     "data": {
      "application/vnd.jupyter.widget-view+json": {
       "model_id": "97a47d4e0e6d4b66926485650663fdc6",
       "version_major": 2,
       "version_minor": 0
      },
      "text/plain": [
       "Validating..:   0%|          | 0/588 [00:00<?, ?it/s]"
      ]
     },
     "metadata": {},
     "output_type": "display_data"
    },
    {
     "data": {
      "application/vnd.jupyter.widget-view+json": {
       "model_id": "8ea9bb53c3c14e23af825e628a8f222b",
       "version_major": 2,
       "version_minor": 0
      },
      "text/plain": [
       "Training...:   0%|          | 0/1370 [00:00<?, ?it/s]"
      ]
     },
     "metadata": {},
     "output_type": "display_data"
    },
    {
     "data": {
      "application/vnd.jupyter.widget-view+json": {
       "model_id": "cf4465fe02a74f24999fdb712f8da11e",
       "version_major": 2,
       "version_minor": 0
      },
      "text/plain": [
       "Validating..:   0%|          | 0/588 [00:00<?, ?it/s]"
      ]
     },
     "metadata": {},
     "output_type": "display_data"
    },
    {
     "data": {
      "application/vnd.jupyter.widget-view+json": {
       "model_id": "0cc29c0872964e6680660c1399873610",
       "version_major": 2,
       "version_minor": 0
      },
      "text/plain": [
       "Training...:   0%|          | 0/1370 [00:00<?, ?it/s]"
      ]
     },
     "metadata": {},
     "output_type": "display_data"
    },
    {
     "data": {
      "application/vnd.jupyter.widget-view+json": {
       "model_id": "a2b6ad89438846a1bd87a2eae058e818",
       "version_major": 2,
       "version_minor": 0
      },
      "text/plain": [
       "Validating..:   0%|          | 0/588 [00:00<?, ?it/s]"
      ]
     },
     "metadata": {},
     "output_type": "display_data"
    },
    {
     "data": {
      "application/vnd.jupyter.widget-view+json": {
       "model_id": "976c21512806470f89a6c348512bd79b",
       "version_major": 2,
       "version_minor": 0
      },
      "text/plain": [
       "Training...:   0%|          | 0/1370 [00:00<?, ?it/s]"
      ]
     },
     "metadata": {},
     "output_type": "display_data"
    },
    {
     "data": {
      "application/vnd.jupyter.widget-view+json": {
       "model_id": "41f25b05fedf41d6962ce2e29a2518bd",
       "version_major": 2,
       "version_minor": 0
      },
      "text/plain": [
       "Validating..:   0%|          | 0/588 [00:00<?, ?it/s]"
      ]
     },
     "metadata": {},
     "output_type": "display_data"
    },
    {
     "data": {
      "application/vnd.jupyter.widget-view+json": {
       "model_id": "944cb46496ef4906afbd902520330b95",
       "version_major": 2,
       "version_minor": 0
      },
      "text/plain": [
       "Training...:   0%|          | 0/1370 [00:00<?, ?it/s]"
      ]
     },
     "metadata": {},
     "output_type": "display_data"
    },
    {
     "data": {
      "application/vnd.jupyter.widget-view+json": {
       "model_id": "e1c8487c1c344410ba1515747965b2b5",
       "version_major": 2,
       "version_minor": 0
      },
      "text/plain": [
       "Validating..:   0%|          | 0/588 [00:00<?, ?it/s]"
      ]
     },
     "metadata": {},
     "output_type": "display_data"
    },
    {
     "data": {
      "application/vnd.jupyter.widget-view+json": {
       "model_id": "4e0b419f1cf94b2186eea912b45260a9",
       "version_major": 2,
       "version_minor": 0
      },
      "text/plain": [
       "Training...:   0%|          | 0/1370 [00:00<?, ?it/s]"
      ]
     },
     "metadata": {},
     "output_type": "display_data"
    },
    {
     "data": {
      "application/vnd.jupyter.widget-view+json": {
       "model_id": "84db140f3ff244e48732ffc184963d5f",
       "version_major": 2,
       "version_minor": 0
      },
      "text/plain": [
       "Validating..:   0%|          | 0/588 [00:00<?, ?it/s]"
      ]
     },
     "metadata": {},
     "output_type": "display_data"
    },
    {
     "data": {
      "application/vnd.jupyter.widget-view+json": {
       "model_id": "e8bbfc87cb114c1381d95521150ba466",
       "version_major": 2,
       "version_minor": 0
      },
      "text/plain": [
       "Training...:   0%|          | 0/1370 [00:00<?, ?it/s]"
      ]
     },
     "metadata": {},
     "output_type": "display_data"
    },
    {
     "data": {
      "application/vnd.jupyter.widget-view+json": {
       "model_id": "28b90ac2bdb843da9831007e9d6e5e23",
       "version_major": 2,
       "version_minor": 0
      },
      "text/plain": [
       "Validating..:   0%|          | 0/588 [00:00<?, ?it/s]"
      ]
     },
     "metadata": {},
     "output_type": "display_data"
    },
    {
     "data": {
      "application/vnd.jupyter.widget-view+json": {
       "model_id": "444f50dd8760405aa07bd5dd985c174c",
       "version_major": 2,
       "version_minor": 0
      },
      "text/plain": [
       "Training...:   0%|          | 0/1370 [00:00<?, ?it/s]"
      ]
     },
     "metadata": {},
     "output_type": "display_data"
    },
    {
     "data": {
      "application/vnd.jupyter.widget-view+json": {
       "model_id": "58d596186786494ea54344aa52585559",
       "version_major": 2,
       "version_minor": 0
      },
      "text/plain": [
       "Validating..:   0%|          | 0/588 [00:00<?, ?it/s]"
      ]
     },
     "metadata": {},
     "output_type": "display_data"
    },
    {
     "data": {
      "application/vnd.jupyter.widget-view+json": {
       "model_id": "0af4e14d6f6f40f783b0929bf5631328",
       "version_major": 2,
       "version_minor": 0
      },
      "text/plain": [
       "Training...:   0%|          | 0/1370 [00:00<?, ?it/s]"
      ]
     },
     "metadata": {},
     "output_type": "display_data"
    },
    {
     "data": {
      "application/vnd.jupyter.widget-view+json": {
       "model_id": "b49a7a3c80f44edd8d1e2bf4f8eeec18",
       "version_major": 2,
       "version_minor": 0
      },
      "text/plain": [
       "Validating..:   0%|          | 0/588 [00:00<?, ?it/s]"
      ]
     },
     "metadata": {},
     "output_type": "display_data"
    },
    {
     "data": {
      "application/vnd.jupyter.widget-view+json": {
       "model_id": "0af86321e53c4b5990ebcf37bff721e0",
       "version_major": 2,
       "version_minor": 0
      },
      "text/plain": [
       "Training...:   0%|          | 0/1370 [00:00<?, ?it/s]"
      ]
     },
     "metadata": {},
     "output_type": "display_data"
    },
    {
     "data": {
      "application/vnd.jupyter.widget-view+json": {
       "model_id": "75ef833fcbe6496f9c118b0fcf208c63",
       "version_major": 2,
       "version_minor": 0
      },
      "text/plain": [
       "Validating..:   0%|          | 0/588 [00:00<?, ?it/s]"
      ]
     },
     "metadata": {},
     "output_type": "display_data"
    },
    {
     "data": {
      "application/vnd.jupyter.widget-view+json": {
       "model_id": "9357330008294657909a3116ccc157df",
       "version_major": 2,
       "version_minor": 0
      },
      "text/plain": [
       "Training...:   0%|          | 0/1370 [00:00<?, ?it/s]"
      ]
     },
     "metadata": {},
     "output_type": "display_data"
    },
    {
     "data": {
      "application/vnd.jupyter.widget-view+json": {
       "model_id": "c25802d2ad74446c97b694080daf0a70",
       "version_major": 2,
       "version_minor": 0
      },
      "text/plain": [
       "Validating..:   0%|          | 0/588 [00:00<?, ?it/s]"
      ]
     },
     "metadata": {},
     "output_type": "display_data"
    },
    {
     "data": {
      "application/vnd.jupyter.widget-view+json": {
       "model_id": "b89f0749684f41558e113e4afe1b7eb0",
       "version_major": 2,
       "version_minor": 0
      },
      "text/plain": [
       "Training...:   0%|          | 0/1370 [00:00<?, ?it/s]"
      ]
     },
     "metadata": {},
     "output_type": "display_data"
    },
    {
     "data": {
      "application/vnd.jupyter.widget-view+json": {
       "model_id": "d522e1d56e6444a9b6c360b8dd99d0eb",
       "version_major": 2,
       "version_minor": 0
      },
      "text/plain": [
       "Validating..:   0%|          | 0/588 [00:00<?, ?it/s]"
      ]
     },
     "metadata": {},
     "output_type": "display_data"
    },
    {
     "data": {
      "application/vnd.jupyter.widget-view+json": {
       "model_id": "6e72429904d940ffa22ed39b9efc5e1c",
       "version_major": 2,
       "version_minor": 0
      },
      "text/plain": [
       "Training...:   0%|          | 0/1370 [00:00<?, ?it/s]"
      ]
     },
     "metadata": {},
     "output_type": "display_data"
    },
    {
     "data": {
      "application/vnd.jupyter.widget-view+json": {
       "model_id": "db1a45b23fc9421fb04e25ff1b699dc6",
       "version_major": 2,
       "version_minor": 0
      },
      "text/plain": [
       "Validating..:   0%|          | 0/588 [00:00<?, ?it/s]"
      ]
     },
     "metadata": {},
     "output_type": "display_data"
    },
    {
     "data": {
      "application/vnd.jupyter.widget-view+json": {
       "model_id": "155bad4c5f1449d49b5972824608552e",
       "version_major": 2,
       "version_minor": 0
      },
      "text/plain": [
       "Training...:   0%|          | 0/1370 [00:00<?, ?it/s]"
      ]
     },
     "metadata": {},
     "output_type": "display_data"
    },
    {
     "data": {
      "application/vnd.jupyter.widget-view+json": {
       "model_id": "eae631035242476ca1325e2992f823a8",
       "version_major": 2,
       "version_minor": 0
      },
      "text/plain": [
       "Validating..:   0%|          | 0/588 [00:00<?, ?it/s]"
      ]
     },
     "metadata": {},
     "output_type": "display_data"
    },
    {
     "data": {
      "application/vnd.jupyter.widget-view+json": {
       "model_id": "3c2b2ac03a0f42f3b09797cc61df136d",
       "version_major": 2,
       "version_minor": 0
      },
      "text/plain": [
       "Training...:   0%|          | 0/1370 [00:00<?, ?it/s]"
      ]
     },
     "metadata": {},
     "output_type": "display_data"
    },
    {
     "data": {
      "application/vnd.jupyter.widget-view+json": {
       "model_id": "6acb87c9a6304746a2afd8a52b681ffe",
       "version_major": 2,
       "version_minor": 0
      },
      "text/plain": [
       "Validating..:   0%|          | 0/588 [00:00<?, ?it/s]"
      ]
     },
     "metadata": {},
     "output_type": "display_data"
    },
    {
     "data": {
      "application/vnd.jupyter.widget-view+json": {
       "model_id": "b9fb10167c7a42e5bdc8d0a7921b48c9",
       "version_major": 2,
       "version_minor": 0
      },
      "text/plain": [
       "Training...:   0%|          | 0/1370 [00:00<?, ?it/s]"
      ]
     },
     "metadata": {},
     "output_type": "display_data"
    },
    {
     "data": {
      "application/vnd.jupyter.widget-view+json": {
       "model_id": "af7bfb03e57347359a36ede88268ea35",
       "version_major": 2,
       "version_minor": 0
      },
      "text/plain": [
       "Validating..:   0%|          | 0/588 [00:00<?, ?it/s]"
      ]
     },
     "metadata": {},
     "output_type": "display_data"
    },
    {
     "data": {
      "application/vnd.jupyter.widget-view+json": {
       "model_id": "fa79f8d8d91c4d0f9c1105b15e87d220",
       "version_major": 2,
       "version_minor": 0
      },
      "text/plain": [
       "Training...:   0%|          | 0/1370 [00:00<?, ?it/s]"
      ]
     },
     "metadata": {},
     "output_type": "display_data"
    },
    {
     "data": {
      "application/vnd.jupyter.widget-view+json": {
       "model_id": "0085f517850145c2a68f851c678d9c0c",
       "version_major": 2,
       "version_minor": 0
      },
      "text/plain": [
       "Validating..:   0%|          | 0/588 [00:00<?, ?it/s]"
      ]
     },
     "metadata": {},
     "output_type": "display_data"
    },
    {
     "data": {
      "application/vnd.jupyter.widget-view+json": {
       "model_id": "406dee4583a04579992a5c8f4e212220",
       "version_major": 2,
       "version_minor": 0
      },
      "text/plain": [
       "Training...:   0%|          | 0/1370 [00:00<?, ?it/s]"
      ]
     },
     "metadata": {},
     "output_type": "display_data"
    },
    {
     "data": {
      "application/vnd.jupyter.widget-view+json": {
       "model_id": "a9b0f0f3d5884051938b5cee988b1de7",
       "version_major": 2,
       "version_minor": 0
      },
      "text/plain": [
       "Validating..:   0%|          | 0/588 [00:00<?, ?it/s]"
      ]
     },
     "metadata": {},
     "output_type": "display_data"
    },
    {
     "data": {
      "application/vnd.jupyter.widget-view+json": {
       "model_id": "f20065c7621e4b3c83d61a0f92ed0f5e",
       "version_major": 2,
       "version_minor": 0
      },
      "text/plain": [
       "Training...:   0%|          | 0/1370 [00:00<?, ?it/s]"
      ]
     },
     "metadata": {},
     "output_type": "display_data"
    },
    {
     "data": {
      "application/vnd.jupyter.widget-view+json": {
       "model_id": "69be2f8ef5a244a9b438bb5d6720a3f0",
       "version_major": 2,
       "version_minor": 0
      },
      "text/plain": [
       "Validating..:   0%|          | 0/588 [00:00<?, ?it/s]"
      ]
     },
     "metadata": {},
     "output_type": "display_data"
    },
    {
     "data": {
      "application/vnd.jupyter.widget-view+json": {
       "model_id": "3071836ebd2a4d9894157794e8810dd9",
       "version_major": 2,
       "version_minor": 0
      },
      "text/plain": [
       "Training...:   0%|          | 0/1370 [00:00<?, ?it/s]"
      ]
     },
     "metadata": {},
     "output_type": "display_data"
    },
    {
     "data": {
      "application/vnd.jupyter.widget-view+json": {
       "model_id": "bccc05190e5040cb840f6fa801fef57c",
       "version_major": 2,
       "version_minor": 0
      },
      "text/plain": [
       "Validating..:   0%|          | 0/588 [00:00<?, ?it/s]"
      ]
     },
     "metadata": {},
     "output_type": "display_data"
    },
    {
     "data": {
      "application/vnd.jupyter.widget-view+json": {
       "model_id": "be9c2094651f42abbb04ec827b089e29",
       "version_major": 2,
       "version_minor": 0
      },
      "text/plain": [
       "Training...:   0%|          | 0/1370 [00:00<?, ?it/s]"
      ]
     },
     "metadata": {},
     "output_type": "display_data"
    },
    {
     "data": {
      "application/vnd.jupyter.widget-view+json": {
       "model_id": "2949f110042a455d80fba27a6950dfaa",
       "version_major": 2,
       "version_minor": 0
      },
      "text/plain": [
       "Validating..:   0%|          | 0/588 [00:00<?, ?it/s]"
      ]
     },
     "metadata": {},
     "output_type": "display_data"
    },
    {
     "data": {
      "application/vnd.jupyter.widget-view+json": {
       "model_id": "56a24a91699d4909887d52e11f8c924a",
       "version_major": 2,
       "version_minor": 0
      },
      "text/plain": [
       "Training...:   0%|          | 0/1370 [00:00<?, ?it/s]"
      ]
     },
     "metadata": {},
     "output_type": "display_data"
    },
    {
     "data": {
      "application/vnd.jupyter.widget-view+json": {
       "model_id": "d3308654f27f481e94d9e1d916b0d49a",
       "version_major": 2,
       "version_minor": 0
      },
      "text/plain": [
       "Validating..:   0%|          | 0/588 [00:00<?, ?it/s]"
      ]
     },
     "metadata": {},
     "output_type": "display_data"
    },
    {
     "data": {
      "application/vnd.jupyter.widget-view+json": {
       "model_id": "84ea9d20eecd4622a9d97d9e2878ab33",
       "version_major": 2,
       "version_minor": 0
      },
      "text/plain": [
       "Training...:   0%|          | 0/1370 [00:00<?, ?it/s]"
      ]
     },
     "metadata": {},
     "output_type": "display_data"
    },
    {
     "data": {
      "application/vnd.jupyter.widget-view+json": {
       "model_id": "8a9032dc0c8d4659b090198ce4d09816",
       "version_major": 2,
       "version_minor": 0
      },
      "text/plain": [
       "Validating..:   0%|          | 0/588 [00:00<?, ?it/s]"
      ]
     },
     "metadata": {},
     "output_type": "display_data"
    },
    {
     "data": {
      "application/vnd.jupyter.widget-view+json": {
       "model_id": "ebe264e086a249b4a4fc9aa1b8462a2a",
       "version_major": 2,
       "version_minor": 0
      },
      "text/plain": [
       "Training...:   0%|          | 0/1370 [00:00<?, ?it/s]"
      ]
     },
     "metadata": {},
     "output_type": "display_data"
    },
    {
     "data": {
      "application/vnd.jupyter.widget-view+json": {
       "model_id": "5be5d1f3bbdb48efa44df7a86536164a",
       "version_major": 2,
       "version_minor": 0
      },
      "text/plain": [
       "Validating..:   0%|          | 0/588 [00:00<?, ?it/s]"
      ]
     },
     "metadata": {},
     "output_type": "display_data"
    },
    {
     "data": {
      "application/vnd.jupyter.widget-view+json": {
       "model_id": "b750ee1d62934d7ba63572cddcb2f7d9",
       "version_major": 2,
       "version_minor": 0
      },
      "text/plain": [
       "Training...:   0%|          | 0/1370 [00:00<?, ?it/s]"
      ]
     },
     "metadata": {},
     "output_type": "display_data"
    },
    {
     "data": {
      "application/vnd.jupyter.widget-view+json": {
       "model_id": "06db9d1b75b94f26aea3b24fc41b41f5",
       "version_major": 2,
       "version_minor": 0
      },
      "text/plain": [
       "Validating..:   0%|          | 0/588 [00:00<?, ?it/s]"
      ]
     },
     "metadata": {},
     "output_type": "display_data"
    },
    {
     "data": {
      "application/vnd.jupyter.widget-view+json": {
       "model_id": "80dd1bdd08f74527bc3bfbbe14f0840c",
       "version_major": 2,
       "version_minor": 0
      },
      "text/plain": [
       "Training...:   0%|          | 0/1370 [00:00<?, ?it/s]"
      ]
     },
     "metadata": {},
     "output_type": "display_data"
    },
    {
     "data": {
      "application/vnd.jupyter.widget-view+json": {
       "model_id": "7f2d1fb93c8d410db7016120dbec88c2",
       "version_major": 2,
       "version_minor": 0
      },
      "text/plain": [
       "Validating..:   0%|          | 0/588 [00:00<?, ?it/s]"
      ]
     },
     "metadata": {},
     "output_type": "display_data"
    },
    {
     "data": {
      "application/vnd.jupyter.widget-view+json": {
       "model_id": "cdaebaf76ea94b148dec94deca359147",
       "version_major": 2,
       "version_minor": 0
      },
      "text/plain": [
       "Training...:   0%|          | 0/1370 [00:00<?, ?it/s]"
      ]
     },
     "metadata": {},
     "output_type": "display_data"
    },
    {
     "data": {
      "application/vnd.jupyter.widget-view+json": {
       "model_id": "ddcb4437214f4ab08e913815d18235f2",
       "version_major": 2,
       "version_minor": 0
      },
      "text/plain": [
       "Validating..:   0%|          | 0/588 [00:00<?, ?it/s]"
      ]
     },
     "metadata": {},
     "output_type": "display_data"
    },
    {
     "data": {
      "application/vnd.jupyter.widget-view+json": {
       "model_id": "f91600bf214745a696c2b90343a985f7",
       "version_major": 2,
       "version_minor": 0
      },
      "text/plain": [
       "Training...:   0%|          | 0/1370 [00:00<?, ?it/s]"
      ]
     },
     "metadata": {},
     "output_type": "display_data"
    },
    {
     "data": {
      "application/vnd.jupyter.widget-view+json": {
       "model_id": "74e187b81d184b79b2d87063c8a8f7e2",
       "version_major": 2,
       "version_minor": 0
      },
      "text/plain": [
       "Validating..:   0%|          | 0/588 [00:00<?, ?it/s]"
      ]
     },
     "metadata": {},
     "output_type": "display_data"
    },
    {
     "data": {
      "application/vnd.jupyter.widget-view+json": {
       "model_id": "623359954517422caf61d2fe88b73578",
       "version_major": 2,
       "version_minor": 0
      },
      "text/plain": [
       "Training...:   0%|          | 0/1370 [00:00<?, ?it/s]"
      ]
     },
     "metadata": {},
     "output_type": "display_data"
    },
    {
     "data": {
      "application/vnd.jupyter.widget-view+json": {
       "model_id": "98f33817a5774ab2857ac529928162ec",
       "version_major": 2,
       "version_minor": 0
      },
      "text/plain": [
       "Validating..:   0%|          | 0/588 [00:00<?, ?it/s]"
      ]
     },
     "metadata": {},
     "output_type": "display_data"
    },
    {
     "data": {
      "application/vnd.jupyter.widget-view+json": {
       "model_id": "b2b8f97cb7cf490c885135183afa6195",
       "version_major": 2,
       "version_minor": 0
      },
      "text/plain": [
       "Training...:   0%|          | 0/1370 [00:00<?, ?it/s]"
      ]
     },
     "metadata": {},
     "output_type": "display_data"
    },
    {
     "data": {
      "application/vnd.jupyter.widget-view+json": {
       "model_id": "a60cf5d7a3514001b1dd4ce34eba4675",
       "version_major": 2,
       "version_minor": 0
      },
      "text/plain": [
       "Validating..:   0%|          | 0/588 [00:00<?, ?it/s]"
      ]
     },
     "metadata": {},
     "output_type": "display_data"
    },
    {
     "data": {
      "application/vnd.jupyter.widget-view+json": {
       "model_id": "2e2c6de493224f729a60eecdd15a7047",
       "version_major": 2,
       "version_minor": 0
      },
      "text/plain": [
       "Training...:   0%|          | 0/1370 [00:00<?, ?it/s]"
      ]
     },
     "metadata": {},
     "output_type": "display_data"
    },
    {
     "data": {
      "application/vnd.jupyter.widget-view+json": {
       "model_id": "0520a917f3264a6bb03382b5b434b36d",
       "version_major": 2,
       "version_minor": 0
      },
      "text/plain": [
       "Validating..:   0%|          | 0/588 [00:00<?, ?it/s]"
      ]
     },
     "metadata": {},
     "output_type": "display_data"
    },
    {
     "data": {
      "application/vnd.jupyter.widget-view+json": {
       "model_id": "f0305aff5deb458eaf47ce6f64820d02",
       "version_major": 2,
       "version_minor": 0
      },
      "text/plain": [
       "Training...:   0%|          | 0/1370 [00:00<?, ?it/s]"
      ]
     },
     "metadata": {},
     "output_type": "display_data"
    },
    {
     "data": {
      "application/vnd.jupyter.widget-view+json": {
       "model_id": "bf55723a86d94d778245dc8a6bd1c68f",
       "version_major": 2,
       "version_minor": 0
      },
      "text/plain": [
       "Validating..:   0%|          | 0/588 [00:00<?, ?it/s]"
      ]
     },
     "metadata": {},
     "output_type": "display_data"
    },
    {
     "data": {
      "application/vnd.jupyter.widget-view+json": {
       "model_id": "382002bfb8744a2ba3c6802df98db2f7",
       "version_major": 2,
       "version_minor": 0
      },
      "text/plain": [
       "Training...:   0%|          | 0/1370 [00:00<?, ?it/s]"
      ]
     },
     "metadata": {},
     "output_type": "display_data"
    },
    {
     "data": {
      "application/vnd.jupyter.widget-view+json": {
       "model_id": "46cb0e3ad97a45f7b41e87c394d10749",
       "version_major": 2,
       "version_minor": 0
      },
      "text/plain": [
       "Validating..:   0%|          | 0/588 [00:00<?, ?it/s]"
      ]
     },
     "metadata": {},
     "output_type": "display_data"
    },
    {
     "data": {
      "application/vnd.jupyter.widget-view+json": {
       "model_id": "23832a9c86af4c5dae2ecb8c916eb9f0",
       "version_major": 2,
       "version_minor": 0
      },
      "text/plain": [
       "Training...:   0%|          | 0/1370 [00:00<?, ?it/s]"
      ]
     },
     "metadata": {},
     "output_type": "display_data"
    },
    {
     "data": {
      "application/vnd.jupyter.widget-view+json": {
       "model_id": "2576b1e2766044fdbd0d3e955c0db650",
       "version_major": 2,
       "version_minor": 0
      },
      "text/plain": [
       "Validating..:   0%|          | 0/588 [00:00<?, ?it/s]"
      ]
     },
     "metadata": {},
     "output_type": "display_data"
    },
    {
     "data": {
      "application/vnd.jupyter.widget-view+json": {
       "model_id": "bca9c5d0c008466d8a332681ee0e6820",
       "version_major": 2,
       "version_minor": 0
      },
      "text/plain": [
       "Training...:   0%|          | 0/1370 [00:00<?, ?it/s]"
      ]
     },
     "metadata": {},
     "output_type": "display_data"
    },
    {
     "data": {
      "application/vnd.jupyter.widget-view+json": {
       "model_id": "594de5e39968436899d8367dadf874e1",
       "version_major": 2,
       "version_minor": 0
      },
      "text/plain": [
       "Validating..:   0%|          | 0/588 [00:00<?, ?it/s]"
      ]
     },
     "metadata": {},
     "output_type": "display_data"
    },
    {
     "data": {
      "application/vnd.jupyter.widget-view+json": {
       "model_id": "7e8e087711f648d199c239e34681f9dc",
       "version_major": 2,
       "version_minor": 0
      },
      "text/plain": [
       "Training...:   0%|          | 0/1370 [00:00<?, ?it/s]"
      ]
     },
     "metadata": {},
     "output_type": "display_data"
    },
    {
     "data": {
      "application/vnd.jupyter.widget-view+json": {
       "model_id": "ce217115ad3e4075be47ef738ba174be",
       "version_major": 2,
       "version_minor": 0
      },
      "text/plain": [
       "Validating..:   0%|          | 0/588 [00:00<?, ?it/s]"
      ]
     },
     "metadata": {},
     "output_type": "display_data"
    },
    {
     "data": {
      "application/vnd.jupyter.widget-view+json": {
       "model_id": "f79a08e49e774f70995f3dcc859e4e0d",
       "version_major": 2,
       "version_minor": 0
      },
      "text/plain": [
       "Training...:   0%|          | 0/1370 [00:00<?, ?it/s]"
      ]
     },
     "metadata": {},
     "output_type": "display_data"
    },
    {
     "data": {
      "application/vnd.jupyter.widget-view+json": {
       "model_id": "62351a65bb1a42a68fa300a035d5b29f",
       "version_major": 2,
       "version_minor": 0
      },
      "text/plain": [
       "Validating..:   0%|          | 0/588 [00:00<?, ?it/s]"
      ]
     },
     "metadata": {},
     "output_type": "display_data"
    },
    {
     "data": {
      "application/vnd.jupyter.widget-view+json": {
       "model_id": "885b1e0e41ba49259439d2bc5abdd037",
       "version_major": 2,
       "version_minor": 0
      },
      "text/plain": [
       "Training...:   0%|          | 0/1370 [00:00<?, ?it/s]"
      ]
     },
     "metadata": {},
     "output_type": "display_data"
    },
    {
     "data": {
      "application/vnd.jupyter.widget-view+json": {
       "model_id": "bbb5b0c5436a43fdad3ece7340908985",
       "version_major": 2,
       "version_minor": 0
      },
      "text/plain": [
       "Validating..:   0%|          | 0/588 [00:00<?, ?it/s]"
      ]
     },
     "metadata": {},
     "output_type": "display_data"
    },
    {
     "data": {
      "application/vnd.jupyter.widget-view+json": {
       "model_id": "5f3ecd0428144fe0ba0c8533d8dc93f0",
       "version_major": 2,
       "version_minor": 0
      },
      "text/plain": [
       "Training...:   0%|          | 0/1370 [00:00<?, ?it/s]"
      ]
     },
     "metadata": {},
     "output_type": "display_data"
    },
    {
     "data": {
      "application/vnd.jupyter.widget-view+json": {
       "model_id": "be52e6cceaad416ebb0acf731bee24fc",
       "version_major": 2,
       "version_minor": 0
      },
      "text/plain": [
       "Validating..:   0%|          | 0/588 [00:00<?, ?it/s]"
      ]
     },
     "metadata": {},
     "output_type": "display_data"
    },
    {
     "data": {
      "application/vnd.jupyter.widget-view+json": {
       "model_id": "2499c6b07fbe4a769979edf1e3dc9bc4",
       "version_major": 2,
       "version_minor": 0
      },
      "text/plain": [
       "Training...:   0%|          | 0/1370 [00:00<?, ?it/s]"
      ]
     },
     "metadata": {},
     "output_type": "display_data"
    },
    {
     "data": {
      "application/vnd.jupyter.widget-view+json": {
       "model_id": "c7145801566043699f0876089e172220",
       "version_major": 2,
       "version_minor": 0
      },
      "text/plain": [
       "Validating..:   0%|          | 0/588 [00:00<?, ?it/s]"
      ]
     },
     "metadata": {},
     "output_type": "display_data"
    },
    {
     "data": {
      "application/vnd.jupyter.widget-view+json": {
       "model_id": "482527239e2f4ba5a1b869e98ba1ba56",
       "version_major": 2,
       "version_minor": 0
      },
      "text/plain": [
       "Training...:   0%|          | 0/1370 [00:00<?, ?it/s]"
      ]
     },
     "metadata": {},
     "output_type": "display_data"
    },
    {
     "data": {
      "application/vnd.jupyter.widget-view+json": {
       "model_id": "21dca312d94145f5a45c47669fa35d6e",
       "version_major": 2,
       "version_minor": 0
      },
      "text/plain": [
       "Validating..:   0%|          | 0/588 [00:00<?, ?it/s]"
      ]
     },
     "metadata": {},
     "output_type": "display_data"
    },
    {
     "data": {
      "application/vnd.jupyter.widget-view+json": {
       "model_id": "dcabbf7c70e64ce3a733cb3303e4cabf",
       "version_major": 2,
       "version_minor": 0
      },
      "text/plain": [
       "Training...:   0%|          | 0/1370 [00:00<?, ?it/s]"
      ]
     },
     "metadata": {},
     "output_type": "display_data"
    },
    {
     "data": {
      "application/vnd.jupyter.widget-view+json": {
       "model_id": "5f68940f47c648a488e0c7dbc13b00e6",
       "version_major": 2,
       "version_minor": 0
      },
      "text/plain": [
       "Validating..:   0%|          | 0/588 [00:00<?, ?it/s]"
      ]
     },
     "metadata": {},
     "output_type": "display_data"
    },
    {
     "data": {
      "application/vnd.jupyter.widget-view+json": {
       "model_id": "ef013a1007b247888b91b326cb02bef2",
       "version_major": 2,
       "version_minor": 0
      },
      "text/plain": [
       "Training...:   0%|          | 0/1370 [00:00<?, ?it/s]"
      ]
     },
     "metadata": {},
     "output_type": "display_data"
    },
    {
     "data": {
      "application/vnd.jupyter.widget-view+json": {
       "model_id": "bc1366cfaac143f68eb11387079f271c",
       "version_major": 2,
       "version_minor": 0
      },
      "text/plain": [
       "Validating..:   0%|          | 0/588 [00:00<?, ?it/s]"
      ]
     },
     "metadata": {},
     "output_type": "display_data"
    },
    {
     "data": {
      "application/vnd.jupyter.widget-view+json": {
       "model_id": "47afee0abe55497c9afb2ecd112ed994",
       "version_major": 2,
       "version_minor": 0
      },
      "text/plain": [
       "Training...:   0%|          | 0/1370 [00:00<?, ?it/s]"
      ]
     },
     "metadata": {},
     "output_type": "display_data"
    },
    {
     "data": {
      "application/vnd.jupyter.widget-view+json": {
       "model_id": "df5e36c71fd9438c890f6756930bd3f7",
       "version_major": 2,
       "version_minor": 0
      },
      "text/plain": [
       "Validating..:   0%|          | 0/588 [00:00<?, ?it/s]"
      ]
     },
     "metadata": {},
     "output_type": "display_data"
    },
    {
     "data": {
      "application/vnd.jupyter.widget-view+json": {
       "model_id": "8b0dfce3654c4d1bb83941b66114a670",
       "version_major": 2,
       "version_minor": 0
      },
      "text/plain": [
       "Training...:   0%|          | 0/1370 [00:00<?, ?it/s]"
      ]
     },
     "metadata": {},
     "output_type": "display_data"
    },
    {
     "data": {
      "application/vnd.jupyter.widget-view+json": {
       "model_id": "2172ed1ff7cf42899407f953b76010dc",
       "version_major": 2,
       "version_minor": 0
      },
      "text/plain": [
       "Validating..:   0%|          | 0/588 [00:00<?, ?it/s]"
      ]
     },
     "metadata": {},
     "output_type": "display_data"
    },
    {
     "data": {
      "application/vnd.jupyter.widget-view+json": {
       "model_id": "eb6693c3dad942aebdf97223feb17d4f",
       "version_major": 2,
       "version_minor": 0
      },
      "text/plain": [
       "Training...:   0%|          | 0/1370 [00:00<?, ?it/s]"
      ]
     },
     "metadata": {},
     "output_type": "display_data"
    },
    {
     "data": {
      "application/vnd.jupyter.widget-view+json": {
       "model_id": "2fff8f19857349df84dc5ff85f97e2c2",
       "version_major": 2,
       "version_minor": 0
      },
      "text/plain": [
       "Validating..:   0%|          | 0/588 [00:00<?, ?it/s]"
      ]
     },
     "metadata": {},
     "output_type": "display_data"
    },
    {
     "name": "stdout",
     "output_type": "stream",
     "text": [
      "\n",
      "⛔ Early stopping triggered at epoch 74. Stopping training.\n",
      "\n",
      "🏆 Best Validation Accuracy: 0.6381\n",
      "Best model loaded from checkpoints/chrononet_val_best.pth\n"
     ]
    }
   ],
   "source": [
    "model = ChronoNet(in_channels=32, conv_out_channels=64, gru_hidden_size=128, is_binary=True, num_classes=2,)\n",
    "loss_fn = nn.BCEWithLogitsLoss()\n",
    "optimizer = torch.optim.AdamW(model.parameters(), lr=1e-5) \n",
    "lr_schedule = torch.optim.lr_scheduler.ReduceLROnPlateau(optimizer, patience=3, mode='min')\n",
    "early_stopping = EarlyStopping(patience=20, mode='max')\n",
    "\n",
    "trained_model_val, history_val = run_training(\n",
    "    model=model,\n",
    "    train_dataset=train_val_eeg,\n",
    "    val_dataset=val_val_eeg,\n",
    "    loss_fn=loss_fn,\n",
    "    optimizer=optimizer,\n",
    "    lr_schedule=lr_schedule,\n",
    "    early_stopping=early_stopping,\n",
    "    device=device,\n",
    "    batch_size=32,\n",
    "    epochs=100,\n",
    "    model_destination='checkpoints/chrononet_val',\n",
    ")\n",
    "\n",
    "# Saving results\n",
    "history_val.to_csv('results/history_val.csv')"
   ]
  },
  {
   "cell_type": "markdown",
   "id": "15b3dc97",
   "metadata": {},
   "source": [
    "### Training Report :"
   ]
  },
  {
   "cell_type": "code",
   "execution_count": 45,
   "id": "55fce592",
   "metadata": {},
   "outputs": [
    {
     "data": {
      "image/png": "[encoded data removed]",
      "text/plain": [
       "<Figure size 1200x800 with 4 Axes>"
      ]
     },
     "metadata": {},
     "output_type": "display_data"
    }
   ],
   "source": [
    "import matplotlib.pyplot as plt\n",
    "\n",
    "fig, axs = plt.subplots(2, 2, figsize=(12, 8))\n",
    "fig.suptitle('Training and Validation Metrics for Valence and Arousal', fontsize=14)\n",
    "\n",
    "# Valence Loss\n",
    "axs[0, 0].plot(history_val['train_loss'], label='Train Loss')\n",
    "axs[0, 0].plot(history_val['val_loss'], label='Validation Loss')\n",
    "axs[0, 0].set_title('Valence Loss')\n",
    "axs[0, 0].set_xlabel('Epochs')\n",
    "axs[0, 0].set_ylabel('Loss')\n",
    "axs[0, 0].legend()\n",
    "\n",
    "# Valence Accuracy\n",
    "axs[0, 1].plot(history_val['train_acc'], label='Train Accuracy')\n",
    "axs[0, 1].plot(history_val['val_acc'], label='Validation Accuracy')\n",
    "axs[0, 1].set_title('Valence Accuracy')\n",
    "axs[0, 1].set_xlabel('Epochs')\n",
    "axs[0, 1].set_ylabel('Accuracy')\n",
    "axs[0, 1].legend()\n",
    "\n",
    "# Arousal Loss\n",
    "axs[1, 0].plot(history_aro['train_loss'], label='Train Loss')\n",
    "axs[1, 0].plot(history_aro['val_loss'], label='Validation Loss')\n",
    "axs[1, 0].set_title('Arousal Loss')\n",
    "axs[1, 0].set_xlabel('Epochs')\n",
    "axs[1, 0].set_ylabel('Loss')\n",
    "axs[1, 0].legend()\n",
    "\n",
    "# Arousal Accuracy\n",
    "axs[1, 1].plot(history_aro['train_acc'], label='Train Accuracy')\n",
    "axs[1, 1].plot(history_aro['val_acc'], label='Validation Accuracy')\n",
    "axs[1, 1].set_title('Arousal Accuracy')\n",
    "axs[1, 1].set_xlabel('Epochs')\n",
    "axs[1, 1].set_ylabel('Accuracy')\n",
    "axs[1, 1].legend()\n",
    "\n",
    "plt.tight_layout(rect=[0, 0.03, 1, 0.95])\n",
    "plt.show()"
   ]
  },
  {
   "cell_type": "markdown",
   "id": "22f2073c",
   "metadata": {},
   "source": [
    "## Results\n",
    "\n",
    "### Testing network on Subjects number **31** and **32**"
   ]
  },
  {
   "cell_type": "code",
   "execution_count": 46,
   "id": "85926e60",
   "metadata": {},
   "outputs": [
    {
     "data": {
      "application/vnd.jupyter.widget-view+json": {
       "model_id": "6b8fe10d3250465e99f7e7ea399a9dd9",
       "version_major": 2,
       "version_minor": 0
      },
      "text/plain": [
       "Loading subject 31:   0%|          | 0/40 [00:00<?, ?it/s]"
      ]
     },
     "metadata": {},
     "output_type": "display_data"
    },
    {
     "data": {
      "application/vnd.jupyter.widget-view+json": {
       "model_id": "7d18b6fce0ee48af9511958476082dc5",
       "version_major": 2,
       "version_minor": 0
      },
      "text/plain": [
       "Loading subject 32:   0%|          | 0/40 [00:00<?, ?it/s]"
      ]
     },
     "metadata": {},
     "output_type": "display_data"
    },
    {
     "data": {
      "application/vnd.jupyter.widget-view+json": {
       "model_id": "ff1be87b555b41df92ff1025f5da5290",
       "version_major": 2,
       "version_minor": 0
      },
      "text/plain": [
       "Loading subject 31:   0%|          | 0/40 [00:00<?, ?it/s]"
      ]
     },
     "metadata": {},
     "output_type": "display_data"
    },
    {
     "data": {
      "application/vnd.jupyter.widget-view+json": {
       "model_id": "6df42adb4ba54fabb242fe8a627351c0",
       "version_major": 2,
       "version_minor": 0
      },
      "text/plain": [
       "Loading subject 32:   0%|          | 0/40 [00:00<?, ?it/s]"
      ]
     },
     "metadata": {},
     "output_type": "display_data"
    },
    {
     "data": {
      "application/vnd.jupyter.widget-view+json": {
       "model_id": "6d6b8df66e4d4e949068ffa3b92c1a26",
       "version_major": 2,
       "version_minor": 0
      },
      "text/plain": [
       "Predicting...:   0%|          | 0/75 [00:00<?, ?it/s]"
      ]
     },
     "metadata": {},
     "output_type": "display_data"
    },
    {
     "data": {
      "application/vnd.jupyter.widget-view+json": {
       "model_id": "7e50bd4e0ba4422bb3ccfd85df5676a0",
       "version_major": 2,
       "version_minor": 0
      },
      "text/plain": [
       "Predicting...:   0%|          | 0/75 [00:00<?, ?it/s]"
      ]
     },
     "metadata": {},
     "output_type": "display_data"
    }
   ],
   "source": [
    "from scripts.test import predict\n",
    "from datasets.deap import DEAP, load_deap_dataset\n",
    "\n",
    "test_valence_data, test_valence_labels, test_valence_values  = load_deap_dataset(\n",
    "    label_type='valence',\n",
    "    label_path='./data/DEAP/labels',\n",
    "    bio_path='./data/DEAP/bio_normalized',\n",
    "    subjects=list(range(31, 33))\n",
    ")\n",
    "test_valence_dataset = DEAP(test_valence_data, torch.tensor(test_valence_labels, dtype=torch.long), test_valence_values, augment=False)\n",
    "\n",
    "test_arousal_data, test_arousal_labels, test_arousal_values = load_deap_dataset(\n",
    "    label_type='arousal',\n",
    "    label_path='./data/DEAP/labels',\n",
    "    bio_path='./data/DEAP/bio_normalized',\n",
    "    subjects=list(range(31, 33))\n",
    ")\n",
    "test_arousal_dataset = DEAP(test_arousal_data, torch.tensor(test_arousal_labels, dtype=torch.long), test_arousal_values, augment=False)\n",
    "\n",
    "\n",
    "\n",
    "pred_val, prob_val, true_val  = predict(model, test_valence_dataset, device, batch_size=64, return_probs=True)\n",
    "\n",
    "# from scripts.test import predict\n",
    "pred_aro, prob_aro, true_aro  = predict(model, test_arousal_dataset, device, batch_size=64, return_probs=True)"
   ]
  },
  {
   "cell_type": "markdown",
   "id": "5d8ff132",
   "metadata": {},
   "source": [
    "### Arousal Report"
   ]
  },
  {
   "cell_type": "code",
   "execution_count": 47,
   "id": "a1801f3d",
   "metadata": {},
   "outputs": [
    {
     "name": "stdout",
     "output_type": "stream",
     "text": [
      "              precision    recall  f1-score   support\n",
      "\n",
      " Low Arousal       0.80      0.42      0.55      3617\n",
      "High Arousal       0.28      0.68      0.39      1183\n",
      "\n",
      "    accuracy                           0.49      4800\n",
      "   macro avg       0.54      0.55      0.47      4800\n",
      "weighted avg       0.67      0.49      0.52      4800\n",
      "\n"
     ]
    }
   ],
   "source": [
    "from sklearn.metrics import classification_report\n",
    "print(classification_report(pred_aro, true_aro, target_names=['Low Arousal', 'High Arousal']))"
   ]
  },
  {
   "cell_type": "markdown",
   "id": "8c255bb0",
   "metadata": {},
   "source": [
    "### Valence Report"
   ]
  },
  {
   "cell_type": "code",
   "execution_count": 48,
   "id": "29ca98c0",
   "metadata": {},
   "outputs": [
    {
     "name": "stdout",
     "output_type": "stream",
     "text": [
      "              precision    recall  f1-score   support\n",
      "\n",
      " Low Valence       0.70      0.40      0.51      3617\n",
      "High Valence       0.21      0.49      0.29      1183\n",
      "\n",
      "    accuracy                           0.42      4800\n",
      "   macro avg       0.46      0.44      0.40      4800\n",
      "weighted avg       0.58      0.42      0.46      4800\n",
      "\n"
     ]
    }
   ],
   "source": [
    "from sklearn.metrics import classification_report\n",
    "print(classification_report(pred_val, true_val, target_names=['Low Valence', 'High Valence']))"
   ]
  },
  {
   "cell_type": "markdown",
   "id": "4f835256",
   "metadata": {},
   "source": [
    "### Confusion Matrix"
   ]
  },
  {
   "cell_type": "code",
   "execution_count": 60,
   "id": "e6553c15",
   "metadata": {},
   "outputs": [
    {
     "data": {
      "image/png": "[encoded data removed]",
      "text/plain": [
       "<Figure size 600x500 with 2 Axes>"
      ]
     },
     "metadata": {},
     "output_type": "display_data"
    },
    {
     "data": {
      "image/png": "[encoded data removed]",
      "text/plain": [
       "<Figure size 600x500 with 2 Axes>"
      ]
     },
     "metadata": {},
     "output_type": "display_data"
    }
   ],
   "source": [
    "from scripts.metrics import plot_confusion_matrix\n",
    "\n",
    "plot_confusion_matrix(\n",
    "    true_val, pred_val,\n",
    "    class_names=['Low Valence', 'High Valence'],\n",
    "    title='Confusion Matrix for Valence'\n",
    ")\n",
    "\n",
    "plot_confusion_matrix(\n",
    "    true_aro, pred_aro,\n",
    "    class_names=['Low Arousal', 'High Arousal'],\n",
    "    title='Confusion Matrix for Arousal'\n",
    ")"
   ]
  },
  {
   "cell_type": "markdown",
   "id": "6c9db2bb",
   "metadata": {},
   "source": [
    "### ROC curves"
   ]
  },
  {
   "cell_type": "code",
   "execution_count": null,
   "id": "335c246f",
   "metadata": {},
   "outputs": [
    {
     "data": {
      "image/png": "[encoded data removed]",
      "text/plain": [
       "<Figure size 1200x500 with 2 Axes>"
      ]
     },
     "metadata": {},
     "output_type": "display_data"
    }
   ],
   "source": [
    "from scripts.metrics import plot_roc_curves\n",
    "\n",
    "plot_roc_curves(\n",
    "    true_val, prob_val,\n",
    "    true_aro, prob_aro,\n",
    "    figsize=(12, 5)\n",
    ")"
   ]
  },
  {
   "cell_type": "code",
   "execution_count": null,
   "id": "52c46435",
   "metadata": {},
   "outputs": [],
   "source": []
  }
 ],
 "metadata": {
  "kernelspec": {
   "display_name": "base",
   "language": "python",
   "name": "python3"
  },
  "language_info": {
   "codemirror_mode": {
    "name": "ipython",
    "version": 3
   },
   "file_extension": ".py",
   "mimetype": "text/x-python",
   "name": "python",
   "nbconvert_exporter": "python",
   "pygments_lexer": "ipython3",
   "version": "3.11.7"
  }
 },
 "nbformat": 4,
 "nbformat_minor": 5
}
