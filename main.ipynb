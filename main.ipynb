{
 "cells": [
  {
   "cell_type": "markdown",
   "id": "8324cb64",
   "metadata": {},
   "source": [
    "# Emotion recognition using Deep Recurrent Neural Network"
   ]
  },
  {
   "cell_type": "markdown",
   "id": "29899d7f",
   "metadata": {},
   "source": [
    "## Datasource \n",
    "original source: https://www.eecs.qmul.ac.uk/mmv/datasets/deap/\n",
    "\n",
    "cloned version for easy access: https://umbc.app.box.com/s/dwd0cjorv2mgza78x69l9ptiborzko01\n",
    "\n",
    "\n",
    "(Note: For this project we are going to use `data_preprocessed_python.zip` file.)\n",
    "\n",
    "Instructions:\n",
    "- Download the `data_preprocessed_python.zip` file and extract it inside `data` folder\n",
    "- Download the `participant_ratings.csv` file and place in inside `data/DEAP/labels` folder\n",
    "- Run `pip install -r requirements.txt`\n",
    "- Run `python  ./scripts/preprocess.py` (This will preprocess the raw data and create `bio_normalized` folder to store the preprocessed data)"
   ]
  },
  {
   "cell_type": "code",
   "execution_count": null,
   "id": "03cf1cf9",
   "metadata": {},
   "outputs": [],
   "source": [
    "# import os\n",
    "# os.environ[\"KMP_DUPLICATE_LIB_OK\"]=\"TRUE\""
   ]
  },
  {
   "cell_type": "markdown",
   "id": "0547bfe1",
   "metadata": {},
   "source": [
    "## 🧠 DEAP EEG Dataset Preprocessing Pipeline\n",
    "\n",
    "To prepare the DEAP EEG dataset for deep learning models, we implement a customized preprocessing pipeline using PyTorch. This includes normalization, label transformation into discrete classes, dataset splitting, and data augmentation.\n",
    "\n",
    "---\n",
    "\n",
    "### 🔍 Preprocessing Overview\n",
    "\n",
    "#### 1. **Input Data Structure**\n",
    "- EEG signals are stored as `.npy` files in the shape of `[32, 128]` (1-second segment at 128 Hz).\n",
    "- Each subject has 40 trials, each trial is divided into 60 segments.\n",
    "- Labels (Valence, Arousal) are retrieved from a CSV file and mapped using `(subject_id, trial_id)`.\n",
    "\n",
    "---\n",
    "\n",
    "#### 2. **Normalization**\n",
    "- Each EEG segment is converted to `float32` and normalized per channel.\n",
    "- Z-score normalization is implicitly applied during training.\n",
    "- Additional filtering or preprocessing (e.g., bandpass filter) can be included before loading if required.\n",
    "\n",
    "---\n",
    "\n",
    "### 3. **Label Conversion**\n",
    "Labels are determined based on the `label_type` parameter:\n",
    "\n",
    "- **Valence-only**: Binary classification  \n",
    "  - `0` if valence < 5  \n",
    "  - `1` if valence ≥ 5  \n",
    "\n",
    "- **Arousal-only**: Binary classification  \n",
    "  - `0` if arousal < 5  \n",
    "  - `1` if arousal ≥ 5  \n",
    "\n",
    "- **Combined (4-Class Classification)**: Based on valence and arousal combinations:\n",
    "\n",
    "| Valence | Arousal | Emotion Class     | Label |\n",
    "|---------|---------|-------------------|-------|\n",
    "| High    | High    | Excited/Happy     | 0     |\n",
    "| High    | Low     | Relaxed           | 1     |\n",
    "| Low     | High    | Angry             | 2     |\n",
    "| Low     | Low     | Sad               | 3     |\n",
    "\n",
    "> **Note**: High = score ≥ 5, Low = score < 5\n",
    "\n",
    "---\n",
    "\n",
    "### 4. **Dataset Construction**\n",
    "- EEG segments are loaded using `load_deap_dataset()` for all selected subjects and trials.\n",
    "- Each EEG segment is stored along with its:\n",
    "  - Preprocessed EEG tensor\n",
    "  - Classification label (0–3)\n",
    "  - Raw valence/arousal score\n",
    "\n",
    "- The dataset is split using `train_test_split()`:\n",
    "  - Stratified sampling is used for class balance\n",
    "  - Default: 70% training, 30% validation\n",
    "\n",
    "---\n",
    "\n",
    "### 5. **Data Augmentation**\n",
    "- The custom `DEAP` PyTorch `Dataset` class supports optional augmentation.\n",
    "- If `augment=True`, EEG segments are randomly modified using `augment_eeg()` (e.g., segment mixing, noise injection).\n",
    "- Augmentation is only applied during training.\n",
    "\n",
    "---\n",
    "\n",
    "### ✅ Dataset Generation Functions\n",
    "\n",
    "- `create_train_val_datasets(label_type, label_path, bio_path, subjects, ...)`\n",
    "  - Splits the full dataset into train/val.\n",
    "  - Returns `train_dataset`, `val_dataset`.\n",
    "  - Optionally saves `.pt` files.\n",
    "\n",
    "- `create_test_dataset(label_type, label_path, bio_path, subjects)`\n",
    "  - Returns the test dataset for held-out subjects.\n",
    "\n",
    "---\n",
    "\n",
    "This pipeline ensures that EEG inputs are properly structured, normalized, and split to facilitate effective training of deep learning models on the DEAP dataset.\n"
   ]
  },
  {
   "cell_type": "code",
   "execution_count": null,
   "id": "9fd68cef",
   "metadata": {},
   "outputs": [],
   "source": [
    "import pandas as pd\n",
    "import numpy as np\n",
    "from utils.torch_utils import initialize_torch\n",
    "from configs.runtime import device\n",
    "initialize_torch()"
   ]
  },
  {
   "cell_type": "code",
   "execution_count": null,
   "id": "92aee8f4",
   "metadata": {},
   "outputs": [],
   "source": [
    "from datasets.deap import create_train_val_datasets\n",
    "\n",
    "train_val_eeg, val_val_eeg = create_train_val_datasets(\n",
    "    label_type='valence',\n",
    "    label_path='./data/DEAP/labels',\n",
    "    bio_path='./data/DEAP/bio_normalized',\n",
    "    subjects=list(range(1,6)),\n",
    "    save_datasets=True,\n",
    "    dataset_path='datasets/valence_temp'\n",
    ")\n",
    "\n",
    "train_aro_eeg, val_aro_eeg = create_train_val_datasets(\n",
    "    label_type='arousal',\n",
    "    label_path='./data/DEAP/labels',\n",
    "    bio_path='./data/DEAP/bio_normalized',\n",
    "    subjects=list(range(1,6)),\n",
    "    save_datasets=True,\n",
    "    dataset_path='datasets/arousal_temp'\n",
    ")"
   ]
  },
  {
   "cell_type": "code",
   "execution_count": null,
   "id": "86716092",
   "metadata": {},
   "outputs": [],
   "source": [
    "len(train_val_eeg), len(val_val_eeg)"
   ]
  },
  {
   "cell_type": "code",
   "execution_count": null,
   "id": "e2b5dfe7",
   "metadata": {},
   "outputs": [],
   "source": [
    "len(train_aro_eeg), len(val_aro_eeg)"
   ]
  },
  {
   "cell_type": "code",
   "execution_count": null,
   "id": "ecf411a5",
   "metadata": {},
   "outputs": [],
   "source": [
    "from collections import Counter\n",
    "\n",
    "def print_label_distribution(dataset, name):\n",
    "    labels = []\n",
    "    for i in range(len(dataset)):\n",
    "        data = dataset[i]\n",
    "        if data is not None:\n",
    "            _, label, _ = data\n",
    "            labels.append(int(label.item()))\n",
    "    counter = Counter(labels)\n",
    "    total = sum(counter.values())\n",
    "    print(f\"{name} label distribution:\")\n",
    "    for label, count in sorted(counter.items()):\n",
    "        print(f\"  Label {label}: {count} samples ({count/total:.2%})\")\n",
    "    print()\n",
    "\n",
    "# Call the function on each dataset\n",
    "print_label_distribution(train_val_eeg, \"Train\")\n",
    "print_label_distribution(val_val_eeg, \"Validation\")"
   ]
  },
  {
   "cell_type": "markdown",
   "id": "6d2227b6",
   "metadata": {},
   "source": [
    "## Let's plot distribution of Valance and Arousel"
   ]
  },
  {
   "cell_type": "code",
   "execution_count": null,
   "id": "d3f732a2",
   "metadata": {},
   "outputs": [],
   "source": [
    "import matplotlib.pyplot as plt\n",
    "import pandas as pd\n",
    "\n",
    "# For 32 subjects × 40 trials × 60 segments\n",
    "\n",
    "\n",
    "def plot_label_histograms(labels_csv = \"./data/DEAP/labels/participant_ratings.csv\"):\n",
    "    val_aro_list = []\n",
    "    df  = pd.read_csv(labels_csv)\n",
    "    for _, row in df.iterrows():\n",
    "        val = row['Valence']\n",
    "        aro = row['Arousal']\n",
    "        val_aro_list.extend([[val, aro]] * 60)  # Repeat for 60 segments\n",
    "\n",
    "    valence_arousal_array = np.array(val_aro_list)\n",
    "    label_names = ['Valence', 'Arousal']\n",
    "    plt.figure(figsize=(12, 6))\n",
    "    for i in range(2):\n",
    "        plt.subplot(2, 2, i + 1)\n",
    "        plt.hist(valence_arousal_array[:, i], bins=20, color='skyblue', edgecolor='black')\n",
    "        plt.title(f'{label_names[i]} Distribution')\n",
    "        plt.xlabel('Score')\n",
    "        plt.ylabel('Frequency')\n",
    "    plt.tight_layout()\n",
    "\n",
    "plot_label_histograms()"
   ]
  },
  {
   "cell_type": "markdown",
   "id": "72f25354",
   "metadata": {},
   "source": [
    "## Plotting emotion distribution"
   ]
  },
  {
   "cell_type": "code",
   "execution_count": null,
   "id": "08f7ebfd",
   "metadata": {},
   "outputs": [],
   "source": [
    "def plot_emotions(labels_csv = \"./data/DEAP/labels/participant_ratings.csv\"):\n",
    "    val_aro_list = []\n",
    "    df  = pd.read_csv(labels_csv)\n",
    "    for _, row in df.iterrows():\n",
    "        val = row['Valence']\n",
    "        aro = row['Arousal']\n",
    "        val_aro_list.extend([[val, aro]] * 60)  # Repeat for 60 segments\n",
    "\n",
    "    valence_arousal_array = np.array(val_aro_list)\n",
    "    valence = valence_arousal_array[:, 0]\n",
    "    arousal = valence_arousal_array[:, 1]\n",
    "\n",
    "    def create_4class_labels(valence, arousal):\n",
    "        classes = []\n",
    "        for v, a in zip(valence, arousal):\n",
    "            if v > 5 and a > 5:\n",
    "                classes.append(0)  # Excited/Happy\n",
    "            elif v <= 5 and a > 5:\n",
    "                classes.append(1)  # Angry\n",
    "            elif v <= 5 and a <= 5:\n",
    "                classes.append(2)  # Sad\n",
    "            else:\n",
    "                classes.append(3)  # Relaxed\n",
    "        return np.array(classes)\n",
    "\n",
    "    emotion_classes = create_4class_labels(valence, arousal)\n",
    "    class_names = [\"Excited/Happy\", \"Angry\", \"Sad\", \"Relaxed\"]\n",
    "    colors = [\"gold\", \"red\", \"blue\", \"green\"]\n",
    "\n",
    "    # Plot\n",
    "    plt.figure(figsize=(8, 6))\n",
    "    for cls in range(4):\n",
    "        idx = emotion_classes == cls\n",
    "        plt.scatter(valence[idx], arousal[idx], label=class_names[cls], alpha=0.6, s=30, color=colors[cls])\n",
    "\n",
    "    plt.axhline(y=5, color='black', linestyle='--', linewidth=0.8)\n",
    "    plt.axvline(x=5, color='black', linestyle='--', linewidth=0.8)\n",
    "    plt.xlabel(\"Valence\")\n",
    "    plt.ylabel(\"Arousal\")\n",
    "    plt.title(\"Valence vs Arousal Cluster Plot (DEAP)\")\n",
    "    plt.legend()\n",
    "    plt.grid(True)\n",
    "    plt.show()\n",
    "\n",
    "plot_emotions()"
   ]
  },
  {
   "cell_type": "markdown",
   "id": "607875f7",
   "metadata": {},
   "source": [
    "## Plotting signals from first 4 channels for first trial"
   ]
  },
  {
   "cell_type": "code",
   "execution_count": null,
   "id": "d5c78116",
   "metadata": {},
   "outputs": [],
   "source": [
    "def plot_eeg_sample(data, labels, channels=[0, 1, 2]):\n",
    "    seconds = 1\n",
    "    sampling_rate = 128\n",
    "    time = np.linspace(0, seconds, seconds * sampling_rate)\n",
    "    plt.figure(figsize=(12, 6))\n",
    "    for i, ch in enumerate(channels):\n",
    "        plt.subplot(len(channels), 1, i + 1)\n",
    "        plt.plot(time, data[ch, :seconds * sampling_rate])\n",
    "        plt.title(f'Channel {ch}')\n",
    "        plt.xlabel('Time (s)')\n",
    "        plt.ylabel('Amplitude')\n",
    "    plt.suptitle(f\"Activity in EEG channels {channels} for Valance({labels[0]}) & Arousel ({labels[1]}) \")\n",
    "    plt.tight_layout()\n",
    "    plt.show()\n",
    "\n",
    "data = train_val_eeg[0][0]\n",
    "labels = train_val_eeg[0][2]\n",
    "# \n",
    "plot_eeg_sample(data, labels, channels=[0,1,2,3])\n"
   ]
  },
  {
   "cell_type": "markdown",
   "id": "4fb5e922",
   "metadata": {},
   "source": [
    "## Model initialization\n",
    "\n",
    "For this project we decided to use modified Chrononet which is a A Deep Recurrent Neural Network"
   ]
  },
  {
   "attachments": {
    "image.png": {
     "image/png": "[encoded data removed]"
    }
   },
   "cell_type": "markdown",
   "id": "d175df3c",
   "metadata": {},
   "source": [
    "Original model:\n",
    "\n",
    "![image.png](attachment:image.png)\n",
    "\n",
    "Reference : (https://arxiv.org/pdf/1802.00308)"
   ]
  },
  {
   "cell_type": "code",
   "execution_count": null,
   "id": "68ada087",
   "metadata": {},
   "outputs": [],
   "source": [
    "from models.chrononet import ChronoNet\n",
    "from torch import nn\n",
    "import torch\n",
    "from utils.early_stopping import EarlyStopping\n",
    "from scripts.train import run_training"
   ]
  },
  {
   "cell_type": "markdown",
   "id": "f98bf918",
   "metadata": {},
   "source": [
    "### 📊 ChronoNet Hyperparameters – Arousal Classification\n",
    "\n",
    "| Hyperparameter         | Value                                                 |\n",
    "|------------------------|-------------------------------------------------------|\n",
    "| Model                  | ChronoNet                                              |\n",
    "| Input Channels         | 32                                                    |\n",
    "| Conv Output Channels   | 32                                                    |\n",
    "| GRU Hidden Size        | 64                                                    |\n",
    "| Loss Function          | BCEWithLogitsLoss                                     |\n",
    "| Optimizer              | AdamW                                                 |\n",
    "| Learning Rate          | 1e-3                                                  |\n",
    "| Weight Decay           | 1e-4                                                  |\n",
    "| LR Scheduler           | ReduceLROnPlateau (patience=3, mode='min')           |\n",
    "| Early Stopping         | Patience = 20 (mode='max')                            |\n",
    "| Batch Size             | 32                                                    |\n",
    "| Epochs                 | 100                                                   |\n",
    "| Checkpoint Path        | `checkpoints/chrononet_aro`                           |\n",
    "| Result CSV             | `results/history_aro.csv`                             |"
   ]
  },
  {
   "cell_type": "code",
   "execution_count": null,
   "id": "1112f073",
   "metadata": {},
   "outputs": [],
   "source": [
    "model = ChronoNet(in_channels=32, conv_out_channels=32, gru_hidden_size=64, is_binary=True, num_classes=2,)\n",
    "loss_fn = nn.BCEWithLogitsLoss()\n",
    "optimizer = torch.optim.AdamW(model.parameters(), lr=1e-3, weight_decay=1e-4) \n",
    "lr_schedule = torch.optim.lr_scheduler.ReduceLROnPlateau(optimizer, patience=3, mode='min')\n",
    "early_stopping = EarlyStopping(patience=20, mode='max')\n",
    "\n",
    "trained_model_aro, history_aro = run_training(\n",
    "    model=model,\n",
    "    train_dataset=train_aro_eeg,\n",
    "    val_dataset=val_aro_eeg,\n",
    "    loss_fn=loss_fn,\n",
    "    optimizer=optimizer,\n",
    "    lr_schedule=lr_schedule,\n",
    "    early_stopping=early_stopping,\n",
    "    device=device,\n",
    "    batch_size=32,\n",
    "    epochs=100,\n",
    "    model_destination='checkpoints/chrononet_aro',\n",
    ")\n",
    "# Saving results\n",
    "history_aro.to_csv('results/history_aro.csv')"
   ]
  },
  {
   "cell_type": "markdown",
   "id": "78b33346",
   "metadata": {},
   "source": [
    "### 📊 ChronoNet Hyperparameters – Valence Classification\n",
    "\n",
    "| Hyperparameter         | Value                                                 |\n",
    "|------------------------|-------------------------------------------------------|\n",
    "| Model                  | ChronoNet                                              |\n",
    "| Input Channels         | 32                                                    |\n",
    "| Conv Output Channels   | 32                                                    |\n",
    "| GRU Hidden Size        | 64                                                    |\n",
    "| Loss Function          | BCEWithLogitsLoss                                     |\n",
    "| Optimizer              | AdamW                                                 |\n",
    "| Learning Rate          | 1e-3                                                  |\n",
    "| Weight Decay           | 1e-4                                                  |\n",
    "| LR Scheduler           | ReduceLROnPlateau (patience=3, mode='min')           |\n",
    "| Early Stopping         | Patience = 20 (mode='max')                            |\n",
    "| Batch Size             | 32                                                    |\n",
    "| Epochs                 | 100                                                   |\n",
    "| Checkpoint Path        | `checkpoints/chrononet_val`                           |\n",
    "| Result CSV             | `results/history_val.csv`                             |\n"
   ]
  },
  {
   "cell_type": "code",
   "execution_count": null,
   "id": "d258eef5",
   "metadata": {},
   "outputs": [],
   "source": [
    "model = ChronoNet(in_channels=32, conv_out_channels=32, gru_hidden_size=64, is_binary=True, num_classes=2,)\n",
    "loss_fn = nn.BCEWithLogitsLoss()\n",
    "optimizer = torch.optim.AdamW(model.parameters(), lr=1e-3, weight_decay=1e-4) \n",
    "lr_schedule = torch.optim.lr_scheduler.ReduceLROnPlateau(optimizer, patience=3, mode='min')\n",
    "early_stopping = EarlyStopping(patience=20, mode='max')\n",
    "\n",
    "trained_model_val, history_val = run_training(\n",
    "    model=model,\n",
    "    train_dataset=train_val_eeg,\n",
    "    val_dataset=val_val_eeg,\n",
    "    loss_fn=loss_fn,\n",
    "    optimizer=optimizer,\n",
    "    lr_schedule=lr_schedule,\n",
    "    early_stopping=early_stopping,\n",
    "    device=device,\n",
    "    batch_size=32,\n",
    "    epochs=100,\n",
    "    model_destination='checkpoints/chrononet_val',\n",
    ")\n",
    "\n",
    "# Saving results\n",
    "history_val.to_csv('results/history_val.csv')"
   ]
  },
  {
   "cell_type": "markdown",
   "id": "15b3dc97",
   "metadata": {},
   "source": [
    "### Training Report :"
   ]
  },
  {
   "cell_type": "code",
   "execution_count": null,
   "id": "55fce592",
   "metadata": {},
   "outputs": [],
   "source": [
    "import matplotlib.pyplot as plt\n",
    "\n",
    "fig, axs = plt.subplots(2, 2, figsize=(12, 8))\n",
    "fig.suptitle('Training and Validation Metrics for Valence and Arousal', fontsize=14)\n",
    "\n",
    "# Valence Loss\n",
    "axs[0, 0].plot(history_val['train_loss'], label='Train Loss')\n",
    "axs[0, 0].plot(history_val['val_loss'], label='Validation Loss')\n",
    "axs[0, 0].set_title('Valence Loss')\n",
    "axs[0, 0].set_xlabel('Epochs')\n",
    "axs[0, 0].set_ylabel('Loss')\n",
    "axs[0, 0].legend()\n",
    "\n",
    "# Valence Accuracy\n",
    "axs[0, 1].plot(history_val['train_acc'], label='Train Accuracy')\n",
    "axs[0, 1].plot(history_val['val_acc'], label='Validation Accuracy')\n",
    "axs[0, 1].set_title('Valence Accuracy')\n",
    "axs[0, 1].set_xlabel('Epochs')\n",
    "axs[0, 1].set_ylabel('Accuracy')\n",
    "axs[0, 1].legend()\n",
    "\n",
    "# Arousal Loss\n",
    "axs[1, 0].plot(history_aro['train_loss'], label='Train Loss')\n",
    "axs[1, 0].plot(history_aro['val_loss'], label='Validation Loss')\n",
    "axs[1, 0].set_title('Arousal Loss')\n",
    "axs[1, 0].set_xlabel('Epochs')\n",
    "axs[1, 0].set_ylabel('Loss')\n",
    "axs[1, 0].legend()\n",
    "\n",
    "# Arousal Accuracy\n",
    "axs[1, 1].plot(history_aro['train_acc'], label='Train Accuracy')\n",
    "axs[1, 1].plot(history_aro['val_acc'], label='Validation Accuracy')\n",
    "axs[1, 1].set_title('Arousal Accuracy')\n",
    "axs[1, 1].set_xlabel('Epochs')\n",
    "axs[1, 1].set_ylabel('Accuracy')\n",
    "axs[1, 1].legend()\n",
    "\n",
    "plt.tight_layout(rect=[0, 0.03, 1, 0.95])\n",
    "plt.show()"
   ]
  },
  {
   "cell_type": "markdown",
   "id": "22f2073c",
   "metadata": {},
   "source": [
    "## Results\n",
    "\n",
    "### Testing network on Subjects number **31** and **32**"
   ]
  },
  {
   "cell_type": "code",
   "execution_count": null,
   "id": "85926e60",
   "metadata": {},
   "outputs": [],
   "source": [
    "from scripts.test import predict\n",
    "from datasets.deap import DEAP, load_deap_dataset\n",
    "\n",
    "test_valence_data, test_valence_labels, test_valence_values  = load_deap_dataset(\n",
    "    label_type='valence',\n",
    "    label_path='./data/DEAP/labels',\n",
    "    bio_path='./data/DEAP/bio_normalized',\n",
    "    subjects=list(range(31, 33))\n",
    ")\n",
    "test_valence_dataset = DEAP(test_valence_data, torch.tensor(test_valence_labels, dtype=torch.long), test_valence_values, augment=False)\n",
    "\n",
    "test_arousal_data, test_arousal_labels, test_arousal_values = load_deap_dataset(\n",
    "    label_type='arousal',\n",
    "    label_path='./data/DEAP/labels',\n",
    "    bio_path='./data/DEAP/bio_normalized',\n",
    "    subjects=list(range(31, 33))\n",
    ")\n",
    "test_arousal_dataset = DEAP(test_arousal_data, torch.tensor(test_arousal_labels, dtype=torch.long), test_arousal_values, augment=False)\n",
    "\n",
    "\n",
    "\n",
    "pred_val, prob_val, true_val  = predict(model, test_valence_dataset, device, batch_size=64, return_probs=True)\n",
    "\n",
    "# from scripts.test import predict\n",
    "pred_aro, prob_aro, true_aro  = predict(model, test_arousal_dataset, device, batch_size=64, return_probs=True)"
   ]
  },
  {
   "cell_type": "markdown",
   "id": "5d8ff132",
   "metadata": {},
   "source": [
    "### Arousal Report"
   ]
  },
  {
   "cell_type": "code",
   "execution_count": null,
   "id": "a1801f3d",
   "metadata": {},
   "outputs": [],
   "source": [
    "from sklearn.metrics import classification_report\n",
    "print(classification_report(pred_aro, true_aro, target_names=['Low Arousal', 'High Arousal']))"
   ]
  },
  {
   "cell_type": "markdown",
   "id": "8c255bb0",
   "metadata": {},
   "source": [
    "### Valence Report"
   ]
  },
  {
   "cell_type": "code",
   "execution_count": null,
   "id": "29ca98c0",
   "metadata": {},
   "outputs": [],
   "source": [
    "from sklearn.metrics import classification_report\n",
    "print(classification_report(pred_val, true_val, target_names=['Low Valence', 'High Valence']))"
   ]
  },
  {
   "cell_type": "markdown",
   "id": "4f835256",
   "metadata": {},
   "source": [
    "### Confusion Matrix"
   ]
  },
  {
   "cell_type": "code",
   "execution_count": null,
   "id": "e6553c15",
   "metadata": {},
   "outputs": [],
   "source": [
    "from scripts.metrics import plot_confusion_matrix\n",
    "\n",
    "plot_confusion_matrix(\n",
    "    true_val, pred_val,\n",
    "    class_names=['Low Valence', 'High Valence'],\n",
    "    title='Confusion Matrix for Valence'\n",
    ")\n",
    "\n",
    "plot_confusion_matrix(\n",
    "    true_aro, pred_aro,\n",
    "    class_names=['Low Arousal', 'High Arousal'],\n",
    "    title='Confusion Matrix for Arousal'\n",
    ")"
   ]
  }
 ],
 "metadata": {
  "kernelspec": {
   "display_name": "base",
   "language": "python",
   "name": "python3"
  },
  "language_info": {
   "codemirror_mode": {
    "name": "ipython",
    "version": 3
   },
   "file_extension": ".py",
   "mimetype": "text/x-python",
   "name": "python",
   "nbconvert_exporter": "python",
   "pygments_lexer": "ipython3",
   "version": "3.11.7"
  }
 },
 "nbformat": 4,
 "nbformat_minor": 5
}
